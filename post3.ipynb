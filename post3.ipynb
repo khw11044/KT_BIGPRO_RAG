{
 "cells": [
  {
   "cell_type": "markdown",
   "metadata": {},
   "source": [
    "# RAG pipeline 구축하기 3\n",
    "\n",
    "\n",
    "Rag pipeline을 만들고 각 함수를 손쉽게 사용해보자\n",
    "\n",
    "이번 포스팅에는 Retrieval를 통해 VectorDB의 정보를 잘 검색하여 가져오고 \n",
    "\n",
    "그 내용으로 LLM이 질문에 대한 답변을 생성하는 부분을 추가해본다.\n"
   ]
  },
  {
   "cell_type": "markdown",
   "metadata": {},
   "source": [
    "## 0. Setting \n",
    "\n",
    ".env 파일을 만들어 API키들을 넣어준다. \n",
    "\n",
    "나중에 Ollema를 사용해서 API 없이 local에서 작동가능한 LLM을 사용해 보자.\n",
    "\n"
   ]
  },
  {
   "cell_type": "markdown",
   "metadata": {},
   "source": [
    "```bash\n",
    "OPENAI_API_KEY='sk-proj-5m5haMMQ0Sgkctb7Udixxxxx'\n",
    "\n",
    "\n",
    "```"
   ]
  },
  {
   "cell_type": "code",
   "execution_count": 1,
   "metadata": {},
   "outputs": [
    {
     "data": {
      "text/plain": [
       "True"
      ]
     },
     "execution_count": 1,
     "metadata": {},
     "output_type": "execute_result"
    }
   ],
   "source": [
    "# API KEY를 환경변수로 관리하기 위한 설정 파일\n",
    "from dotenv import load_dotenv\n",
    "# API KEY 정보로드\n",
    "load_dotenv()"
   ]
  },
  {
   "cell_type": "markdown",
   "metadata": {},
   "source": [
    "## 1. RAG pipeline - Chat "
   ]
  },
  {
   "cell_type": "code",
   "execution_count": 2,
   "metadata": {},
   "outputs": [],
   "source": [
    "# langchain_openai에서 ChatOpenAI(LLM)과 OpenAIEmbeddings(임베딩모델: text를 vector화하는 모델)을 load\n",
    "from langchain_openai import ChatOpenAI, OpenAIEmbeddings\n",
    "\n",
    "# PDF파일등 데이터를 Chroma형식의 vectorDB에 저장하고 리트리버가 수집한 데이터에 접근하기 위해 Chroma를 load\n",
    "from langchain_community.vectorstores import Chroma\n",
    "\n",
    "# 우리가 만든 config.py에서 모델등 옵션들을 수정\n",
    "from utils.config import config, metadata_field_info\n",
    "\n",
    "# 추가 데이터를 업로드하기 위해 file을 다큐먼트로 만들고 (convert_file_to_documents) 다큐먼트를 자르는 (split_document) 함수를 load합니다.\n",
    "from utils.update import convert_file_to_documents\n",
    "\n",
    "from langchain.retrievers.multi_query import MultiQueryRetriever\n",
    "from langchain.retrievers.self_query.base import SelfQueryRetriever\n",
    "# Ensemble retriever\n",
    "from langchain.retrievers import EnsembleRetriever\n",
    "from langchain_community.retrievers import BM25Retriever\n",
    "import pickle"
   ]
  },
  {
   "cell_type": "markdown",
   "metadata": {},
   "source": [
    "## 먼저 아래는 이전 게시물에서 Retriever만 있는 RAGPipeline이다."
   ]
  },
  {
   "cell_type": "code",
   "execution_count": 3,
   "metadata": {},
   "outputs": [],
   "source": [
    "class Ragpipeline:\n",
    "    def __init__(self):\n",
    "        # chatGPT API를 통해 llm 모델 로드\n",
    "        self.llm = ChatOpenAI(\n",
    "            model=config[\"llm_predictor\"][\"model_name\"],  # chatgpt 모델 이름\n",
    "            temperature=config[\"llm_predictor\"][\"temperature\"],  # 창의성 0~1\n",
    "        )\n",
    "        \n",
    "        # 초기화 리스트들 \n",
    "        self.vector_store   = self.init_vectorDB()                  # 1. RAG가 접근할 vectorDB를 초기화합니다.\n",
    "        self.retriever      = self.init_retriever()                 # 2. LLM이 질문에 대한 답변을 생성하기 전 질문에 관련된 컨텐츠 기반 답변을 생성하기 위해, 컨텐츠를 검색해 찾는 리트리버를 초기화 합니다. \n",
    "        self.bm25_retriever = self.init_bm25_retriever()\n",
    "        self.ensemble_retriever = self.init_ensemble_retriever()\n",
    "        self.mq_ensemble_retriever = self.init_mq_ensemble_retriever()\n",
    "\n",
    "    def init_vectorDB(self, persist_directory=config[\"chroma\"][\"persist_dir\"]):\n",
    "        \"\"\"vectorDB 설정\"\"\"\n",
    "        embeddings = OpenAIEmbeddings(model=config[\"embed_model\"][\"model_name\"])  # VectorDB에 저장될 데이터를 임베딩할 모델을 선언합니다.\n",
    "        vector_store = Chroma(\n",
    "            persist_directory=persist_directory,  # 기존에 vectordb가 있으면 해당 위치의 vectordb를 load하고 없으면 새로 생성합니다.\n",
    "            embedding_function=embeddings,                      # 새롭게 데이터가 vectordb에 넣어질때 사용할 임베딩 방식을 정합니다, 저희는 위에서 선언한 embeddings를 사용합니다.\n",
    "            collection_name = 'india',                          # india라는 이름을 정해줌으로써 나중에 vector store 관리 가능 \n",
    "            collection_metadata = {'hnsw:space': 'cosine'},     # cosine 말고 l2 가 default / collection_metadata를 통해 유사도 검색에 사용될 공간('hnsw:space')을 'cosine'으로 지정하여, 코사인 유사도를 사용\n",
    "        )\n",
    "        return vector_store\n",
    "\n",
    "    def init_retriever(self):            \n",
    "        # base retriever 3 \n",
    "        retriever = self.vector_store.as_retriever(\n",
    "            search_type=\"mmr\",                                              # mmr 검색 방법으로 \n",
    "            search_kwargs={'fetch_k': 10, \"k\": 5, 'lambda_mult': 0.4},      # 상위 10개의 관련 context에서 최종 5개를 추리고 'lambda_mult'는 관련성과 다양성 사이의 균형을 조정하는 파라메타 default 값이 0.5\n",
    "        )\n",
    "        return retriever\n",
    "    \n",
    "    def init_bm25_retriever(self):\n",
    "        all_docs = pickle.load(open(config[\"pkl_path\"], 'rb'))\n",
    "        bm25_retriever = BM25Retriever.from_documents(all_docs)\n",
    "        bm25_retriever.k = 1                                            # BM25Retriever의 검색 결과 개수를 1로 설정합니다.\n",
    "        return bm25_retriever\n",
    "    \n",
    "    def init_ensemble_retriever(self):\n",
    "        ensemble_retriever = EnsembleRetriever(\n",
    "            retrievers=[self.bm25_retriever, self.retriever],\n",
    "            weights=[0.4, 0.6],\n",
    "            search_type=config[\"ensemble_search_type\"],  # mmr\n",
    "        )\n",
    "        return ensemble_retriever\n",
    "    \n",
    "    # 멀티쿼리 - 앙상블\n",
    "    def init_mq_ensemble_retriever(self):\n",
    "        mq_ensemble_retriever = MultiQueryRetriever.from_llm(\n",
    "            llm=self.llm,\n",
    "            retriever=self.ensemble_retriever\n",
    "        )\n",
    "        return mq_ensemble_retriever\n",
    "    \n"
   ]
  },
  {
   "cell_type": "code",
   "execution_count": 4,
   "metadata": {},
   "outputs": [],
   "source": [
    "pipeline = Ragpipeline()"
   ]
  },
  {
   "cell_type": "markdown",
   "metadata": {},
   "source": [
    "## 이제, 이전 게시물에서 만든 RAGpipeline 이후에 chat 부분을 추가해준다."
   ]
  },
  {
   "cell_type": "markdown",
   "metadata": {},
   "source": [
    "utils에 prompt.py에 프롬프트를 작성해줍니다."
   ]
  },
  {
   "cell_type": "code",
   "execution_count": 3,
   "metadata": {},
   "outputs": [],
   "source": [
    "from langchain.chains import create_history_aware_retriever, create_retrieval_chain\n",
    "from langchain.chains.combine_documents import create_stuff_documents_chain\n",
    "from langchain_core.runnables.history import RunnableWithMessageHistory\n",
    "from langchain_community.chat_message_histories import ChatMessageHistory\n",
    "from langchain.schema import HumanMessage\n",
    "\n",
    "from utils.redis_utils import save_message_to_redis, get_messages_from_redis\n",
    "from utils.prompt import *"
   ]
  },
  {
   "cell_type": "code",
   "execution_count": 6,
   "metadata": {},
   "outputs": [],
   "source": [
    "# 한 이유: 현재 대화가 이어지도록 하면서 검색기가 가져온 정보들을 바탕으로 대화 할 수 있게 하기 위해서\n",
    "def init_chat_chain(self):\n",
    "    # 참고 링크 : https://python.langchain.com/v0.1/docs/modules/chains/\n",
    "    \n",
    "    # 1. 이어지는 대화가 되도록 대화기록과 체인\n",
    "    history_aware_retriever = create_history_aware_retriever(           # llm과 retriever, 그리고 prompt를 연결한다. 이 체인은 대화 기록을 가져온 다음 이를 사용하여 기본 검색기에 전달되는 검색어를 생성합니다.\n",
    "        self.llm, self.retriever, contextualize_q_prompt                # contextualize_q_prompt의 주요 목표는 사용자의 질문을 이해하기 쉽게 다시 작성하는 것입니다. 전반적으로 대화 맥락을 이해합니다.\n",
    "    )\n",
    "    \n",
    "    # 2. 문서들의 내용을 답변할 수 있도록 리트리버와 체인\n",
    "    question_answer_chain = create_stuff_documents_chain(               # prompt와 llm을 연결하여 나중에 리트리버가 제공하는 문서의 내용들과 연결될 준비를 시켜놓습니다. \n",
    "        self.llm, qa_prompt)\n",
    "    \n",
    "    #. 1번과 2번을 서로 체인\n",
    "    rag_chat_chain = create_retrieval_chain(                            # 이 체인은 사용자 쿼리를 받아 retriever에게 전달되어 관련 문서를 가져옵니다. 그런 다음 해당 문서(및 원래 입력)가 LLM으로 전달되어 응답을 생성합니다.\n",
    "        history_aware_retriever, question_answer_chain)\n",
    "    \n",
    "    print(\"[초기화] RAG chain 초기화 완료\")\n",
    "    return rag_chat_chain"
   ]
  },
  {
   "cell_type": "code",
   "execution_count": 7,
   "metadata": {},
   "outputs": [],
   "source": [
    "# 한 이유: 사용자별 대화 세션을 관리해주고 이어서 대화가 될 수 있게 해주기 위해 \n",
    "def chat_generation(self, question: str) -> dict:\n",
    "    def get_session_history(session_id=None, user_email=None):\n",
    "        session_id = session_id if session_id else self.current_session_id\n",
    "        user_email = user_email if user_email else self.current_user_email\n",
    "\n",
    "        if session_id not in self.session_histories:\n",
    "            self.session_histories[session_id] = ChatMessageHistory()\n",
    "            # Redis에서 세션 히스토리 불러오기\n",
    "            history_messages = get_messages_from_redis(user_email, session_id)\n",
    "            for message in history_messages:\n",
    "                self.session_histories[session_id].add_message(HumanMessage(content=message))\n",
    "                \n",
    "        return self.session_histories[session_id]\n",
    "\n",
    "    final_chain = self.chain\n",
    "\n",
    "    # 특정 유형의 작업(체인)에 메시지 기록을 추가, 대화형 애플리케이션 또는 복잡한 데이터 처리 작업을 구현할 때 이전 메시지의 맥락을 유지해야 할 필요가 있을 때 유용\n",
    "    conversational_rag_chain = RunnableWithMessageHistory(      \n",
    "        final_chain,                                # 실행할 Runnable 객체\n",
    "        get_session_history,                        # 세션 기록을 가져오는 함수\n",
    "        input_messages_key=\"input\",                 # 입력 메시지의 키\n",
    "        history_messages_key=\"chat_history\",        # 기록 메시지의 키\n",
    "        output_messages_key=\"answer\"                # 출력 메시지의 키 \n",
    "    )\n",
    "    response = conversational_rag_chain.invoke(\n",
    "        {\"input\": question},\n",
    "        config={\"configurable\": {\"session_id\": self.current_session_id}}            # 같은 session_id 를 입력하면 이전 대화 스레드의 내용을 가져오기 때문에 이어서 대화가 가능!\n",
    "    )\n",
    "\n",
    "    # Redis에 세션 히스토리 저장\n",
    "    save_message_to_redis(self.current_user_email, self.current_session_id, question)\n",
    "    save_message_to_redis(self.current_user_email, self.current_session_id, response[\"answer\"])\n",
    "    \n",
    "    return response"
   ]
  },
  {
   "cell_type": "markdown",
   "metadata": {},
   "source": [
    "### 위 내용을 이제 CLASS안에 넣어봅시다."
   ]
  },
  {
   "cell_type": "code",
   "execution_count": 7,
   "metadata": {},
   "outputs": [],
   "source": [
    "class Ragpipeline:\n",
    "    def __init__(self):\n",
    "        # chatGPT API를 통해 llm 모델 로드\n",
    "        self.llm = ChatOpenAI(\n",
    "            model=config[\"llm_predictor\"][\"model_name\"],  # chatgpt 모델 이름\n",
    "            temperature=config[\"llm_predictor\"][\"temperature\"],  # 창의성 0~1\n",
    "        )\n",
    "        \n",
    "        # 초기화 리스트들 \n",
    "        self.vector_store   = self.init_vectorDB()                  \n",
    "        self.retriever      = self.init_retriever()                \n",
    "        self.bm25_retriever = self.init_bm25_retriever()\n",
    "        self.ensemble_retriever = self.init_ensemble_retriever()\n",
    "        self.mq_ensemble_retriever = self.init_mq_ensemble_retriever()\n",
    "        self.chain          = self.init_chat_chain()\n",
    "        \n",
    "        self.session_histories = {}\n",
    "        self.current_user_email = None\n",
    "        self.current_session_id = None\n",
    "\n",
    "    def init_vectorDB(self, persist_directory=config[\"chroma\"][\"persist_dir\"]):\n",
    "        \"\"\"vectorDB 설정\"\"\"\n",
    "        embeddings = OpenAIEmbeddings(model=config[\"embed_model\"][\"model_name\"])  # VectorDB에 저장될 데이터를 임베딩할 모델을 선언합니다.\n",
    "        vector_store = Chroma(\n",
    "            persist_directory=persist_directory,  # 기존에 vectordb가 있으면 해당 위치의 vectordb를 load하고 없으면 새로 생성합니다.\n",
    "            embedding_function=embeddings,                      # 새롭게 데이터가 vectordb에 넣어질때 사용할 임베딩 방식을 정합니다, 저희는 위에서 선언한 embeddings를 사용합니다.\n",
    "            collection_name = 'india',                          # india라는 이름을 정해줌으로써 나중에 vector store 관리 가능 \n",
    "            collection_metadata = {'hnsw:space': 'cosine'},     # cosine 말고 l2 가 default / collection_metadata를 통해 유사도 검색에 사용될 공간('hnsw:space')을 'cosine'으로 지정하여, 코사인 유사도를 사용\n",
    "        )\n",
    "        return vector_store\n",
    "\n",
    "    def init_retriever(self):            \n",
    "        # base retriever 3 \n",
    "        retriever = self.vector_store.as_retriever(\n",
    "            search_type=\"mmr\",                                              # mmr 검색 방법으로 \n",
    "            search_kwargs={'fetch_k': 5, \"k\": 2, 'lambda_mult': 0.4},      # 상위 10개의 관련 context에서 최종 5개를 추리고 'lambda_mult'는 관련성과 다양성 사이의 균형을 조정하는 파라메타 default 값이 0.5\n",
    "        )\n",
    "        return retriever\n",
    "    \n",
    "    def init_bm25_retriever(self):\n",
    "        all_docs = pickle.load(open(config[\"pkl_path\"], 'rb'))\n",
    "        bm25_retriever = BM25Retriever.from_documents(all_docs)\n",
    "        bm25_retriever.k = 1                                            # BM25Retriever의 검색 결과 개수를 1로 설정합니다.\n",
    "        return bm25_retriever\n",
    "    \n",
    "    def init_ensemble_retriever(self):\n",
    "        ensemble_retriever = EnsembleRetriever(\n",
    "            retrievers=[self.bm25_retriever, self.retriever],\n",
    "            weights=[0.4, 0.6],\n",
    "            search_type=config[\"ensemble_search_type\"],  # mmr\n",
    "        )\n",
    "        return ensemble_retriever\n",
    "    \n",
    "    # 멀티쿼리 - 앙상블\n",
    "    def init_mq_ensemble_retriever(self):\n",
    "        mq_ensemble_retriever = MultiQueryRetriever.from_llm(\n",
    "            llm=self.llm,\n",
    "            retriever=self.ensemble_retriever\n",
    "        )\n",
    "        return mq_ensemble_retriever\n",
    "    \n",
    "    def init_chat_chain(self):\n",
    "        # 1. 이어지는 대화가 되도록 대화기록과 체인\n",
    "        history_aware_retriever = create_history_aware_retriever(self.llm, self.mq_ensemble_retriever, contextualize_q_prompt)      # self.mq_ensemble_retriever\n",
    "        # 2. 문서들의 내용을 답변할 수 있도록 리트리버와 체인\n",
    "        question_answer_chain = create_stuff_documents_chain(self.llm, qa_prompt)\n",
    "        # 3. 1과 2를 합침\n",
    "        rag_chat_chain = create_retrieval_chain(history_aware_retriever, question_answer_chain)\n",
    "        \n",
    "        return rag_chat_chain\n",
    "    \n",
    "    def chat_generation(self, question: str) -> dict:\n",
    "        def get_session_history(session_id=None, user_email=None):\n",
    "            session_id = session_id if session_id else self.current_session_id\n",
    "            user_email = user_email if user_email else self.current_user_email\n",
    "\n",
    "            if session_id not in self.session_histories:\n",
    "                self.session_histories[session_id] = ChatMessageHistory()\n",
    "                # Redis에서 세션 히스토리 불러오기\n",
    "                history_messages = get_messages_from_redis(user_email, session_id)\n",
    "                for message in history_messages:\n",
    "                    self.session_histories[session_id].add_message(HumanMessage(content=message))\n",
    "                    \n",
    "            return self.session_histories[session_id]\n",
    "\n",
    "        # 특정 유형의 작업(체인)에 메시지 기록을 추가, 대화형 애플리케이션 또는 복잡한 데이터 처리 작업을 구현할 때 이전 메시지의 맥락을 유지해야 할 필요가 있을 때 유용\n",
    "        conversational_rag_chain = RunnableWithMessageHistory(      \n",
    "            self.chain,                                 # 실행할 Runnable 객체\n",
    "            get_session_history,                        # 세션 기록을 가져오는 함수\n",
    "            input_messages_key=\"input\",                 # 입력 메시지의 키\n",
    "            history_messages_key=\"chat_history\",        # 기록 메시지의 키\n",
    "            output_messages_key=\"answer\"                # 출력 메시지의 키 \n",
    "        )\n",
    "        response = conversational_rag_chain.invoke(\n",
    "            {\"input\": question},\n",
    "            config={\"configurable\": {\"session_id\": self.current_session_id}}            # 같은 session_id 를 입력하면 이전 대화 스레드의 내용을 가져오기 때문에 이어서 대화가 가능!\n",
    "        )\n",
    "\n",
    "        # Redis에 세션 히스토리 저장\n",
    "        save_message_to_redis(self.current_user_email, self.current_session_id, question)\n",
    "        save_message_to_redis(self.current_user_email, self.current_session_id, response[\"answer\"])\n",
    "        \n",
    "        return response\n"
   ]
  },
  {
   "cell_type": "code",
   "execution_count": 8,
   "metadata": {},
   "outputs": [],
   "source": [
    "pipeline = Ragpipeline()"
   ]
  },
  {
   "cell_type": "code",
   "execution_count": 9,
   "metadata": {},
   "outputs": [
    {
     "name": "stdout",
     "output_type": "stream",
     "text": [
      "{'input': '인도 통관 및 운송에 대해서 알려줘.', 'chat_history': [HumanMessage(content='2024.07.31 16:36:28 - 인도의 통관 및 운송 절차는 다음과 같이 진행됩니다:\\n\\n### 1. 통관 절차\\n\\n#### 정식통관\\n- **소요 시간**: 인도에서 일반적인 경우 통관에 소요되는 시간은 행정상 운송 수입의 경우 3~4 근무일이 소요됩니다.\\n- **서류 준비**: 수입자는 필요한 서류를 준비하여 제출해야 합니다. 주요 서류로는 포장명세서(P/L), 상업송장(C/I), 선하증권(B/L) 등이 있습니다.\\n- **수입신고**: 물품이 입항하면 보세구역에 적하되고, 이후 전자데이터 교환(EDI) 신고 또는 수작업 신고를 통해 수입신고를 합니다.\\n- **검사 및 평가**: 인도 관세청의 수입요건, 관세 평가 등을 검사하는 Appraiser Section과 관련 서류 및 관세율을 재점검하는 Audit Section 과정을 거칩니다.\\n- **관세 납부**: 모든 서류에 서명을 받은 후, Challan No.라는 인도 관세 납부를 위한 번호를 부여받게 됩니다. 이를 근거로 관세를 완납하면 물품을 반출할 수 있습니다.\\n\\n### 2. 운송 절차\\n\\n#### 내륙운송\\n- **인프라 상태**: 인도는 도로와 항만 등 인프라가 낙후되어 있고, 운송수단도 노후되어 있습니다. 따라서 내륙운송 과정에서 사고가 발생할 수 있습니다.\\n- **보험 가입**: 내륙운송보험에 가입하는 것이 권장됩니다. 이는 운송 중 발생할 수 있는 사고에 대비하기 위함입니다.\\n\\n#### 서류 작성\\n- **포장명세서(P/L)와 상업송장(C/I)**: 수출하는 물품의 경우 포장명세서와 상업송장을 컨테이너별로 철저히 작성해야 합니다. 인도 세관은 실물 검사를 철저히 실시하며, 서류와 화물이 일치하지 않을 경우 통관이 불가능할 수 있습니다.\\n\\n### 3. 유의사항\\n- **서류의 정확성**: 통관에 필요한 서류를 정확하게 작성하고 제출해야 합니다. 서류의 오류나 불일치로 인해 통관이 지연될 수 있습니다.\\n- **사전 준비**: 수입 통관 및 검역을 위한 사전 준비 절차가 중요합니다. 철저한 사전 준비를 통해 통관 절차를 원활하게 진행할 수 있습니다.\\n\\n이러한 절차와 유의사항을 준수하여 인도에서의 통관 및 운송을 원활하게 진행할 수 있습니다. 추가적인 정보나 세부 사항이 필요하다면 현지 물류 업체나 관련 기관에 문의하는 것이 좋습니다.'), HumanMessage(content='2024.07.31 16:36:28 - 인도 통관 및 운송에 대해서 알려줘.'), HumanMessage(content='FSSAI 라이선스 발급은 3단계로 이루어져 있습니다. 처음으로 신청자는 FORM C 양식의 라이센스를 받아야 합니다. 그 후, 해당 라이센스를 식품 사업을 영위하는 곳에 면허증 사본을 전시해야 합니다. 이러한 과정을 통해 FSSAI 라이선스를 취득할 수 있습니다.'), HumanMessage(content='FSSAI 라이선스 발급 절차는 몇 단계로 이루어져 있나요?'), HumanMessage(content='FSSAI(식품 안전 표준 기관) 라이선스 발급은 다음과 같은 단계로 이루어집니다:\\n\\n1. **온라인 등록 및 신청**: FSSAI 웹사이트에서 온라인으로 등록 및 라이선스 신청을 합니다.\\n   \\n2. **문서 제출**: 필요한 문서 및 정보를 제출합니다. 이에는 사업자 등록증, 식품 제조 공정 설명, 제품 성분 등이 포함될 수 있습니다.\\n   \\n3. **검토 및 심사**: FSSAI는 제출된 정보를 검토하고 라이선스를 승인 또는 거부합니다.\\n   \\n4. **라이선스 발급**: 신청이 승인되면 FSSAI 라이선스가 발급됩니다.\\n\\n이렇게 총 4단계로 FSSAI 라이선스 발급 절차가 이루어집니다.'), HumanMessage(content='FSSAI 라이선스 발급 절차는 몇 단계로 이루어져 있나요?'), HumanMessage(content='FSSAI 라이선스 발급은 3단계로 이루어져 있습니다. 처음으로 신청자는 FORM C양식의 라이센스를 받아야 합니다. 그 후, 해당 라이센스를 식품 사업을 영위하는 곳에 면허증 사본을 전시해야 합니다. 이러한 과정을 통해 FSSAI 라이선스를 취득할 수 있습니다.'), HumanMessage(content='FSSAI 라이선스 발급 절차는 몇 단계로 이루어져 있나요?'), HumanMessage(content='FSSAI 라이선스 발급은 총 3단계로 이루어져 있습니다. 처음으로 신청자는 FORM C 양식의 라이센스를 받아야 합니다. 그 후, 해당 라이센스를 식품 사업을 영위하는 곳에 면허증 사본을 전시해야 합니다. 이러한 과정을 통해 FSSAI 라이선스를 발급받을 수 있습니다.'), HumanMessage(content='FSSAI 라이선스 발급 절차는 몇 단계로 이루어져 있나요?'), HumanMessage(content='\"럭키비키\"는 IVE의 멤버인 원영(Wonyoung)이 자신을 부르는 영어 이름입니다. 원영이 긍정적인 마인드로 상황을 바라보고 자신을 운이 좋은 존재로 생각하는 모습이 인기를 끌었습니다.'), HumanMessage(content='럭키비키가 뭐야?'), HumanMessage(content='럭키비키는 아이돌 그룹 IVE의 멤버인 원영(Wonyoung)의 영어 이름입니다. 원영이 자신을 \"럭키 비키\"라고 부르며 긍정적인 마인드를 보여준 것이 인기를 끌었습니다. 이는 원영이 긍정적인 시각으로 상황을 바라보고 자신을 행운한 존재로 생각하는 모습을 나타냅니다.'), HumanMessage(content='럭키비키가 뭐야?'), HumanMessage(content='뉴진스(NewJeans)의 멤버 민지(Minji)의 생일은 2004년 5월 7일입니다.'), HumanMessage(content='뉴진스 민지의 생일을 알려줘.'), HumanMessage(content='뉴진스 민지(NewJeans Minji)의 생일은 알려지지 않았습니다. 현재까지 공식적으로 공개된 정보가 없기 때문에 생일에 대한 정확한 정보를 제공하기 어렵습니다.'), HumanMessage(content='뉴진스 민지의 생일을 알려줘.'), HumanMessage(content='럭키비키는 아이즈원(Iz*One) 출신의 멤버인 원영(Wonyoung)의 영어 이름입니다. 원영이 자신을 \"럭키 비키\"라고 부르며 긍정적인 마인드를 보여준 사례가 있어서 이와 관련된 이야기가 viral하게 퍼지기도 했습니다. 원영은 일상 속에서 긍정적인 시각으로 상황을 바라보는 모습을 보여주며 팬들에게 영감을 주고 있습니다.'), HumanMessage(content='럭키비키가 뭐야?'), HumanMessage(content='뉴진스(New Jeans)의 멤버인 민지(Kim Minji)의 생일은 2004년 5월 7일이며, 현재 20살입니다.'), HumanMessage(content='뉴진스 민지의 생일을 알려줘.'), HumanMessage(content='\"럭키비키\"는 한국의 아이돌 그룹 IVE의 멤버 중 한 명인 원영(Wonyoung)이 사용하는 영어 이름입니다. 그녀는 긍정적인 마인드와 유쾌한 말투로 유명하며, 자신의 이름인 \"Vicky\"를 \"Lucky Vicky\"로 변형하여 긍정적인 생각을 나타내는 표현으로 사용하고 있습니다. 이는 그녀의 긍정적인 태도와 유머 감각을 보여주는 것으로 알려져 있습니다.'), HumanMessage(content='럭키비키가 뭐야?'), HumanMessage(content='인도의 통관 및 운송 절차는 다음과 같이 진행됩니다:\\n\\n1. 통관 절차:\\n- 인도의 통관은 수입 통관 및 검역을 위한 사전 준비 절차가 중요합니다. 통관에 필요한 서류를 정확하게 제출해야 하며, 서류의 오류나 불일치로 인해 통관이 지연될 수 있습니다.\\n- 수출하는 물품의 경우 포장명세서(P/L)와 상업송장(C/I)을 컨테이너별로 철저히 작성해야 합니다. 인도 세관은 실물 검사를 철저히 실시하며, 서류와 화물이 일치하지 않을 경우 통관이 불가능할 수 있습니다.\\n- 인도의 인프라가 낙후되어 있고 운송수단이 노후하기 때문에 내륙운송 과정에서 사고가 발생할 수 있습니다. 따라서 내륙운송보험에 가입하는 것이 권장됩니다.\\n\\n2. 운송 시간:\\n- 인도에서 통관에 소요되는 시간은 행정상 운송 수입의 경우 약 34 근무일이 소요되며, 항공 운송의 경우 약 12 근무일이 소요됩니다.\\n- 물품이 입항하면 보세구역에 적하되고, 이후 전자데이터 교환(EDI) 신고 또는 수작업 신고를 통해 수입신고를 진행합니다. 이후 관세청의 수입요건 및 관세 평가 등을 검사하는 과정을 거치며, 관련 서류 및 관세율을 재점검합니다.\\n\\n이러한 통관 및 운송 절차를 준수하고 이해하는 것이 인도에서의 수출 사업을 원활히 진행하는 데 도움이 될 것입니다.'), HumanMessage(content='인도 통관 및 운송에 대해서 알려줘.'), HumanMessage(content='럭키비키는 아이즈원(Iz*One) 출신의 멤버인 원영(Wonyoung)의 영어 이름입니다. 원영이 MCountdown에서 \"럭키 비키\"라는 말을 사용하여 긍정적인 마인드를 보여준 것이 인기를 끌었습니다. 그녀의 긍정적인 사고 방식이 많은 이들에게 영감을 주고 있다고 합니다.'), HumanMessage(content='럭키비키가 뭐야?'), HumanMessage(content='\"럭키비키\"는 일본어로 \"행운을 늘리는 부적\"을 의미합니다. 이는 일본에서 사용되는 부적이며, 주로 다양한 목적을 위해 사용됩니다. 예를 들어, 교통 안전, 사랑과 결혼, 건강, 성공과 승리, 가족 안전 등 다양한 분야에서 행운을 누리고자 할 때 사용됩니다. 부적은 일본의 사원이나 절에서 구입할 수 있으며, 특정 목적에 맞게 선택하여 사용합니다. 부적은 일상생활에서 행운을 누리고자 하는 사람들에게 인기가 있습니다.'), HumanMessage(content='럭키비키가 뭐야?'), HumanMessage(content='인도의 통관 및 운송 절차는 다음과 같이 진행됩니다:\\n\\n1. 통관 절차:\\n- 인도에서 통관에 소요되는 시간은 행정상 운송 수입의 경우 약 34 근무일이 소요되며, 항공 운송의 경우 약 12 근무일이 소요됩니다.\\n- 물품이 입항하면 보세구역장치에 적하되고, 이후 전자데이터 교환(EDI) 신고 또는 수작업 신고를 통해 수입신고를 합니다.\\n- 이후 인도 관세청의 수입요건, 관세 평가 등을 검사하는 Appraiser Section과 관련 서류 및 관세율을 재점검하는 Audit Section 과정을 거치게 됩니다.\\n\\n2. 운송:\\n- 인도는 도로와 항만 등 인프라가 낙후되어 있고, 운송수단도 노후하기 때문에 내륙운송 과정에서 사고가 자주 발생합니다. 따라서 내륙운송보험에 가입하는 것이 권장됩니다.\\n- 인도로 수출하는 물품의 경우 포장명세서(P/L)와 상업송장(C/I)을 컨테이너별로 철저히 작성해야 합니다. 인도 세관은 실물 검사가 철저하며, 서류와 화물이 일치하지 않을 경우 통관이 불가능할 수 있습니다.\\n\\n따라서, 인도의 통관 및 운송에 있어서는 철저한 사전 준비와 정확한 서류 작성이 중요하며, 인프라 상태와 운송 보험에 대한 고려가 필요합니다.'), HumanMessage(content='인도 통관 및 운송에 대해서 알려줘.'), HumanMessage(content='\"럭키비키\"는 일본어로 \"행운의 열쇠\"를 의미합니다. 이는 일상 생활에서 행운을 불러오거나 행운을 유지하기 위해 사용되는 다양한 물건이나 행위를 가리키는 용어입니다. 특히 일본 문화에서는 다양한 신념과 전통이 있어서 행운을 불러오는 것에 중요성을 두는데, 이러한 맥락에서 \"럭키비키\"라는 용어가 사용됩니다.'), HumanMessage(content='럭키비키가 뭐야?'), HumanMessage(content='인도의 통관 및 운송 절차는 다음과 같습니다:\\n\\n1. **통관 절차**:\\n   - **통관 유형**: 정식통관 및 일반통관이 있습니다.\\n   - **소요 시간**: 행정상 운송 수입의 경우 34 근무일, 항공 운송은 약 12 근무일이 소요됩니다.\\n   - **수입신고**: 물품이 입항하면 보세구역에 적하되고, 이후 전자데이터 교환(EDI) 신고 또는 수작업 신고를 통해 수입신고를 합니다.\\n   - **검사 과정**: 수입요건, 관세 평가 등을 검사하는 Appraiser Section과 관련 서류 및 관세율을 재점검하는 Audit Section 과정을 거칩니다.\\n\\n2. **운송 유의사항**:\\n   - **포장 및 서류**: 수출하는 물품의 경우 포장명세서(P/L)와 상업송장(C/I)을 컨테이너별로 철저히 작성해야 합니다.\\n   - **실물 검사**: 인도 세관은 실물 검사가 철저하며, 서류와 화물이 일치하지 않을 경우 통관이 불가능할 수 있습니다.\\n   - **운송 보험**: 인도의 내륙운송은 사고가 발생할 수 있으므로 내륙운송보험에 가입하는 것이 권장됩니다.\\n\\n이러한 사항들을 고려하여 인도의 통관 및 운송 절차를 준비하시면 수출 사업을 보다 원활하게 진행할 수 있을 것입니다.'), HumanMessage(content='인도 통관 및 운송에 대해서 알려줘.'), HumanMessage(content='\"럭키비키\"는 일본에서 새해에 관련된 행사나 전통적인 행사에서 운이 좋은 상징이나 요소를 가리키는 용어입니다. 새해에 관련된 다양한 행사나 관행에서 특정한 상징물이나 사물이 나타나면 그것이 \"럭키비키\"로 여겨지며, 해당 상징물이나 사물을 보게 되면 해당 해가 행운이 가득한 해가 될 것이라고 믿는 전통이 있습니다. 일본에서는 새해에 관련된 다양한 행사와 관행을 통해 행운을 기원하고자 하는 문화가 있습니다.'), HumanMessage(content='럭키비키가 뭐야?'), HumanMessage(content='인도의 통관 및 운송 절차는 다음과 같습니다:\\n\\n1. 통관 절차:\\n- 인도에서 통관에 소요되는 시간은 행정상 운송 수입의 경우 34 근무일, 항공 운송은 약 12 근무일이 소요됩니다.\\n- 물품이 입항하면 보세구역장치에 적하되고, 이후 전자데이터 교환(EDI) 신고 또는 수작업 신고를 통해 수입신고를 합니다.\\n- 이후 인도 관세청의 수입요건, 관세 평가 등을 검사하는 Appraiser Section과 관련 서류 및 관세율을 재점검하는 Audit Section 과정을 거치며 통관이 진행됩니다.\\n\\n2. 운송:\\n- 인도는 도로와 항만 등 인프라가 낙후되어 있고, 운송수단도 노후하기 때문에 내륙운송 과정에서 사고가 자주 발생합니다.\\n- 인도로 수출하는 물품의 경우 포장명세서(P/L)와 상업송장(C/I)을 컨테이너별로 철저히 작성해야 합니다. 인도 세관은 실물 검사가 철저하며, 서류와 화물 불일치 시 통관이 불가능할 수 있습니다.\\n- 특히 내륙운송 과정에서 사고가 발생할 수 있으므로 내륙운송보험에 가입하는 것이 권장됩니다.\\n\\n이러한 사항들을 고려하여 인도의 통관 및 운송에 대비하는 것이 중요합니다. 필요한 서류 작성과 절차 준수를 철저히 하여 원활한 수출 및 수입이 이루어질 수 있도록 준비해야 합니다.'), HumanMessage(content='인도 통관 및 운송에 대해서 알려줘.'), HumanMessage(content='\"럭키비키\"는 한국의 유명한 음식 브랜드 중 하나입니다. 럭키비키는 다양한 종류의 떡과 떡볶이를 판매하는 브랜드로 유명하며, 특히 떡볶이 전문점으로도 알려져 있습니다. 럭키비키의 떡볶이는 매콤하고 고소한 맛으로 많은 이들에게 사랑을 받고 있습니다. 또한, 럭키비키는 다양한 종류의 떡도 판매하고 있어 한국인들 사이에서 인기가 있는 브랜드 중 하나입니다.'), HumanMessage(content='럭키비키가 뭐야?'), HumanMessage(content='인도의 통관 및 운송 절차는 다음과 같습니다:\\n\\n1. **통관 절차**:\\n   - **통관 유형**: 정식통관 및 일반통관이 있습니다.\\n   - **소요 시간**: 행정상 운송 수입의 경우 34 근무일, 항공 운송은 약 12 근무일이 소요됩니다.\\n   - **수입신고**: 물품이 입항하면 보세구역에 적하되고, 이후 전자데이터 교환(EDI) 신고 또는 수작업 신고를 통해 수입신고를 합니다.\\n   - **검사 과정**: 수입요건, 관세 평가 등을 검사하는 Appraiser Section과 관련 서류 및 관세율을 재점검하는 Audit Section 과정을 거칩니다.\\n\\n2. **운송 유의사항**:\\n   - **포장 및 서류**: 수출하는 물품의 경우 포장명세서(P/L)와 상업송장(C/I)을 컨테이너별로 철저히 작성해야 합니다.\\n   - **실물 검사**: 인도 세관은 실물 검사가 철저하며, 서류와 화물이 일치하지 않을 경우 통관이 불가능할 수 있습니다.\\n   - **운송 보험**: 인도의 내륙운송은 사고가 발생할 수 있으므로 내륙운송보험에 가입하는 것이 권장됩니다.\\n\\n이러한 사항들을 고려하여 인도의 통관 및 운송 절차를 준비하시면 수출 사업을 보다 원활하게 진행할 수 있을 것입니다.'), HumanMessage(content='인도 통관 및 운송에 대해서 알려줘.'), HumanMessage(content=\"죄송합니다. 장원영의 그룹은 럭키비키(LUCKY KEE)가 아니라 럭키비키(LUCKY VICKY)입니다. 럭키비키는 장원영을 포함한 멤버들로 구성된 그룹으로, 2022년 11월 11일에 데뷔한 것으로 알려져 있습니다. 럭키비키는 7명의 멤버로 구성되어 있으며, 데뷔 싱글 앨범 'LUCKY'를 발표하였습니다. 장원영은 럭키비키의 멤버 중 한 명으로 활동하고 있습니다. 이 정보가 도움이 되었기를 바랍니다.\"), HumanMessage(content='장원영의 luckyviki가 뭐야?'), HumanMessage(content='죄송합니다. 장원영이 속한 그룹인 럭키비키(LUCKY KEE)에 대한 정보는 제가 가지고 있는 자료에는 포함되어 있지 않습니다. 장원영이 속한 그룹 럭키비키에 대한 자세한 정보는 추가적인 검색이 필요할 것 같습니다. 더 많은 정보를 찾아보시기 바랍니다.'), HumanMessage(content='장원영의 럭키비키가 뭐야?'), HumanMessage(content=\"죄송합니다. 럭키비키(LUCKY KEE)에 대한 정보를 다시 제공해 드리겠습니다.\\n\\n럭키비키는 대한민국의 걸그룹으로, 2022년 11월 11일에 데뷔한 그룹입니다. 럭키비키는 7명의 멤버로 구성되어 있으며, 데뷔 싱글 앨범 'LUCKY'를 발표하였습니다. 럭키비키는 데뷔 이후 꾸준한 활동을 펼치고 있습니다. 이 정보가 도움이 되었기를 바랍니다.\"), HumanMessage(content='럭키비키가 뭐야?'), HumanMessage(content='뉴진스(NewJeans)의 멤버 민지(Kim Min-ji)의 생일은 2004년 5월 7일입니다. 따라서 현재 민지는 2022년 기준으로 18세입니다. 생일 정보가 공식적으로 확인되었으며, 민지의 생일은 5월 7일임을 알려드립니다.'), HumanMessage(content='뉴진스 민지의 생일을 알려줘.'), HumanMessage(content=\"죄송합니다. 럭키비키(LUCKY KEE)에 대한 정보를 제공해 드리겠습니다.\\n\\n럭키비키는 한국의 걸그룹으로, 2022년 11월 11일에 데뷔한 그룹입니다. 럭키비키는 7명의 멤버로 구성되어 있으며, 데뷔 싱글 앨범 'LUCKY'를 발표하였습니다. 럭키비키는 데뷔 이후 꾸준한 활동을 펼치고 있습니다. 이 정보가 도움이 되었기를 바랍니다.\"), HumanMessage(content='아니야 너의 대답은 틀렸어. 럭키비키에 대해서 알려줘.'), HumanMessage(content=\"럭키비키(LUCKY KEE)는 한국의 걸그룹으로, 2022년 11월 11일에 데뷔한 그룹입니다. 럭키비키는 7명의 멤버로 구성되어 있으며, 데뷔 싱글 앨범 'LUCKY'를 발표하였습니다. 럭키비키는 데뷔 이후 꾸준한 활동을 펼치고 있습니다.\"), HumanMessage(content='럭키비키가 뭐야?'), HumanMessage(content='뉴진스(NewJeans)의 멤버 민지(Kim Min-ji)의 생일은 2004년 5월 7일입니다. 따라서 현재 민지는 2022년 기준으로 18세입니다. 생일 정보가 공식적으로 확인되었으며, 민지의 생일은 5월 7일임을 알려드립니다.'), HumanMessage(content='뉴진스 민지의 생일을 알려줘.'), HumanMessage(content='뉴진스(NewJeans)의 멤버 민지의 생일은 알려드릴 수 없습니다. 민지의 생일 정보는 공식적으로 공개되지 않았거나 제공된 정보가 없기 때문에 정확한 생일을 알 수 없습니다. 뉴진스 멤버들의 개인적인 정보는 보호되고 있을 수 있으며, 공개된 정보만을 기반으로 도움을 드릴 수 있습니다. 추가적인 정보가 공개되면 업데이트하여 안내해드리겠습니다.'), HumanMessage(content='뉴진스 민지의 생일을 알려줘.'), HumanMessage(content='뉴진스(NewJeans)는 2022년 7월 22일에 데뷔한 ADOR 소속의 5인조 다국적 걸그룹입니다. 멤버로는 민지, 하니, 다니엘, 해린, 혜인이 속해 있습니다. 뉴진스는 다양한 국적을 가진 멤버들로 구성되어 있으며, 그들의 음악과 활동으로 많은 사람들의 관심을 받고 있습니다. 뉴진스는 데뷔 이후 다양한 음악 활동과 이벤트를 통해 팬들과 소통하고 있으며, 높은 인기를 얻고 있는 걸그룹 중 하나입니다.'), HumanMessage(content='뉴이스트말고 뉴진스 알아?'), HumanMessage(content='네, 뉴이스트(NU\\'EST)에 대해 알고 있습니다. 뉴이스트는 플레디스 엔터테인먼트 소속의 5인조 보이 그룹으로, 2012년 3월 15일에 \"Face\"라는 첫 싱글로 데뷔했습니다. 멤버로는 Aron, JR, Baekho, Minhyun, Ren이 있었고, 그들은 각종 음악 활동을 통해 인기를 얻었습니다. 뉴이스트는 2022년 3월 15일 그룹의 10주년을 맞아 공식적으로 해체되었으며, JR, Aron, Ren은 플레디스 엔터테인먼트를 떠났고, Baekho와 Minhyun은 계약을 갱신했습니다. 이렇게 뉴이스트는 그룹으로서의 활동을 마무리했습니다.'), HumanMessage(content='너 뉴진스 알아?'), HumanMessage(content='럭키비키는 아이즈원 출신의 아이돌 원영(Wonyoung)의 영어 이름입니다. 원영이 MCountdown에서 \"럭키 비키\"라는 말을 사용하여 긍정적인 마인드를 나타낸 것이 인기를 끌었습니다. 이는 원영이 일상 속에서 긍정적인 시각으로 사물을 바라보는 모습을 나타내는 것으로, 그녀의 긍정적인 태도가 많은 이들에게 영감을 주고 있다고 합니다.'), HumanMessage(content='럭키비키가 뭐야?'), HumanMessage(content='네, 뉴진스(NewGen Surgical)는 지속 가능한 디자인의 식물 기반 일회용 의료 기기와 제품을 개발하고 제조하는 회사입니다. 이 회사는 플라스틱과 Scope 3 배출량을 측정적으로 줄이기 위한 임상적으로 효과적인 제품 솔루션을 제공하는 것을 사명으로 삼고 있습니다. 뉴진스(NewGen Surgical)의 제품은 캘리포니아 Prop 65 준수, 의도적으로 첨가된 BPA나 BPA 유래 플라스틱, 수은, 프탈레이트, PFAs 및 PVC가 없으며, USDA BioPreferred Certified로 인증되었습니다. 이 회사는 의료 분야에서 탄소 발자국을 줄이기 위해 석유 기반 원료를 재생 가능한 재료로 대체하는 것에 전념하고 있습니다.'), HumanMessage(content='너 뉴진스 알아?'), HumanMessage(content='\"럭키비키\"는 미국 조지아주 터커에 위치한 중국 요리와 일본 요리를 판매하는 레스토랑입니다. 이 식당은 중국 요리와 일본 요리를 제공하며, 고객들에게 훌륭한 서비스와 음식을 제공한다는 평가를 받고 있습니다. 또한, 역사가 느껴지며 분위기가 편안하다는 점이 강조되고 있습니다. 럭키비키는 중국 요리와 일본 요리를 즐기고자 하는 고객들에게 좋은 선택지로 소개되고 있습니다.'), HumanMessage(content='럭키비키가 뭐야?'), HumanMessage(content='인도의 통관 및 운송 절차는 다음과 같습니다:\\n\\n1. 통관 절차:\\n- 인도에서 통관에 소요되는 시간은 행정상 운송 수입의 경우 34 근무일, 항공 운송은 약 12 근무일이 소요됩니다.\\n- 물품이 입항하면 보세구역장치에 적하되고, 이후 전자데이터 교환(EDI) 신고 또는 수작업 신고를 통해 수입신고를 합니다.\\n- 이후 인도 관세청의 수입요건, 관세 평가 등을 검사하는 Appraiser Section과 관련 서류 및 관세율을 재점검하는 Audit Section 과정을 거치며 통관이 이루어집니다.\\n\\n2. 운송:\\n- 인도는 도로와 항만 등 인프라가 낙후되어 있고, 운송수단도 노후하기 때문에 내륙운송 과정에서 사고가 자주 발생합니다.\\n- 인도로 수출하는 물품의 경우 포장명세서(P/L)와 상업송장(C/I)을 컨테이너별로 철저히 작성해야 합니다.\\n- 인도 세관은 한 컨테이너 안에서 박스별로 화물의 일치 여부를 조사하는 등 실물 검사가 철저하며, 서류와 화물 불일치 시 통관이 불가능합니다.\\n\\n또한, 인도의 통관은 수입 통관 및 검역을 위한 사전 준비 절차가 중요하며, 통관에 필요한 서류를 철저히 작성해야 합니다. 서류의 오류나 불일치로 인해 통관 절차가 지연될 수 있으므로 주의가 필요합니다.'), HumanMessage(content='인도 통관 및 운송에 대해서 알려줘.'), HumanMessage(content=\"뉴이스트(NU'EST)의 멤버인 민현(Minhyun)의 생일은 1995년 8월 9일입니다.\"), HumanMessage(content='뉴진스 민지의 생일을 알려줘.'), HumanMessage(content='\"럭키비키\"는 아이즈원(Iz*One) 출신의 멤버인 조원영(Wonyoung)의 영어 이름인 \"Vicky\"를 의미합니다. 원영이 자신의 긍정적인 사고방식을 나타내며 자신을 \"럭키비키\"라고 표현하는 모습이 인기를 끌고 있습니다. 그녀의 긍정적인 마인드와 유쾌한 말투가 팬들 사이에서 화제가 되고 있습니다.'), HumanMessage(content='럭키비키가 뭐야?'), HumanMessage(content='인도의 통관 및 운송 절차는 다음과 같습니다:\\n\\n1. **통관 절차**:\\n   - **통관 유형**: 정식통관 및 일반통관이 있습니다.\\n   - **소요 시간**: 행정상 운송 수입의 경우 34 근무일, 항공 운송은 약 12 근무일이 소요됩니다.\\n   - **수입신고**: 물품이 입항하면 보세구역에 적하되고, 이후 전자데이터 교환(EDI) 신고 또는 수작업 신고를 통해 수입신고를 합니다.\\n   - **검사 과정**: 수입요건, 관세 평가 등을 검사하는 Appraiser Section과 관련 서류 및 관세율을 재점검하는 Audit Section 과정을 거칩니다.\\n\\n2. **운송 유의사항**:\\n   - **포장 및 서류**: 수출하는 물품의 경우 포장명세서(P/L)와 상업송장(C/I)을 컨테이너별로 철저히 작성해야 합니다.\\n   - **실물 검사**: 인도 세관은 실물 검사가 철저하며, 서류와 화물이 일치하지 않을 경우 통관이 불가능할 수 있습니다.\\n   - **내륙운송**: 인도의 인프라가 낙후되어 있고 운송수단이 노후하기 때문에 내륙운송 과정에서 사고가 발생할 수 있으므로 내륙운송보험에 가입해야 합니다.\\n\\n이러한 사항들을 고려하여 인도의 통관 및 운송에 대비하시면 좀 더 원활한 수출 사업을 진행할 수 있을 것입니다.'), HumanMessage(content='인도 통관 및 운송에 대해서 알려줘.'), HumanMessage(content='인도의 통관 및 운송에 대한 정보를 제공해드리겠습니다.\\n\\n1. 통관 절차:\\n- 인도의 통관은 수입 통관 및 검역을 위한 사전 준비 절차가 중요합니다. 통관에 필요한 서류를 제출할 때 서류의 기재 오류나 서류 상호 간 불일치를 수정하기가 어려울 수 있으며, 이로 인해 통관 절차가 지연될 수 있습니다. 따라서 철저한 서류 작성이 필수적입니다.\\n- 인도로 수출하는 물품의 경우 포장명세서(P/L)와 상업송장(C/I)을 컨테이너별로 철저히 작성해야 합니다. 인도 세관은 컨테이너 안에서 화물의 일치 여부를 조사하며, 서류와 화물이 일치하지 않을 경우 통관이 불가능할 수 있습니다.\\n- 인도는 도로와 항만 등 인프라가 낙후되어 있고, 운송수단도 노후하기 때문에 내륙운송 과정에서 사고가 발생할 수 있습니다. 따라서 내륙운송보험에 가입하는 것이 권장됩니다.\\n\\n2. 운송 시간:\\n- 인도에서 통관에 소요되는 시간은 일반적으로 행정상 운송 수입의 경우 34 근무일, 항공 운송의 경우 약 12 근무일이 소요됩니다.\\n- 물품이 입항하면 보세구역장치에 적하되고, 이후 전자데이터 교환(EDI) 신고 또는 수작업 신고를 통해 수입신고를 하게 됩니다. 이후 인도 관세청의 수입요건 관세 평가 등을 검사하는 과정을 거치며 통관이 이루어집니다.\\n\\n이상이 인도의 통관 및 운송에 대한 기본적인 정보입니다. 더 자세한 정보가 필요하시다면 관련 기관이나 전문가에게 상담을 받는 것이 도움이 될 수 있습니다.'), HumanMessage(content='인도 통관 및 운송에 대해서 알려줘.'), HumanMessage(content='죄송합니다, 제가 알고 있는 정보에는 \"뉴진스 민지\"라는 인물에 대한 생일 정보가 없습니다. 더 자세한 정보를 알고 싶으시다면 해당 인물에 대한 추가 정보를 제공해주시면 더 도와드리겠습니다.'), HumanMessage(content='뉴진스 민지의 생일을 알려줘.'), HumanMessage(content='\"럭키비키\"는 일본 요리와 중국 음식을 판매하는 레스토랑으로 보입니다. 메뉴에는 에그롤, 몽골식 소고기, 치킨 에그 드롭 수프, 스팀드 무구 가이 판 다이어터 스페셜, 시즐링 라이스 수프, 캘리포니아 롤, 달콤하고 새콤한 치킨 등이 있습니다. 건강 점수는 80점으로 나와 있습니다. 또한 예약을 받고 배달 및 테이크아웃 서비스도 제공하고 있습니다. 이 레스토랑은 럭키비키 & 후지야(Lucky Key & Fuji Ya)로 알려져 있습니다.'), HumanMessage(content='럭키비키가 뭐야?'), HumanMessage(content='인도의 통관 및 운송 절차는 다음과 같이 요약됩니다:\\n\\n1. 통관 절차:\\n- 인도의 통관은 수입 통관 및 검역을 위한 사전 준비가 중요합니다. 통관에 필요한 서류를 정확하게 제출해야 하며, 서류의 오류나 불일치로 인해 통관이 지연될 수 있습니다.\\n- 수출하는 물품의 경우 포장명세서(P/L)와 상업송장(C/I)을 컨테이너별로 철저히 작성해야 합니다. 인도 세관은 실물 검사를 철저히 실시하며, 서류와 화물이 일치해야 합니다.\\n- 인도의 인프라가 낙후되어 있고 운송수단이 노후하기 때문에 내륙운송 과정에서 사고가 발생할 수 있습니다. 내륙운송보험에 가입하는 것이 권장됩니다.\\n\\n2. 운송 시간:\\n- 행정상 운송 수입의 경우, 통관에 소요되는 시간은 약 34 근무일이며, 항공 운송의 경우 약 12 근무일이 소요됩니다.\\n- 물품이 입항하면 보세구역에 적하되고, 이후 전자데이터 교환(EDI) 신고 또는 수작업 신고를 통해 수입신고를 진행합니다. 이후 관세청의 수입요건 및 관세 평가 등을 검사하는 과정을 거치며, 관련 서류 및 관세율을 재점검합니다.\\n\\n이러한 과정을 준수하고 정확한 서류를 제출하여 통관 및 운송을 원활히 진행하는 것이 중요합니다. 또한 인도의 인프라 상태와 운송 보험에 대한 고려도 필요합니다.'), HumanMessage(content='인도 통관 및 운송에 대해서 알려줘.'), HumanMessage(content='인도의 통관 및 운송 절차는 다음과 같습니다:\\n\\n1. **수입 신고 및 준비 단계**:\\n   - 수입자는 수입 물품에 대한 수입신고를 하기 전에 수출입자코드를 발급 받아야 합니다.\\n   - 적하목록(IGM)를 제출해야 하며, 제출 기한을 엄수해야 합니다.\\n\\n2. **수입 신고 및 가격 신고**:\\n   - 적하목록 제출 후, 수입자는 수입신고서와 관련 서류를 제출하여 수입신고를 합니다.\\n   - 필요한 서류에는 송장, 포장명세서, 선하증권 또는 항공화물운송장, 물품 관련 수입 라이센스 등이 포함됩니다.\\n\\n3. **통관 및 운송**:\\n   - 통관 절차는 정식통관 등 다양한 유형이 있으며, 일반적으로 34근무일이 소요됩니다.\\n   - 인도의 통관은 사전 준비가 중요하며, 서류 작성 시 오류를 최소화해야 합니다.\\n   - 내륙운송 과정에서 사고가 발생할 수 있으므로 내륙운송보험에 가입하는 것이 권장됩니다.\\n\\n4. **검역 및 유의사항**:\\n   - 물품의 검역 및 통관을 위한 사전 준비가 중요하며, 서류 작성 시 신중해야 합니다.\\n   - 물품의 성분분석'), HumanMessage(content='인도 통관 및 운송에 대해서 알려줘.'), HumanMessage(content='뉴진스(NewJeans)의 멤버인 민지의 생일은 2004년 5월 7일입니다.'), HumanMessage(content='뉴진스 민지의 생일을 알려줘.'), HumanMessage(content='\"럭키비키\"는 아이즈원(IZ*ONE)의 멤버인 원영(Wonyoung)이 자신의 영어 이름인 \"Vicky\"와 \"Lucky\"를 합쳐 만든 단어입니다. 원영이 긍정적인 마인드와 유쾌한 태도로 유명하며, 자신을 표현할 때 \"럭키비키\"라는 단어를 사용하여 자신의 행운과 긍정적인 에너지를 나타냅니다. 이러한 원영의 긍정적인 태도와 유쾌한 매력으로 팬들 사이에서 \"럭키비키\"라는 닉네임으로 사랑받고 있습니다.'), HumanMessage(content='럭키비키가 뭐야?'), HumanMessage(content='\"럭키비키\"는 아이즈원(IZ*ONE)의 멤버 중 한 명인 원영(Wonyoung)의 영어 이름인 \"Vicky\"와 \"Lucky\"를 합쳐 만든 단어입니다. 원영이 긍정적인 마인드와 행동으로 유명하며, 자신의 이름인 Vicky와 Lucky를 합쳐서 자신을 표현하는 말로 사용하고 있습니다. 이러한 긍정적인 마인드와 유쾌한 행동으로 원영은 팬들 사이에서 \"럭키비키\"로 불리며 사랑을 받고 있습니다.'), HumanMessage(content='럭키비키가 뭐야?'), HumanMessage(content='인도의 통관 및 운송 절차는 다음과 같이 진행됩니다:\\n\\n1. 통관 절차:\\n- 인도의 통관은 수입 통관 및 검역을 위한 사전 준비 절차가 중요합니다. 통관에 필요한 서류를 정확하게 제출해야 하며, 서류의 오류나 불일치로 인해 통관이 지연될 수 있습니다.\\n- 수출하는 물품의 경우 포장명세서(P/L)와 상업송장(C/I)을 컨테이너별로 철저히 작성해야 합니다. 인도 세관은 실물 검사를 철저히 실시하며, 서류와 화물이 일치하지 않을 경우 통관이 불가능할 수 있습니다.\\n- 인도의 인프라가 낙후되어 있고 운송수단이 노후하기 때문에 내륙운송 과정에서 사고가 발생할 수 있습니다. 따라서 내륙운송보험에 가입하는 것이 권장됩니다.\\n\\n2. 운송 시간:\\n- 인도에서 통관에 소요되는 시간은 행정상 운송 수입의 경우 약 34 근무일이 소요되며, 항공 운송의 경우 약 12 근무일이 소요됩니다.\\n- 물품이 입항하면 보세구역에 적하되고, 이후 전자데이터 교환(EDI) 신고 또는 수작업 신고를 통해 수입신고를 진행합니다. 이후 관세청의 수입요건 및 관세 평가 등을 검사하는 과정을 거치며, 관련 서류 및 관세율을 재점검합니다.\\n\\n이러한 통관 및 운송 절차를 준수하고 이해하는 것이 인도에서의 수출 사업을 원활히 진행하는 데 도움이 될 것입니다.'), HumanMessage(content='인도 통관 및 운송에 대해서 알려줘.'), HumanMessage(content='\"럭키비키\"는 한국의 가수이자 아이돌인 장원영이 사용한 유행어로, 긍정적인 사고방식을 나타내는 표현입니다. 이 용어는 \"럭키(Lucky)\"와 \"비키(Vicky)\"의 합성어로, 장원영이 사용한 긍정적인 사고를 나타내는 표현입니다. \"럭키비키\"는 장원영이 사용한 긍정적인 표현이 유행하여 다양한 매체와 SNS에서 사용되고 있습니다. 이 용어는 긍정적인 마인드와 희망을 전하는 의미를 담고 있습니다.'), HumanMessage(content='럭키비키가 뭐야?'), HumanMessage(content='\"뉴진스\"는 EMARKETER에서 사용하는 용어로, 1997년부터 2012년 사이에 태어난 세대를 가리킵니다. 이 세대는 사회적 책임감이 강하며 정신적 건강, 지속가능성, 인종평등을 우선시하며 기술에 능통한 방식으로 소비 습관을 형성하는 것으로 알려져 있습니다. 뉴진스는 현재 미국 인구의 약 20%를 차지하고 있으며, 구매력이 높아지고 있습니다.\\n\\n이외에도 \"뉴진스\"와 관련된 다른 세대 용어로는 다음과 같은 것들이 있습니다:\\n- **Gen Alpha(알파 세대)**: 2010년대 초부터 2024년 사이에 태어난 세대로, 디지털 네이티브의 두 번째 세대로서 스마트폰이나 소셜 미디어 없이 자란 적이 없습니다.\\n- **Zalpha(지알파)**: 뉴진스와 알파 세대 사이에 태어난 사람으로, 두 세대의 특징을 공유합니다.\\n- **Zillennial(질레니얼)**: 뉴진스와 밀레니얼 세대 사이에 태어난 사람으로, 두 세대의 특징을 공유합니다.\\n- **Millennial(밀레니얼 또는 Y 세대)**: 1981년부터 1996년 사이에 태어난 세대로, 인터넷의 태동 시기에 자랐으며 소셜 미디어나 스마트폰과 같은 기술을 빠르게 받아들였습니다.\\n- **Gen X(엑스 세대)**: 1965년부터 1980년 사이에 태어난 세대로, 독립적이며 권위에 대한 회의적인 태도를 가지고 있습니다.\\n- **Baby Boomer(베이비 붐 세대)**: 1946년부터 1964년 사이에 태어난 세대로, 강한 직업 윤리, 전통 가치관, 브랜드 충성도를 가지고 있습니다.\\n\\n이러한 다양한 세대들의 특징과 소비 습관을 이해하고, 각 세대에 맞는 마케팅 전략을 세우는 것이 중요합니다.'), HumanMessage(content='뉴진스에 대해서 알려줘.'), HumanMessage(content='인도의 통관 및 운송 절차는 다음과 같이 진행됩니다:\\n\\n1. 통관 절차:\\n- 인도의 통관은 수입 통관 및 검역을 위한 사전 준비 절차가 중요합니다. 통관에 필요한 서류를 정확하게 제출해야 하며, 서류의 오류나 불일치로 인해 통관이 지연될 수 있습니다.\\n- 수출하는 물품의 경우 포장명세서(P/L)와 상업송장(C/I)을 컨테이너별로 철저히 작성해야 합니다. 인도 세관은 실물 검사를 철저히 실시하며, 서류와 화물이 일치하지 않을 경우 통관이 불가능할 수 있습니다.\\n\\n2. 운송 절차:\\n- 인도는 도로와 항만 등 인프라가 낙후되어 있고, 운송수단도 노후하기 때문에 내륙운송 과정에서 사고가 발생할 수 있습니다. 따라서 내륙운송보험에 가입하는 것이 권장됩니다.\\n- 행정상 운송의 경우 약 34 근무일이 소요되며, 항공 운송은 약 12 근무일이 소요됩니다. 물품이 입항하면 보세구역에 적하되고, 이후 전자데이터 교환(EDI) 신고 또는 수작업 신고를 통해 수입신고를 진행하며, 관세청의 검사 및 평가를 거칩니다.\\n\\n이러한 통관 및 운송 절차를 준수하고, 정확한 서류를 제출하여 인도에서의 비즈니스 활동을 원활히 진행할 수 있습니다.'), HumanMessage(content='인도 통관 및 운송에 대해서 알려줘.'), HumanMessage(content='네, 뉴진스(NewJeans)는 2022년 7월 22일에 데뷔한 ADOR 소속의 5인조 다국적 걸그룹입니다. 민지, 하니, 다니엘, 해린, 혜인으로 구성되어 있으며, 멤버들의 평균 나이는 데뷔 당시 16.4세였습니다. 뉴진스는 데뷔 후 다양한 음반 활동과 공연을 펼치며 인기를 얻고 있습니다. 또한, 뉴진스는 한국 문화와 관광을 홍보하기 위해 정부 및 문화 기관과 협력하며 다양한 활동을 펼치고 있습니다. 뉴진스의 멤버들은 한국어, 영어, 일본어를 구사할 수 있어 다국적 활동을 펼치고 있습니다. 뉴진스는 그룹명에서도 알 수 있듯이 새로운 시대를 열어가는 의미를 담고 있습니다.'), HumanMessage(content='뉴진스 알아?'), HumanMessage(content=\"럭키비키는 아이돌 장원영의 영어 이름인 Vicky와 '럭키(Lucky)'를 합쳐 만든 말로, 긍정적인 사고 방식을 나타내는 유행어입니다. 장원영이 긍정적인 상황에서도 긍정적으로 생각하는 모습을 표현한 것으로, '럭키비키'라는 용어는 그녀의 긍정적인 사고 방식을 나타내는 것으로 유명해졌습니다.\"), HumanMessage(content='럭키비키가 뭐야?'), HumanMessage(content='네, 뉴진스(NewJeans)는 2022년 7월 22일에 데뷔한 다국적 걸그룹입니다. ADOR 소속으로 활동하며, 멤버는 민지, 하니, 다니엘, 해린, 혜인으로 구성되어 있습니다. 뉴진스는 데뷔 이후 다양한 음반 활동과 공연을 통해 인기를 얻고 있으며, 그들의 음악과 활동이 많은 이들에게 사랑을 받고 있습니다. 또한, 뉴진스는 음악뿐만 아니라 다양한 활동을 통해 사회 공헌 및 팬들과 소통하는 모습으로도 주목받고 있습니다.'), HumanMessage(content='뉴진스 알아?'), HumanMessage(content='\"럭키비키\"는 아이돌 장원영의 긍정적인 사고 방식을 패러디한 말로, 원영적 사고를 의미합니다. 이는 좋지 않은 상황을 긍정적으로 바라보는 태도를 가리키며, 장원영이 어떤 상황에서도 긍정적인 마인드로 대처하는 모습을 지칭하는 유행어입니다.'), HumanMessage(content='럭키비키가 뭐야?'), HumanMessage(content='\"럭키비키\"는 한국어에서 사용되는 신조어로, \\'행운을 가져다준다\\'는 의미를 갖습니다. \\'럭키\\'는 \\'행운\\'을 의미하는 영어 단어 \\'lucky\\'에서 유래하며, \\'비키\\'는 \\'가져다주다\\'라는 뜻을 가진 일본어 단어 \\'ビキ\\'에서 영향을 받았습니다. 이 용어는 특정한 물건이나 상황이 행운을 가져다줄 것으로 믿을 때 사용되며, 긍정적인 운을 기원하거나 상징하는 데 사용됩니다. 최근 한국에서는 인터넷 커뮤니티나 소셜 미디어에서 자주 사용되는 유행어 중 하나입니다.'), HumanMessage(content='럭키비키가 뭐야?'), HumanMessage(content='죄송합니다. 현재 뉴진스에 대한 정보가 없습니다. 더 자세한 내용을 제공해주시면 해당 주제에 대해 도와드릴 수 있습니다. 뉴진스가 어떤 내용이나 관련성이 있는지 자세히 설명해주시면 도움이 될 것입니다.'), HumanMessage(content='뉴진스 알아?'), HumanMessage(content='\"럭키비키\"는 한국어에서 사용되는 신조어로, \\'행운을 가져다준다\\'는 의미를 갖습니다. \\'럭키\\'는 \\'행운\\'을 의미하는 영어 단어 \\'lucky\\'에서 유래하며, \\'비키\\'는 \\'가져다주다\\'라는 뜻을 가진 일본어 단어 \\'ビキ\\'에서 영향을 받았습니다. 이 용어는 특정한 물건이나 상황이 행운을 가져다줄 것으로 믿을 때 사용되며, 긍정적인 운을 기원하거나 상징하는 데 사용됩니다. 최근 한국에서는 인터넷 커뮤니티나 소셜 미디어에서 자주 사용되는 유행어 중 하나입니다.'), HumanMessage(content='럭키비키가 뭐야?'), HumanMessage(content='\"럭키비키\"는 한국어에서 사용되는 신조어로, \\'행운을 가져다준다\\'는 의미를 갖습니다. \\'럭키\\'는 \\'행운\\'을 의미하는 영어 단어 \\'lucky\\'에서 유래하며, \\'비키\\'는 \\'가져다주다\\'라는 뜻을 가진 일본어 단어 \\'ビキ\\'에서 영향을 받았습니다. 이 용어는 특정한 물건이나 상황이 행운을 가져다줄 것으로 믿을 때 사용되며, 긍정적인 운을 기원하거나 상징하는 데 사용됩니다. 최근 한국에서는 인터넷 커뮤니티나 소셜 미디어에서 자주 사용되는 유행어 중 하나입니다.'), HumanMessage(content='럭키비키가 뭐야?'), HumanMessage(content='뉴진스(NewJeans)는 ADOR 소속의 5인조 걸그룹으로, 2022년 7월 22일에 데뷔했습니다. 멤버로는 민지, 하니, 다니엘, 해린, 혜인이 속해 있습니다. 뉴진스는 데뷔 후 음반 발매와 활동을 통해 점차적으로 인기를 얻고 있으며, 다양한 음악 활동을 펼치고 있습니다. 또한, 뉴진스는 멤버들 간의 케미와 솔직한 매력으로 팬들에게 사랑을 받고 있습니다.'), HumanMessage(content='뉴진스 알아?'), HumanMessage(content='\"럭키비키\"는 한국어에서 사용되는 신조어로, \\'행운을 가져다준다\\'는 의미를 갖습니다. \\'럭키\\'는 \\'행운\\'을 의미하는 영어 단어 \\'lucky\\'에서 유래하며, \\'비키\\'는 \\'가져다주다\\'라는 뜻을 가진 일본어 단어 \\'ビキ\\'에서 영향을 받았습니다. 이 용어는 특정한 물건이나 상황이 행운을 가져다줄 것으로 믿을 때 사용되며, 긍정적인 운을 기원하거나 상징하는 데 사용됩니다. 최근 한국에서는 인터넷 커뮤니티나 소셜 미디어에서 자주 사용되는 유행어 중 하나입니다.'), HumanMessage(content='럭키비키가 뭐야?'), HumanMessage(content='뉴진스의 멤버인 민지의 생일은 2004년 5월 7일입니다. 현재로서는 민지의 생일을 축하하는 시기가 지났습니다.'), HumanMessage(content='뉴진스 민지 생일이 언제야?'), HumanMessage(content='\"럭키비키\"는 한국어에서 사용되는 신조어로, \\'행운을 가져다준다\\'는 의미를 갖습니다. \\'럭키\\'는 \\'행운\\'을 의미하는 영어 단어 \\'lucky\\'에서 유래하며, \\'비키\\'는 \\'가져다주다\\'라는 뜻을 가진 일본어 단어 \\'ビキ\\'에서 영향을 받았습니다. 이 용어는 특정한 물건이나 상황이 행운을 가져다줄 것으로 믿을 때 사용되며, 긍정적인 운을 기원하거나 상징하는 데 사용됩니다. 최근 한국에서는 인터넷 커뮤니티나 SNS에서 자주 사용되는 유행어 중 하나입니다.'), HumanMessage(content='럭키비키가 뭐야?'), HumanMessage(content='\"럭키비키\"는 한국어에서 사용되는 신조어로, \\'행운을 가져다준다\\'는 의미를 갖습니다. \\'럭키\\'는 \\'행운\\'을 의미하는 영어 단어 \\'lucky\\'에서 유래하며, \\'비키\\'는 \\'가져다주다\\'라는 뜻을 가진 일본어 단어 \\'ビキ\\'에서 영향을 받았습니다. 이 용어는 특정한 물건이나 상황이 행운을 가져다줄 것으로 믿을 때 사용되며, 긍정적인 운을 기원하거나 상징하는 데 사용됩니다. 최근 한국에서는 인터넷 커뮤니티나 SNS에서 자주 사용되는 유행어 중 하나입니다.'), HumanMessage(content='럭키비키가 뭐야?'), HumanMessage(content='\"럭키비키\"는 한국어에서 사용되는 신조어로, \\'행운을 가져다준다\\'는 의미를 갖습니다. \\'럭키\\'는 \\'행운\\'을 의미하는 영어 단어 \\'lucky\\'에서 유래하며, \\'비키\\'는 \\'가져다주다\\'라는 뜻을 가진 일본어 단어 \\'ビキ\\'에서 영향을 받았습니다. 이 용어는 특정한 물건이나 상황이 행운을 가져다줄 것으로 믿을 때 사용되며, 긍정적인 운을 기원하거나 상징하는 데 사용됩니다. 최근 한국에서는 인터넷 커뮤니티나 SNS에서 자주 사용되는 유행어 중 하나입니다.'), HumanMessage(content='럭키비키가 뭐야?'), HumanMessage(content='죄송합니다. \"뉴진스\"에 대한 정보는 현재 검색 결과나 일반적인 지식 범위를 벗어나는 것으로 보입니다. 추가 정보를 제공해주시면 더 자세한 도움을 드릴 수 있을 것입니다. \"뉴진스\"가 어떤 내용이나 업체를 가리키는지 설명해주시면 도움이 될 것입니다. 만약 \"뉴진스\"에 대한 정보를 얻고 싶으시다면, 관련 정보를 검색하거나 직접 해당 업체나 기관에 문의하시는 것을 권장드립니다.'), HumanMessage(content='뉴진스에 대해서 알려줘.'), HumanMessage(content='죄송합니다. \"뉴진스\"에 대한 정보는 현재 저에게 알려진 바가 없습니다. 추가 정보를 제공해주시면 더 자세한 도움을 드릴 수 있을 것입니다. \"뉴진스\"가 어떤 내용이나 업체를 가리키는지 설명해주시면 도움이 될 것입니다. 만약 \"뉴진스\"에 대한 정보를 얻고 싶으시다면, 관련 정보를 검색하거나 직접 해당 업체나 기관에 문의하시는 것을 권장드립니다.'), HumanMessage(content='뉴진스 알아?'), HumanMessage(content='인도의 통관 및 운송 절차는 다음과 같습니다:\\n\\n1. **수입 신고 및 준비 단계**:\\n   - 수입자는 수입 물품에 대한 수입신고를 하기 전에 수출입자코드를 발급 받아야 합니다.\\n   - 적하목록(IGM)를 제출해야 하며, 제출 기한을 엄수해야 합니다.\\n\\n2. **수입 신고 및 가격 신고**:\\n   - 수입자는 적하목록 제출 후, 수입신고서와 관련 서류를 제출하여 물품에 대한 수입신고를 합니다.\\n   - 필요한 서류에는 송장, 포장명세서, 선하증권 또는 항공화물운송장, 물품 관련 수입 라이센스 등이 포함됩니다.\\n\\n3. **통관 및 운송**:\\n   - 통관 절차는 정식통관 등 다양한 유형이 있으며, 보통 34근무일이 소요됩니다.\\n   - 인도의 통관은 사전 준비가 중요하며, 서류 작성 시 오류를 최소화해야 합니다.\\n   - 내륙운송 과정에서 사고가 발생할 수 있으므로 내륙운송보험에 가입하는 것이 권장됩니다.\\n\\n4. **검역 및 유의사항**:\\n   - 물품의 검역 및 통관을 위한 사전 준비가 중요하며, 서류 작성 시 신중해야 합니다.\\n   - 물품의 성분분석표, 원산지증명서, 포장명세서 등이 필요할 수 있습니다.\\n\\n인도의 통관 및 운송에 대한 자세한 정보는 현지 물류 업체나 관련 기관에 문의하시거나 인도의 세관 관련 웹사이트를 참고하시는 것이 도움이 될 것입니다.'), HumanMessage(content='인도 통관 및 운송에 대해서 알려줘.'), HumanMessage(content='죄송합니다. \"뉴진스\"에 대한 정보는 현재 저에게 알려진 바가 없습니다. 추가 정보를 제공해주시면 더 자세한 도움을 드릴 수 있을 것입니다. \"뉴진스\"가 어떤 내용이나 업체를 가리키는지 설명해주시면 도움이 될 것입니다. 만약 \"뉴진스\"에 대한 정보를 얻고 싶으시다면, 관련 정보를 검색하거나 직접 해당 업체나 기관에 문의하시는 것을 권장드립니다.'), HumanMessage(content='뉴진스 알아?'), HumanMessage(content='죄송합니다. \"뉴진스\"에 대한 정보는 현재 저에게 알려진 바가 없습니다. 추가 정보를 제공해주시면 더 자세한 도움을 드릴 수 있을 것입니다. \"뉴진스\"가 어떤 내용이나 업체를 가리키는지 설명해주시면 도움이 될 것입니다.'), HumanMessage(content='뉴진스 알아?'), HumanMessage(content='인도의 통관 및 운송 절차는 다음과 같습니다:\\n\\n1. **수입 신고 및 준비 단계**:\\n   - 수입자는 수입 물품에 대한 수입신고를 하기 전에 수출입자코드를 발급 받아야 합니다.\\n   - 적하목록(IGM)를 제출해야 하며, 제출 기한을 엄수해야 합니다.\\n\\n2. **수입 신고 및 가격 신고**:\\n   - 수입자는 적하목록 제출 후, 수입신고서와 관련 서류를 제출하여 수입신고를 합니다.\\n   - 필요한 서류에는 송장, 포장명세서, 선하증권 또는 항공화물운송장, 물품 관련 수입 라이센스 등이 포함됩니다.\\n\\n3. **통관 및 운송**:\\n   - 통관 절차는 정식통관 등 다양한 유형이 있으며, 보통 34근무일이 소요됩니다.\\n   - 인도의 통관은 사전 준비가 중요하며, 서류 작성 시 오류를 최소화해야 합니다.\\n   - 내륙운송 과정에서 사고가 발생할 수 있으므로 내륙운송보험에 가입하는 것이 권장됩니다.\\n\\n4. **검역 및 유의사항**:\\n   - 물품의 검역 및 통관을 위한 사전 준비가 중요하며, 서류 작성 시 신중해야 합니다.\\n   - 물품의 성분분석표, 원산지증명서, 포장명세서 등이 필요할 수 있습니다.\\n\\n인도의 통관 및 운송에 대한 자세한 정보는 현지 물류 업체나 관련 기관에 문의하시거나 인도의 세관 관련 웹사이트를 참고하시는 것이 도움이 될 것입니다.'), HumanMessage(content='인도 통관 및 운송에 대해서 알려줘.'), HumanMessage(content='죄송합니다. \"뉴진스\"에 대한 구체적인 정보는 현재 제가 알려드릴 수 있는 자료나 정보가 없습니다. \"뉴진스\"가 어떤 내용이나 업체를 가리키는지 추가 정보를 제공해주시면, 더 정확한 도움을 드릴 수 있을 것입니다. 만약 \"뉴진스\"에 대한 정보를 얻고 싶으시다면, 관련 정보를 검색하거나 직접 해당 업체나 기관에 문의하시는 것을 권장드립니다.'), HumanMessage(content='뉴진스 알아?'), HumanMessage(content='\"럭키비키\"는 일본어에서 영향을 받은 한국어 표현으로, \\'행운을 가져다준다\\'는 의미를 갖습니다. \\'럭키\\'는 \\'행운\\'을 의미하고, \\'비키\\'는 \\'가져다주다\\'라는 뜻입니다. 이 표현은 특정 물건이나 상황이 행운을 가져다줄 것으로 믿을 때 사용되며, 긍정적인 운을 기원하거나 상징하는 용도로 사용됩니다. 최근 한국에서는 인터넷 커뮤니티나 SNS에서 유행어로 자주 사용되고 있습니다.'), HumanMessage(content='럭키비키가 뭐야?'), HumanMessage(content='\"럭키비키\"는 일본어로 \"행운을 가져다주는 것\"을 의미합니다. \"럭키\"는 영어 단어 \"lucky\"의 일본식 발음이며, \"비키\"는 \"bring\"을 의미합니다. 따라서 \"럭키비키\"는 행운을 가져다주는 물건이나 상황을 가리키는 표현입니다. 일상 생활에서 특정 물건이나 행동을 \"럭키비키\"로 여기는 경우가 있으며, 이를 통해 행운을 기원하거나 행운을 가져다줄 것으로 믿는 것이 일반적입니다.'), HumanMessage(content='럭키비키가 뭐야?'), HumanMessage(content='인도의 통관 및 운송은 다음과 같은 주요 단계로 이루어집니다:\\n\\n1. **수입 신고 및 준비 단계**:\\n   - 수입자는 수입 물품에 대한 수입신고를 하기 전에 수출입자코드를 발급 받아야 합니다.\\n   - 적하목록(IGM)를 제출해야 하며, 제출 기한을 엄수해야 합니다.\\n\\n2. **수입 신고 및 가격 신고**:\\n   - 적하목록 제출 후, 수입자는 수입신고서와 관련 서류를 제출하여 수입신고를 합니다.\\n   - 필요한 서류에는 송장, 포장명세서, 선하증권 또는 항공화물운송장, 물품 관련 수입 라이센스 등이 포함됩니다.\\n\\n3. **통관 및 운송**:\\n   - 통관 절차는 정식통관 등 다양한 유형이 있으며, 일반적으로 34근무일이 소요됩니다.\\n   - 인도의 통관은 사전 준비가 중요하며, 서류 작성 시 오류를 최소화해야 합니다.\\n   - 내륙운송 과정에서 사고가 발생할 수 있으므로 내륙운송보험에 가입하는 것이 권장됩니다.\\n\\n4. **검역 및 유의사항**:\\n   - 물품의 검역 및 통관을 위한 사전 준비가 중요하며, 서류 작성 시 신중해야 합니다.\\n   - 물품의 성분분석표, 원산지증명서, 포장명세서 등이 필요할 수 있습니다.\\n\\n인도의 통관 및 운송에 대한 자세한 정보는 현지 물류 업체나 관련 기관에 문의하시거나 인도의 세관 관련 웹사이트를 참고하시는 것이 도움이 될 것입니다.'), HumanMessage(content='인도 통관 및 운송에 대해서 알려줘.'), HumanMessage(content='인도의 통관 및 운송은 다음과 같은 주요 절차로 이루어집니다:\\n\\n1. **수입 신고 및 준비 단계**:\\n   - 수입자는 수입 물품에 대한 수입신고를 하기 전에 수출입자코드를 발급 받아야 합니다.\\n   - 적하목록(IGM)를 제출해야 하며, 제출 기한을 엄수해야 합니다.\\n\\n2. **수입 신고 및 가격 신고**:\\n   - 적하목록 제출 후, 수입자는 수입신고서와 관련 서류를 제출하여 수입신고를 합니다.\\n   - 필요한 서류에는 송장, 포장명세서, 선하증권 또는 항공화물운송장, 물품 관련 수입 라이센스 등이 포함됩니다.\\n\\n3. **통관 및 운송**:\\n   - 통관 절차는 정식통관 등 다양한 유형이 있으며, 일반적으로 34근무일이 소요됩니다.\\n   - 인도의 통관은 사전 준비가 중요하며, 서류 작성 시 오류를 최소화해야 합니다.\\n   - 내륙운송 과정에서 사고가 발생할 수 있으므로 내륙운송보험에 가입하는 것이 권장됩니다.\\n\\n4. **검역 및 유의사항**:\\n   - 물품의 검역 및 통관을 위한 사전 준비가 중요하며, 서류 작성 시 신중해야 합니다.\\n   - 물품의 성분분석표, 원산지증명서, 포장명세서 등이 필요할 수 있습니다.\\n\\n인도의 통관 및 운송에 대한 자세한 정보는 현지 물류 업체나 관련 기관에 문의하시거나 인도의 세관 관련 웹사이트를 참고하시는 것이 도움이 될 것입니다.'), HumanMessage(content='인도 통관 및 운송에 대해서 알려줘.'), HumanMessage(content='인도의 통관 및 운송은 다음과 같은 주요 절차로 이루어집니다:\\n\\n1. **수입 신고 및 준비 단계**:\\n   - 수입자는 수입 물품에 대한 수입신고를 하기 전에 수출입자코드를 발급 받아야 합니다.\\n   - 적하목록(IGM)를 제출해야 하며, 제출 기한을 엄수해야 합니다.\\n\\n2. **수입 신고 및 가격 신고**:\\n   - 적하목록 제출 후, 수입자는 수입신고서와 관련 서류를 제출하여 수입신고를 합니다.\\n   - 필요한 서류에는 송장, 포장명세서, 선하증권 또는 항공화물운송장, 물품 관련 수입 라이센스 등이 포함됩니다.\\n\\n3. **통관 및 운송**:\\n   - 통관 절차는 정식통관 등 다양한 유형이 있으며, 일반적으로 34근무일이 소요됩니다.\\n   - 인도의 통관은 사전 준비가 중요하며, 서류 작성 시 오류를 최소화해야 합니다.\\n   - 내륙운송 과정에서 사고가 발생할 수 있으므로 내륙운송보험에 가입하는 것이 권장됩니다.\\n\\n4. **검역 및 유의사항**:\\n   - 물품의 검역 및 통관을 위한 사전 준비가 중요하며, 서류 작성 시 신중해야 합니다.\\n   - 물품의 성분분석표, 원산지증명서, 포장명세서 등이 필요할 수 있습니다.\\n\\n인도의 통관 및 운송에 대한 자세한 정보는 현지 물류 업체나 관련 기관에 문의하시거나 인도의 세관 관련 웹사이트를 참고하시는 것이 도움이 될 것입니다.'), HumanMessage(content='인도 통관 및 운송에 대해서 알려줘.'), HumanMessage(content='인도의 통관 및 운송은 다음과 같은 주요 절차로 이루어집니다:\\n\\n1. **수입 신고 및 준비 단계**:\\n   - 수입자는 수입 물품에 대한 수입신고를 하기 전에 수출입자코드를 발급 받아야 합니다.\\n   - 적하목록(IGM)를 제출해야 하며, 제출 기한을 엄수해야 합니다.\\n\\n2. **수입 신고 및 가격 신고**:\\n   - 적하목록 제출 후, 수입자는 수입신고서와 관련 서류를 제출하여 수입신고를 합니다.\\n   - 필요한 서류에는 송장, 포장명세서, 선하증권 또는 항공화물운송장, 물품 관련 수입 라이센스 등이 포함됩니다.\\n\\n3. **통관 및 운송**:\\n   - 통관 절차는 정식통관 등 다양한 유형이 있으며, 일반적으로 34근무일이 소요됩니다.\\n   - 인도의 통관은 사전 준비가 중요하며, 서류 작성 시 오류를 최소화해야 합니다.\\n   - 내륙운송 과정에서 사고가 발생할 수 있으므로 내륙운송보험에 가입하는 것이 권장됩니다.\\n\\n4. **검역 및 유의사항**:\\n   - 물품의 검역 및 통관을 위한 사전 준비가 중요하며, 서류 작성 시 신중해야 합니다.\\n   - 물품의 성분분석표, 원산지증명서, 포장명세서 등이 필요할 수 있습니다.\\n\\n인도의 통관 및 운송에 대한 자세한 정보는 현지 물류 업체나 관련 기관에 문의하시거나 인도의 세관 관련 웹사이트를 참고하시는 것이 도움이 될 것입니다.'), HumanMessage(content='인도 통관 및 운송에 대해서 알려줘.'), HumanMessage(content='인도의 통관 및 운송은 다음과 같은 주요 단계로 이루어집니다:\\n\\n1. **수입 신고 및 준비 단계**:\\n   - 수입자는 수입 물품에 대한 수입신고를 하기 전에 수출입자코드를 발급 받아야 합니다.\\n   - 적하목록(IGM)를 제출해야 하며, 제출 기한을 엄수해야 합니다.\\n\\n2. **수입 신고 및 가격 신고**:\\n   - 적하목록 제출 후, 수입자는 수입신고서와 관련 서류를 제출하여 수입신고를 합니다.\\n   - 필요한 서류에는 송장, 포장명세서, 선하증권 또는 항공화물운송장, 물품 관련 수입 라이센스 등이 포함됩니다.\\n\\n3. **통관 및 운송**:\\n   - 통관 절차는 정식통관 등 다양한 유형이 있으며, 일반적으로 34근무일이 소요됩니다.\\n   - 인도의 통관은 사전 준비가 중요하며, 서류 작성 시 오류를 최소화해야 합니다.\\n   - 내륙운송 과정에서 사고가 발생할 수 있으므로 내륙운송보험에 가입하는 것이 권장됩니다.\\n\\n4. **검역 및 유의사항**:\\n   - 물품의 검역 및 통관을 위한 사전 준비가 중요하며, 서류 작성 시 신중해야 합니다.\\n   - 물품의 성분분석표, 원산지증명서, 포장명세서 등이 필요할 수 있습니다.\\n\\n인도의 통관 및 운송에 대한 자세한 정보는 현지 물류 업체나 관련 기관에 문의하시거나 인도의 세관 관련 웹사이트를 참고하시는 것이 도움이 될 것입니다.'), HumanMessage(content='인도 통관 및 운송에 대해서 알려줘.'), HumanMessage(content='인도의 통관 및 운송은 다소 복잡하고 시간이 소요되는 절차를 거칩니다. 주요 내용을 간략히 설명드리겠습니다.\\n\\n1. **수입 신고 및 준비 단계**:\\n   - 수입자는 수입 물품에 대한 수입신고를 하기 전에 수출입자코드를 발급 받아야 합니다.\\n   - 적하목록(IGM)를 제출해야 하며, 제출 기한을 엄수해야 합니다.\\n\\n2. **수입 신고 및 가격 신고**:\\n   - 적하목록 제출 후, 수입자는 수입신고서와 관련 서류를 제출하여 수입신고를 합니다.\\n   - 필요한 서류에는 송장, 포장명세서, 선하증권 또는 항공화물운송장, 물품 관련 수입 라이센스 등이 포함됩니다.\\n\\n3. **통관 및 운송**:\\n   - 통관 절차는 정식통관 등 다양한 유형이 있으며, 일반적으로 34근무일이 소요됩니다.\\n   - 인도의 통관은 사전 준비가 중요하며, 서류 작성 시 오류를 최소화해야 합니다.\\n   - 내륙운송 과정에서 사고가 발생할 수 있으므로 내륙운송보험에 가입하는 것이 권장됩니다.\\n\\n4. **검역 및 유의사항**:\\n   - 물품의 검역 및 통관을 위한 사전 준비가 중요하며, 서류 작성 시 신중해야 합니다.\\n   - 물품의 성분분석표, 원산지증명서, 포장명세서 등이 필요할 수 있습니다.\\n\\n인도의 통관 및 운송에 대한 자세한 정보는 현지 물류 업체나 관련 기관에 문의하시거나 인도의 세관 관련 웹사이트를 참고하시는 것이 도움이 될 것입니다.'), HumanMessage(content='인도 통관 및 운송에 대해서 알려줘.'), HumanMessage(content='인도의 통관 및 운송은 다소 복잡하고 시간이 소요되는 절차를 거칩니다. 주요 내용을 간략히 설명드리겠습니다.\\n\\n1. **수입 신고 및 준비 단계**:\\n   - 수입자는 수입 물품에 대한 수입신고를 하기 전에 수출입자코드를 발급 받아야 합니다.\\n   - 적하목록(IGM)를 제출해야 하며, 제출 기한을 엄수해야 합니다.\\n\\n2. **수입 신고 및 가격 신고**:\\n   - 적하목록 제출 후, 수입자는 수입신고서와 관련 서류를 제출하여 수입신고를 합니다.\\n   - 필요한 서류에는 송장, 포장명세서, 선하증권 또는 항공화물운송장, 물품 관련 수입 라이센스 등이 포함됩니다.\\n\\n3. **통관 및 운송**:\\n   - 통관 절차는 정식통관 등 다양한 유형이 있으며, 일반적으로 34근무일이 소요됩니다.\\n   - 인도의 통관은 사전 준비가 중요하며, 서류 작성 시 오류를 최소화해야 합니다.\\n   - 내륙운송 과정에서 사고가 발생할 수 있으므로 내륙운송보험에 가입하는 것이 권장됩니다.\\n\\n4. **검역 및 유의사항**:\\n   - 물품의 검역 및 통관을 위한 사전 준비가 중요하며, 서류 작성 시 신중해야 합니다.\\n   - 물품의 성분분석표, 원산지증명서, 포장명세서 등이 필요할 수 있습니다.\\n\\n인도의 통관 및 운송에 대한 자세한 정보는 현지 물류 업체나 관련 기관에 문의하시거나 인도의 세관 관련 웹사이트를 참고하시는 것이 도움이 될 것입니다.'), HumanMessage(content='인도 통관 및 운송에 대해서 알려줘.'), HumanMessage(content='인도에서의 통관 및 운송은 해당 국가의 관세 및 세관 규정에 따라 이루어집니다. 인도의 통관 절차는 다양한 요소에 따라 달라질 수 있으며, 주요 단계는 다음과 같습니다:\\n\\n1. **수입신고 및 통관신청**: 물품이 인도로 수입될 때, 수입신고 및 통관신청을 해야 합니다. 이는 관세청 또는 세관에 제출되며, 필요한 서류와 정보를 포함해야 합니다.\\n\\n2. **관세 및 부가세 납부**: 수입된 물품에 대한 관세 및 부가세를 납부해야 합니다. 이는 세관에 의해 책정되며, 납부 방법은 다양할 수 있습니다.\\n\\n3. **검사 및 통관**: 세관은 수입된 물품을 검사하고 통관 여부를 결정합니다. 필요에 따라 추가 서류나 정보를 제출해야 할 수도 있습니다.\\n\\n4. **운송 및 배송**: 통관이 완료되면 물품은 운송되어 목적지로 배송됩니다. 이때 운송사와 협력하여 원활한 배송이 이루어지도록 해야 합니다.\\n\\n인도의 통관 및 운송에 대한 자세한 정보는 인도의 세관 관련 웹사이트나 현지 물류 업체와 상담하여 얻을 수 있습니다. 또한, 국제무역에 대한 이해와 현지 법규 준수가 중요하며, 전문가의 조언을 구하는 것이 좋습니다.'), HumanMessage(content='인도 통관 및 운송에 대해서 알려줘.')], 'context': [Document(metadata={'category': '정책', 'page': 0, 'source': '[정책][제약산업정보포털][2019.04.08]인도 통관 및 운송.pdf', 'year': 2019}, page_content='5. 통관 및 운송\\n \\n \\n가. 통관제도\\n  \\n \\n통관 유형별 절차\\n \\n1) 정식통관 \\n \\n인도에서 일반적인 경우 통관에 소요되는 시간은 행정상 운송 수입의 경우 3~4 근무일, '), Document(metadata={'category': '정책', 'page': 0, 'source': '[정책][제약산업정보포털][2019.04.08]인도 통관 및 운송.pdf', 'year': 2019}, page_content='하면 모든 서류에 서명 받게 된다. 이후 Challan No.라는 인도 관세 납부를 위한 번호를 부여받게 되고, 이를 근거로 관세를\\n완납하게 되면 물품을 반출할 수 있다. 또한, '), Document(metadata={'category': '정책', 'page': 1, 'source': '[정책][제약산업정보포털][2019.04.08]인도 통관 및 운송.pdf', 'year': 2019}, page_content='\\n  ㅇ 통관 정보의 불투명: 인도의 관세 행정은 한국에 비해 그 정보 및 기준이 전반적으로 불투명하며, 실무선의 재량권이 크고 융통성 없\\n는 처리 관행으로 인해 통관 애로가 자주'), Document(metadata={'source': '/Users/munseunghyeon/Downloads/big_project/승현_데이터수집/kotra_abroad_news_1th_.csv', 'url': 'https://dream.kotra.or.kr/user/extra/kotranews/bbs/linkView/jsp/Page.do?dataIdx=208409', 'date': '2023-11-28', 'category': '2. 경제 및 시장 분석', 'page_no': 13}, page_content='인터뷰 - B사\\n\\xa0\\nQ1. 귀사에 대해 설명해 주세요.\\nA1. 저희는 1996년에 식품 제조업을 시작해\\xa02009년부터는 아시안 식품을 비롯한 멕시코, 이탈리아 식품 등을 수입하는 국제적인 식품사업으로 확장한 기업입니다.\\n\\xa0\\nQ2. 한국 제품에 대한 인도 소비자들의 반응은 어떤가요?\\nA2. 인도 소비자들은 대체로 K-드라마를 통해 한국 제품에 대한 정보를 알게 되고\\xa0이러한 인식 제고는 판매량 증가로 이어집니다. 특히, 인도 북동 지역을 중심으로 소비자들이 큰 관심을 보입니다. 한국 음식의 비건 및 일반(non-veg) 옵션, 한식 특유의 매운맛, 다양한 풍미 등이 인도 시장에서 인기를 끌고 있습니다.\\n\\xa0\\nQ3. 수입 과정에서 어려움은 없으신가요?'), Document(metadata={'category': '정책', 'page': 0, 'source': '[정책][제약산업정보포털][2019.04.08]인도 통관 및 운송.pdf', 'year': 2019}, page_content=' 관세를 부과\\n하고 있다. 다만, 수입 제한·금지 품목으로 분류되지 않으며, 자가사용으로 판단되는 물픔은 면세된다.  '), Document(metadata={'category': '정책', 'page': 2, 'source': '[정책][제약산업정보포털][2019.04.08]인도 통관 및 운송.pdf', 'year': 2019}, page_content='/contact-us/contact-details/'), Document(metadata={'category': '정책', 'page': 2, 'source': '[정책][제약산업정보포털][2019.04.08]인도 통관 및 운송.pdf', 'year': 2019}, page_content='10th Floor, Lotus Corporate Park, Off Jay Coach Flyover, Western Express Highway,\\nGoregaon (E), Mumb'), Document(metadata={'source': 'INDIAN_TRADE_PORTAL_LATEST_NEWS', 'page_no': 250, 'category': '3. 정책 및 무역', 'url': 'https://www.hindustantimes.com/india-news/government-to-launch-an-eplatform-trade-connect-for-indian-exporters-piyush-goyal-101705409344249.html', 'date': '2024-01-17'}, page_content='Newspaper article title: Government to launch an ePlatform ‘Trade Connect’ for Indian exporters: Piyush Goyal.\\nPlease refer to the link below for detailed information on the newspaper article.\\nhttps://www.hindustantimes.com/india-news/government-to-launch-an-eplatform-trade-connect-for-indian-exporters-piyush-goyal-101705409344249.html'), Document(metadata={'category': '정책', 'page': 0, 'source': '[정책][제약산업정보포털][2019.04.08]인도 통관 및 운송.pdf', 'year': 2019}, page_content='경우 약식통관이 가능하다. 이는 전자상거래의 물품에도 적용된다. 인도는 2,000루피 이하의 품목을\\n3가지 분류로 나누어 HS코드를 적용하고 있으며, 그 분류는 다음과 같다.   '), Document(metadata={'category': '정책', 'page': 1, 'source': '[정책][제약산업정보포털][2019.04.08]인도 통관 및 운송.pdf', 'year': 2019}, page_content=' 않으나 필요 허가증 또는 라이센스를 수입신고 시 수입 서류와 함께 세관에 제출해야 한다. 식물, 씨앗, 과일의 경우\\n동식물 검역소에서 샘플의 테스트를 통해 발부받을 수 있으며, '), Document(metadata={'source': ' 2017년 농식품 해외시장 맞춤조사(인도_개사료).pdf', 'page_no': 50, 'category': '2. 경제 및 시장 분석', 'url': '한국농수산식품유통공사', 'date': '2017'}, page_content='4 통관 및 검역 유의사항\\n인도 통관 사전 준비가 관건\\n인도의 통관은 수입 통관 및 검역을 위한 사전 준비 절차가 중요함\\n통관에 필요한 서류를 구비할 시 서류의 기재오류나 서류 상호간 불일치를\\n수정하기가 매우 어려우며 이로 인해 통관 절차가 2  3주씩 지연되는 경우도\\n있어 철저한 서류 작성이 필수적임\\n또한 인도로 수출하는 물품의 경우 포장명세서PL와 상업송장CI을\\n컨테이너별로 철저히 작성해야함 인도 세관은 한 컨테이너 안에서 박스별로\\n화물이 일치하는지를 조사하는 등 실물검사가 철저하며 서류와 화물 불일치 시\\n통관이 불가능함\\n특히 인도는 도로와 항만 등 인프라가 낙후되어 있고 운송수단도 노후하기\\n때문에 내륙운송과정에서 사고가 자주 발생하므로 내륙운송보험에 가입해야함\\nInterview Info\\n원산지증명서 개사료 성분분석표 포장명세서 송장 선하증권은 반드시 필요하며 검역은 약 3040일 정도가'), Document(metadata={'category': '정책', 'page': 0, 'source': '[정책][제약산업정보포털][2019.04.08]인도 통관 및 운송.pdf', 'year': 2019}, page_content='후부터 체화료가 부과한다. \\n \\n2) 임시 통관 \\n \\n인도에 들여온 품목을 사용하지 않고 24개월 이내에 다시 반출할 목적이 있는 경우 임시통관이 이루어지게 된다. 임시통관을 위해'), Document(metadata={'source': '인도 통관 및 운송.pdf', 'page_no': 0, 'category': '3. 정책 및 무역', 'url': '제약산업정보포털', 'date': '2019.04.08'}, page_content='5 통관 및 운송\\n가 통관제도\\n통관 유형별 절차\\n1 정식통관\\n인도에서 일반적인 경우 통관에 소요되는 시간은 행정상 운송 수입의 경우 34 근무일 항공 운송은 약 12 근무일이 소요된다 일단 물\\n품이 입항하게 되면 보세구역장치에 적하되고 이후 전자데이터 교환EDI 신고 또는 수작업신고 통해 수입신고를 하게 된다 이후 인도\\n관세청의 수입요건 관세 평가 등을 검사하는 Appraiser Section과 관련 서류 및 관세율을 재점검하는 Audit Section 과정을 거치게 되\\n며 이를 통과하면 모든 서류에 서명 받게 된다 이후 Challan No라는 인도 관세 납부를 위한 번호를 부여받게 되고 이를 근거로 관세를\\n완납하게 되면 물품을 반출할 수 있다 또한 정식통관의 경우 인도 세관은 일반적으로 화물 도착 후 7일 이후부터 체화료Demurrage\\nCharge를 부과하고 컨테이너 운송의 경우 5일 이후부터 항공운송인 경우 3일 이후부터 체화료가 부과한다\\n2 임시 통관')], 'answer': '인도의 통관 및 운송 절차는 다음과 같이 진행됩니다:\\n\\n### 1. 통관 절차\\n\\n#### 정식통관\\n- **소요 시간**: 인도에서 일반적인 경우 통관에 소요되는 시간은 행정상 운송 수입의 경우 3~4 근무일, 항공 운송의 경우 약 1~2 근무일이 소요됩니다.\\n- **수입신고**: 물품이 입항하면 보세구역에 적하되고, 이후 전자데이터 교환(EDI) 신고 또는 수작업 신고를 통해 수입신고를 합니다.\\n- **검사 및 평가**: 인도 관세청의 수입요건, 관세 평가 등을 검사하는 Appraiser Section과 관련 서류 및 관세율을 재점검하는 Audit Section 과정을 거칩니다.\\n- **관세 납부**: 모든 서류에 서명을 받은 후, Challan No.라는 인도 관세 납부를 위한 번호를 부여받게 됩니다. 이를 근거로 관세를 완납하면 물품을 반출할 수 있습니다.\\n- **체화료**: 정식통관의 경우 인도 세관은 일반적으로 화물 도착 후 7일 이후부터 체화료(Demurrage Charge)를 부과하고, 컨테이너 운송의 경우 5일 이후부터, 항공운송의 경우 3일 이후부터 체화료가 부과됩니다.\\n\\n#### 임시 통관\\n- **목적**: 인도에 들여온 품목을 사용하지 않고 24개월 이내에 다시 반출할 목적이 있는 경우 임시통관이 이루어집니다.\\n\\n### 2. 운송 절차\\n\\n#### 내륙운송\\n- **인프라 상태**: 인도는 도로와 항만 등 인프라가 낙후되어 있고, 운송수단도 노후되어 있습니다. 따라서 내륙운송 과정에서 사고가 발생할 수 있습니다.\\n- **보험 가입**: 내륙운송보험에 가입하는 것이 권장됩니다. 이는 운송 중 발생할 수 있는 사고에 대비하기 위함입니다.\\n\\n#### 서류 작성\\n- **포장명세서(P/L)와 상업송장(C/I)**: 수출하는 물품의 경우 포장명세서와 상업송장을 컨테이너별로 철저히 작성해야 합니다. 인도 세관은 실물 검사를 철저히 실시하며, 서류와 화물이 일치하지 않을 경우 통관이 불가능할 수 있습니다.\\n\\n### 3. 유의사항\\n- **서류의 정확성**: 통관에 필요한 서류를 정확하게 작성하고 제출해야 합니다. 서류의 오류나 불일치로 인해 통관이 지연될 수 있습니다.\\n- **사전 준비**: 수입 통관 및 검역을 위한 사전 준비 절차가 중요합니다. 철저한 사전 준비를 통해 통관 절차를 원활하게 진행할 수 있습니다.\\n\\n이러한 절차와 유의사항을 준수하여 인도에서의 통관 및 운송을 원활하게 진행할 수 있습니다. 추가적인 정보나 세부 사항이 필요하다면 현지 물류 업체나 관련 기관에 문의하는 것이 좋습니다.'}\n"
     ]
    }
   ],
   "source": [
    "question = '인도 통관 및 운송에 대해서 알려줘.'\n",
    "answer = pipeline.chat_generation(question)\n",
    "\n",
    "print(answer)"
   ]
  },
  {
   "cell_type": "code",
   "execution_count": 12,
   "metadata": {},
   "outputs": [
    {
     "data": {
      "text/plain": [
       "dict_keys(['input', 'chat_history', 'context', 'answer'])"
      ]
     },
     "execution_count": 12,
     "metadata": {},
     "output_type": "execute_result"
    }
   ],
   "source": [
    "answer.keys()"
   ]
  },
  {
   "cell_type": "code",
   "execution_count": 10,
   "metadata": {},
   "outputs": [
    {
     "data": {
      "text/plain": [
       "[HumanMessage(content='2024.07.31 16:36:28 - 인도의 통관 및 운송 절차는 다음과 같이 진행됩니다:\\n\\n### 1. 통관 절차\\n\\n#### 정식통관\\n- **소요 시간**: 인도에서 일반적인 경우 통관에 소요되는 시간은 행정상 운송 수입의 경우 3~4 근무일이 소요됩니다.\\n- **서류 준비**: 수입자는 필요한 서류를 준비하여 제출해야 합니다. 주요 서류로는 포장명세서(P/L), 상업송장(C/I), 선하증권(B/L) 등이 있습니다.\\n- **수입신고**: 물품이 입항하면 보세구역에 적하되고, 이후 전자데이터 교환(EDI) 신고 또는 수작업 신고를 통해 수입신고를 합니다.\\n- **검사 및 평가**: 인도 관세청의 수입요건, 관세 평가 등을 검사하는 Appraiser Section과 관련 서류 및 관세율을 재점검하는 Audit Section 과정을 거칩니다.\\n- **관세 납부**: 모든 서류에 서명을 받은 후, Challan No.라는 인도 관세 납부를 위한 번호를 부여받게 됩니다. 이를 근거로 관세를 완납하면 물품을 반출할 수 있습니다.\\n\\n### 2. 운송 절차\\n\\n#### 내륙운송\\n- **인프라 상태**: 인도는 도로와 항만 등 인프라가 낙후되어 있고, 운송수단도 노후되어 있습니다. 따라서 내륙운송 과정에서 사고가 발생할 수 있습니다.\\n- **보험 가입**: 내륙운송보험에 가입하는 것이 권장됩니다. 이는 운송 중 발생할 수 있는 사고에 대비하기 위함입니다.\\n\\n#### 서류 작성\\n- **포장명세서(P/L)와 상업송장(C/I)**: 수출하는 물품의 경우 포장명세서와 상업송장을 컨테이너별로 철저히 작성해야 합니다. 인도 세관은 실물 검사를 철저히 실시하며, 서류와 화물이 일치하지 않을 경우 통관이 불가능할 수 있습니다.\\n\\n### 3. 유의사항\\n- **서류의 정확성**: 통관에 필요한 서류를 정확하게 작성하고 제출해야 합니다. 서류의 오류나 불일치로 인해 통관이 지연될 수 있습니다.\\n- **사전 준비**: 수입 통관 및 검역을 위한 사전 준비 절차가 중요합니다. 철저한 사전 준비를 통해 통관 절차를 원활하게 진행할 수 있습니다.\\n\\n이러한 절차와 유의사항을 준수하여 인도에서의 통관 및 운송을 원활하게 진행할 수 있습니다. 추가적인 정보나 세부 사항이 필요하다면 현지 물류 업체나 관련 기관에 문의하는 것이 좋습니다.'),\n",
       " HumanMessage(content='2024.07.31 16:36:28 - 인도 통관 및 운송에 대해서 알려줘.'),\n",
       " HumanMessage(content='FSSAI 라이선스 발급은 3단계로 이루어져 있습니다. 처음으로 신청자는 FORM C 양식의 라이센스를 받아야 합니다. 그 후, 해당 라이센스를 식품 사업을 영위하는 곳에 면허증 사본을 전시해야 합니다. 이러한 과정을 통해 FSSAI 라이선스를 취득할 수 있습니다.'),\n",
       " HumanMessage(content='FSSAI 라이선스 발급 절차는 몇 단계로 이루어져 있나요?'),\n",
       " HumanMessage(content='FSSAI(식품 안전 표준 기관) 라이선스 발급은 다음과 같은 단계로 이루어집니다:\\n\\n1. **온라인 등록 및 신청**: FSSAI 웹사이트에서 온라인으로 등록 및 라이선스 신청을 합니다.\\n   \\n2. **문서 제출**: 필요한 문서 및 정보를 제출합니다. 이에는 사업자 등록증, 식품 제조 공정 설명, 제품 성분 등이 포함될 수 있습니다.\\n   \\n3. **검토 및 심사**: FSSAI는 제출된 정보를 검토하고 라이선스를 승인 또는 거부합니다.\\n   \\n4. **라이선스 발급**: 신청이 승인되면 FSSAI 라이선스가 발급됩니다.\\n\\n이렇게 총 4단계로 FSSAI 라이선스 발급 절차가 이루어집니다.'),\n",
       " HumanMessage(content='FSSAI 라이선스 발급 절차는 몇 단계로 이루어져 있나요?'),\n",
       " HumanMessage(content='FSSAI 라이선스 발급은 3단계로 이루어져 있습니다. 처음으로 신청자는 FORM C양식의 라이센스를 받아야 합니다. 그 후, 해당 라이센스를 식품 사업을 영위하는 곳에 면허증 사본을 전시해야 합니다. 이러한 과정을 통해 FSSAI 라이선스를 취득할 수 있습니다.'),\n",
       " HumanMessage(content='FSSAI 라이선스 발급 절차는 몇 단계로 이루어져 있나요?'),\n",
       " HumanMessage(content='FSSAI 라이선스 발급은 총 3단계로 이루어져 있습니다. 처음으로 신청자는 FORM C 양식의 라이센스를 받아야 합니다. 그 후, 해당 라이센스를 식품 사업을 영위하는 곳에 면허증 사본을 전시해야 합니다. 이러한 과정을 통해 FSSAI 라이선스를 발급받을 수 있습니다.'),\n",
       " HumanMessage(content='FSSAI 라이선스 발급 절차는 몇 단계로 이루어져 있나요?'),\n",
       " HumanMessage(content='\"럭키비키\"는 IVE의 멤버인 원영(Wonyoung)이 자신을 부르는 영어 이름입니다. 원영이 긍정적인 마인드로 상황을 바라보고 자신을 운이 좋은 존재로 생각하는 모습이 인기를 끌었습니다.'),\n",
       " HumanMessage(content='럭키비키가 뭐야?'),\n",
       " HumanMessage(content='럭키비키는 아이돌 그룹 IVE의 멤버인 원영(Wonyoung)의 영어 이름입니다. 원영이 자신을 \"럭키 비키\"라고 부르며 긍정적인 마인드를 보여준 것이 인기를 끌었습니다. 이는 원영이 긍정적인 시각으로 상황을 바라보고 자신을 행운한 존재로 생각하는 모습을 나타냅니다.'),\n",
       " HumanMessage(content='럭키비키가 뭐야?'),\n",
       " HumanMessage(content='뉴진스(NewJeans)의 멤버 민지(Minji)의 생일은 2004년 5월 7일입니다.'),\n",
       " HumanMessage(content='뉴진스 민지의 생일을 알려줘.'),\n",
       " HumanMessage(content='뉴진스 민지(NewJeans Minji)의 생일은 알려지지 않았습니다. 현재까지 공식적으로 공개된 정보가 없기 때문에 생일에 대한 정확한 정보를 제공하기 어렵습니다.'),\n",
       " HumanMessage(content='뉴진스 민지의 생일을 알려줘.'),\n",
       " HumanMessage(content='럭키비키는 아이즈원(Iz*One) 출신의 멤버인 원영(Wonyoung)의 영어 이름입니다. 원영이 자신을 \"럭키 비키\"라고 부르며 긍정적인 마인드를 보여준 사례가 있어서 이와 관련된 이야기가 viral하게 퍼지기도 했습니다. 원영은 일상 속에서 긍정적인 시각으로 상황을 바라보는 모습을 보여주며 팬들에게 영감을 주고 있습니다.'),\n",
       " HumanMessage(content='럭키비키가 뭐야?'),\n",
       " HumanMessage(content='뉴진스(New Jeans)의 멤버인 민지(Kim Minji)의 생일은 2004년 5월 7일이며, 현재 20살입니다.'),\n",
       " HumanMessage(content='뉴진스 민지의 생일을 알려줘.'),\n",
       " HumanMessage(content='\"럭키비키\"는 한국의 아이돌 그룹 IVE의 멤버 중 한 명인 원영(Wonyoung)이 사용하는 영어 이름입니다. 그녀는 긍정적인 마인드와 유쾌한 말투로 유명하며, 자신의 이름인 \"Vicky\"를 \"Lucky Vicky\"로 변형하여 긍정적인 생각을 나타내는 표현으로 사용하고 있습니다. 이는 그녀의 긍정적인 태도와 유머 감각을 보여주는 것으로 알려져 있습니다.'),\n",
       " HumanMessage(content='럭키비키가 뭐야?'),\n",
       " HumanMessage(content='인도의 통관 및 운송 절차는 다음과 같이 진행됩니다:\\n\\n1. 통관 절차:\\n- 인도의 통관은 수입 통관 및 검역을 위한 사전 준비 절차가 중요합니다. 통관에 필요한 서류를 정확하게 제출해야 하며, 서류의 오류나 불일치로 인해 통관이 지연될 수 있습니다.\\n- 수출하는 물품의 경우 포장명세서(P/L)와 상업송장(C/I)을 컨테이너별로 철저히 작성해야 합니다. 인도 세관은 실물 검사를 철저히 실시하며, 서류와 화물이 일치하지 않을 경우 통관이 불가능할 수 있습니다.\\n- 인도의 인프라가 낙후되어 있고 운송수단이 노후하기 때문에 내륙운송 과정에서 사고가 발생할 수 있습니다. 따라서 내륙운송보험에 가입하는 것이 권장됩니다.\\n\\n2. 운송 시간:\\n- 인도에서 통관에 소요되는 시간은 행정상 운송 수입의 경우 약 34 근무일이 소요되며, 항공 운송의 경우 약 12 근무일이 소요됩니다.\\n- 물품이 입항하면 보세구역에 적하되고, 이후 전자데이터 교환(EDI) 신고 또는 수작업 신고를 통해 수입신고를 진행합니다. 이후 관세청의 수입요건 및 관세 평가 등을 검사하는 과정을 거치며, 관련 서류 및 관세율을 재점검합니다.\\n\\n이러한 통관 및 운송 절차를 준수하고 이해하는 것이 인도에서의 수출 사업을 원활히 진행하는 데 도움이 될 것입니다.'),\n",
       " HumanMessage(content='인도 통관 및 운송에 대해서 알려줘.'),\n",
       " HumanMessage(content='럭키비키는 아이즈원(Iz*One) 출신의 멤버인 원영(Wonyoung)의 영어 이름입니다. 원영이 MCountdown에서 \"럭키 비키\"라는 말을 사용하여 긍정적인 마인드를 보여준 것이 인기를 끌었습니다. 그녀의 긍정적인 사고 방식이 많은 이들에게 영감을 주고 있다고 합니다.'),\n",
       " HumanMessage(content='럭키비키가 뭐야?'),\n",
       " HumanMessage(content='\"럭키비키\"는 일본어로 \"행운을 늘리는 부적\"을 의미합니다. 이는 일본에서 사용되는 부적이며, 주로 다양한 목적을 위해 사용됩니다. 예를 들어, 교통 안전, 사랑과 결혼, 건강, 성공과 승리, 가족 안전 등 다양한 분야에서 행운을 누리고자 할 때 사용됩니다. 부적은 일본의 사원이나 절에서 구입할 수 있으며, 특정 목적에 맞게 선택하여 사용합니다. 부적은 일상생활에서 행운을 누리고자 하는 사람들에게 인기가 있습니다.'),\n",
       " HumanMessage(content='럭키비키가 뭐야?'),\n",
       " HumanMessage(content='인도의 통관 및 운송 절차는 다음과 같이 진행됩니다:\\n\\n1. 통관 절차:\\n- 인도에서 통관에 소요되는 시간은 행정상 운송 수입의 경우 약 34 근무일이 소요되며, 항공 운송의 경우 약 12 근무일이 소요됩니다.\\n- 물품이 입항하면 보세구역장치에 적하되고, 이후 전자데이터 교환(EDI) 신고 또는 수작업 신고를 통해 수입신고를 합니다.\\n- 이후 인도 관세청의 수입요건, 관세 평가 등을 검사하는 Appraiser Section과 관련 서류 및 관세율을 재점검하는 Audit Section 과정을 거치게 됩니다.\\n\\n2. 운송:\\n- 인도는 도로와 항만 등 인프라가 낙후되어 있고, 운송수단도 노후하기 때문에 내륙운송 과정에서 사고가 자주 발생합니다. 따라서 내륙운송보험에 가입하는 것이 권장됩니다.\\n- 인도로 수출하는 물품의 경우 포장명세서(P/L)와 상업송장(C/I)을 컨테이너별로 철저히 작성해야 합니다. 인도 세관은 실물 검사가 철저하며, 서류와 화물이 일치하지 않을 경우 통관이 불가능할 수 있습니다.\\n\\n따라서, 인도의 통관 및 운송에 있어서는 철저한 사전 준비와 정확한 서류 작성이 중요하며, 인프라 상태와 운송 보험에 대한 고려가 필요합니다.'),\n",
       " HumanMessage(content='인도 통관 및 운송에 대해서 알려줘.'),\n",
       " HumanMessage(content='\"럭키비키\"는 일본어로 \"행운의 열쇠\"를 의미합니다. 이는 일상 생활에서 행운을 불러오거나 행운을 유지하기 위해 사용되는 다양한 물건이나 행위를 가리키는 용어입니다. 특히 일본 문화에서는 다양한 신념과 전통이 있어서 행운을 불러오는 것에 중요성을 두는데, 이러한 맥락에서 \"럭키비키\"라는 용어가 사용됩니다.'),\n",
       " HumanMessage(content='럭키비키가 뭐야?'),\n",
       " HumanMessage(content='인도의 통관 및 운송 절차는 다음과 같습니다:\\n\\n1. **통관 절차**:\\n   - **통관 유형**: 정식통관 및 일반통관이 있습니다.\\n   - **소요 시간**: 행정상 운송 수입의 경우 34 근무일, 항공 운송은 약 12 근무일이 소요됩니다.\\n   - **수입신고**: 물품이 입항하면 보세구역에 적하되고, 이후 전자데이터 교환(EDI) 신고 또는 수작업 신고를 통해 수입신고를 합니다.\\n   - **검사 과정**: 수입요건, 관세 평가 등을 검사하는 Appraiser Section과 관련 서류 및 관세율을 재점검하는 Audit Section 과정을 거칩니다.\\n\\n2. **운송 유의사항**:\\n   - **포장 및 서류**: 수출하는 물품의 경우 포장명세서(P/L)와 상업송장(C/I)을 컨테이너별로 철저히 작성해야 합니다.\\n   - **실물 검사**: 인도 세관은 실물 검사가 철저하며, 서류와 화물이 일치하지 않을 경우 통관이 불가능할 수 있습니다.\\n   - **운송 보험**: 인도의 내륙운송은 사고가 발생할 수 있으므로 내륙운송보험에 가입하는 것이 권장됩니다.\\n\\n이러한 사항들을 고려하여 인도의 통관 및 운송 절차를 준비하시면 수출 사업을 보다 원활하게 진행할 수 있을 것입니다.'),\n",
       " HumanMessage(content='인도 통관 및 운송에 대해서 알려줘.'),\n",
       " HumanMessage(content='\"럭키비키\"는 일본에서 새해에 관련된 행사나 전통적인 행사에서 운이 좋은 상징이나 요소를 가리키는 용어입니다. 새해에 관련된 다양한 행사나 관행에서 특정한 상징물이나 사물이 나타나면 그것이 \"럭키비키\"로 여겨지며, 해당 상징물이나 사물을 보게 되면 해당 해가 행운이 가득한 해가 될 것이라고 믿는 전통이 있습니다. 일본에서는 새해에 관련된 다양한 행사와 관행을 통해 행운을 기원하고자 하는 문화가 있습니다.'),\n",
       " HumanMessage(content='럭키비키가 뭐야?'),\n",
       " HumanMessage(content='인도의 통관 및 운송 절차는 다음과 같습니다:\\n\\n1. 통관 절차:\\n- 인도에서 통관에 소요되는 시간은 행정상 운송 수입의 경우 34 근무일, 항공 운송은 약 12 근무일이 소요됩니다.\\n- 물품이 입항하면 보세구역장치에 적하되고, 이후 전자데이터 교환(EDI) 신고 또는 수작업 신고를 통해 수입신고를 합니다.\\n- 이후 인도 관세청의 수입요건, 관세 평가 등을 검사하는 Appraiser Section과 관련 서류 및 관세율을 재점검하는 Audit Section 과정을 거치며 통관이 진행됩니다.\\n\\n2. 운송:\\n- 인도는 도로와 항만 등 인프라가 낙후되어 있고, 운송수단도 노후하기 때문에 내륙운송 과정에서 사고가 자주 발생합니다.\\n- 인도로 수출하는 물품의 경우 포장명세서(P/L)와 상업송장(C/I)을 컨테이너별로 철저히 작성해야 합니다. 인도 세관은 실물 검사가 철저하며, 서류와 화물 불일치 시 통관이 불가능할 수 있습니다.\\n- 특히 내륙운송 과정에서 사고가 발생할 수 있으므로 내륙운송보험에 가입하는 것이 권장됩니다.\\n\\n이러한 사항들을 고려하여 인도의 통관 및 운송에 대비하는 것이 중요합니다. 필요한 서류 작성과 절차 준수를 철저히 하여 원활한 수출 및 수입이 이루어질 수 있도록 준비해야 합니다.'),\n",
       " HumanMessage(content='인도 통관 및 운송에 대해서 알려줘.'),\n",
       " HumanMessage(content='\"럭키비키\"는 한국의 유명한 음식 브랜드 중 하나입니다. 럭키비키는 다양한 종류의 떡과 떡볶이를 판매하는 브랜드로 유명하며, 특히 떡볶이 전문점으로도 알려져 있습니다. 럭키비키의 떡볶이는 매콤하고 고소한 맛으로 많은 이들에게 사랑을 받고 있습니다. 또한, 럭키비키는 다양한 종류의 떡도 판매하고 있어 한국인들 사이에서 인기가 있는 브랜드 중 하나입니다.'),\n",
       " HumanMessage(content='럭키비키가 뭐야?'),\n",
       " HumanMessage(content='인도의 통관 및 운송 절차는 다음과 같습니다:\\n\\n1. **통관 절차**:\\n   - **통관 유형**: 정식통관 및 일반통관이 있습니다.\\n   - **소요 시간**: 행정상 운송 수입의 경우 34 근무일, 항공 운송은 약 12 근무일이 소요됩니다.\\n   - **수입신고**: 물품이 입항하면 보세구역에 적하되고, 이후 전자데이터 교환(EDI) 신고 또는 수작업 신고를 통해 수입신고를 합니다.\\n   - **검사 과정**: 수입요건, 관세 평가 등을 검사하는 Appraiser Section과 관련 서류 및 관세율을 재점검하는 Audit Section 과정을 거칩니다.\\n\\n2. **운송 유의사항**:\\n   - **포장 및 서류**: 수출하는 물품의 경우 포장명세서(P/L)와 상업송장(C/I)을 컨테이너별로 철저히 작성해야 합니다.\\n   - **실물 검사**: 인도 세관은 실물 검사가 철저하며, 서류와 화물이 일치하지 않을 경우 통관이 불가능할 수 있습니다.\\n   - **운송 보험**: 인도의 내륙운송은 사고가 발생할 수 있으므로 내륙운송보험에 가입하는 것이 권장됩니다.\\n\\n이러한 사항들을 고려하여 인도의 통관 및 운송 절차를 준비하시면 수출 사업을 보다 원활하게 진행할 수 있을 것입니다.'),\n",
       " HumanMessage(content='인도 통관 및 운송에 대해서 알려줘.'),\n",
       " HumanMessage(content=\"죄송합니다. 장원영의 그룹은 럭키비키(LUCKY KEE)가 아니라 럭키비키(LUCKY VICKY)입니다. 럭키비키는 장원영을 포함한 멤버들로 구성된 그룹으로, 2022년 11월 11일에 데뷔한 것으로 알려져 있습니다. 럭키비키는 7명의 멤버로 구성되어 있으며, 데뷔 싱글 앨범 'LUCKY'를 발표하였습니다. 장원영은 럭키비키의 멤버 중 한 명으로 활동하고 있습니다. 이 정보가 도움이 되었기를 바랍니다.\"),\n",
       " HumanMessage(content='장원영의 luckyviki가 뭐야?'),\n",
       " HumanMessage(content='죄송합니다. 장원영이 속한 그룹인 럭키비키(LUCKY KEE)에 대한 정보는 제가 가지고 있는 자료에는 포함되어 있지 않습니다. 장원영이 속한 그룹 럭키비키에 대한 자세한 정보는 추가적인 검색이 필요할 것 같습니다. 더 많은 정보를 찾아보시기 바랍니다.'),\n",
       " HumanMessage(content='장원영의 럭키비키가 뭐야?'),\n",
       " HumanMessage(content=\"죄송합니다. 럭키비키(LUCKY KEE)에 대한 정보를 다시 제공해 드리겠습니다.\\n\\n럭키비키는 대한민국의 걸그룹으로, 2022년 11월 11일에 데뷔한 그룹입니다. 럭키비키는 7명의 멤버로 구성되어 있으며, 데뷔 싱글 앨범 'LUCKY'를 발표하였습니다. 럭키비키는 데뷔 이후 꾸준한 활동을 펼치고 있습니다. 이 정보가 도움이 되었기를 바랍니다.\"),\n",
       " HumanMessage(content='럭키비키가 뭐야?'),\n",
       " HumanMessage(content='뉴진스(NewJeans)의 멤버 민지(Kim Min-ji)의 생일은 2004년 5월 7일입니다. 따라서 현재 민지는 2022년 기준으로 18세입니다. 생일 정보가 공식적으로 확인되었으며, 민지의 생일은 5월 7일임을 알려드립니다.'),\n",
       " HumanMessage(content='뉴진스 민지의 생일을 알려줘.'),\n",
       " HumanMessage(content=\"죄송합니다. 럭키비키(LUCKY KEE)에 대한 정보를 제공해 드리겠습니다.\\n\\n럭키비키는 한국의 걸그룹으로, 2022년 11월 11일에 데뷔한 그룹입니다. 럭키비키는 7명의 멤버로 구성되어 있으며, 데뷔 싱글 앨범 'LUCKY'를 발표하였습니다. 럭키비키는 데뷔 이후 꾸준한 활동을 펼치고 있습니다. 이 정보가 도움이 되었기를 바랍니다.\"),\n",
       " HumanMessage(content='아니야 너의 대답은 틀렸어. 럭키비키에 대해서 알려줘.'),\n",
       " HumanMessage(content=\"럭키비키(LUCKY KEE)는 한국의 걸그룹으로, 2022년 11월 11일에 데뷔한 그룹입니다. 럭키비키는 7명의 멤버로 구성되어 있으며, 데뷔 싱글 앨범 'LUCKY'를 발표하였습니다. 럭키비키는 데뷔 이후 꾸준한 활동을 펼치고 있습니다.\"),\n",
       " HumanMessage(content='럭키비키가 뭐야?'),\n",
       " HumanMessage(content='뉴진스(NewJeans)의 멤버 민지(Kim Min-ji)의 생일은 2004년 5월 7일입니다. 따라서 현재 민지는 2022년 기준으로 18세입니다. 생일 정보가 공식적으로 확인되었으며, 민지의 생일은 5월 7일임을 알려드립니다.'),\n",
       " HumanMessage(content='뉴진스 민지의 생일을 알려줘.'),\n",
       " HumanMessage(content='뉴진스(NewJeans)의 멤버 민지의 생일은 알려드릴 수 없습니다. 민지의 생일 정보는 공식적으로 공개되지 않았거나 제공된 정보가 없기 때문에 정확한 생일을 알 수 없습니다. 뉴진스 멤버들의 개인적인 정보는 보호되고 있을 수 있으며, 공개된 정보만을 기반으로 도움을 드릴 수 있습니다. 추가적인 정보가 공개되면 업데이트하여 안내해드리겠습니다.'),\n",
       " HumanMessage(content='뉴진스 민지의 생일을 알려줘.'),\n",
       " HumanMessage(content='뉴진스(NewJeans)는 2022년 7월 22일에 데뷔한 ADOR 소속의 5인조 다국적 걸그룹입니다. 멤버로는 민지, 하니, 다니엘, 해린, 혜인이 속해 있습니다. 뉴진스는 다양한 국적을 가진 멤버들로 구성되어 있으며, 그들의 음악과 활동으로 많은 사람들의 관심을 받고 있습니다. 뉴진스는 데뷔 이후 다양한 음악 활동과 이벤트를 통해 팬들과 소통하고 있으며, 높은 인기를 얻고 있는 걸그룹 중 하나입니다.'),\n",
       " HumanMessage(content='뉴이스트말고 뉴진스 알아?'),\n",
       " HumanMessage(content='네, 뉴이스트(NU\\'EST)에 대해 알고 있습니다. 뉴이스트는 플레디스 엔터테인먼트 소속의 5인조 보이 그룹으로, 2012년 3월 15일에 \"Face\"라는 첫 싱글로 데뷔했습니다. 멤버로는 Aron, JR, Baekho, Minhyun, Ren이 있었고, 그들은 각종 음악 활동을 통해 인기를 얻었습니다. 뉴이스트는 2022년 3월 15일 그룹의 10주년을 맞아 공식적으로 해체되었으며, JR, Aron, Ren은 플레디스 엔터테인먼트를 떠났고, Baekho와 Minhyun은 계약을 갱신했습니다. 이렇게 뉴이스트는 그룹으로서의 활동을 마무리했습니다.'),\n",
       " HumanMessage(content='너 뉴진스 알아?'),\n",
       " HumanMessage(content='럭키비키는 아이즈원 출신의 아이돌 원영(Wonyoung)의 영어 이름입니다. 원영이 MCountdown에서 \"럭키 비키\"라는 말을 사용하여 긍정적인 마인드를 나타낸 것이 인기를 끌었습니다. 이는 원영이 일상 속에서 긍정적인 시각으로 사물을 바라보는 모습을 나타내는 것으로, 그녀의 긍정적인 태도가 많은 이들에게 영감을 주고 있다고 합니다.'),\n",
       " HumanMessage(content='럭키비키가 뭐야?'),\n",
       " HumanMessage(content='네, 뉴진스(NewGen Surgical)는 지속 가능한 디자인의 식물 기반 일회용 의료 기기와 제품을 개발하고 제조하는 회사입니다. 이 회사는 플라스틱과 Scope 3 배출량을 측정적으로 줄이기 위한 임상적으로 효과적인 제품 솔루션을 제공하는 것을 사명으로 삼고 있습니다. 뉴진스(NewGen Surgical)의 제품은 캘리포니아 Prop 65 준수, 의도적으로 첨가된 BPA나 BPA 유래 플라스틱, 수은, 프탈레이트, PFAs 및 PVC가 없으며, USDA BioPreferred Certified로 인증되었습니다. 이 회사는 의료 분야에서 탄소 발자국을 줄이기 위해 석유 기반 원료를 재생 가능한 재료로 대체하는 것에 전념하고 있습니다.'),\n",
       " HumanMessage(content='너 뉴진스 알아?'),\n",
       " HumanMessage(content='\"럭키비키\"는 미국 조지아주 터커에 위치한 중국 요리와 일본 요리를 판매하는 레스토랑입니다. 이 식당은 중국 요리와 일본 요리를 제공하며, 고객들에게 훌륭한 서비스와 음식을 제공한다는 평가를 받고 있습니다. 또한, 역사가 느껴지며 분위기가 편안하다는 점이 강조되고 있습니다. 럭키비키는 중국 요리와 일본 요리를 즐기고자 하는 고객들에게 좋은 선택지로 소개되고 있습니다.'),\n",
       " HumanMessage(content='럭키비키가 뭐야?'),\n",
       " HumanMessage(content='인도의 통관 및 운송 절차는 다음과 같습니다:\\n\\n1. 통관 절차:\\n- 인도에서 통관에 소요되는 시간은 행정상 운송 수입의 경우 34 근무일, 항공 운송은 약 12 근무일이 소요됩니다.\\n- 물품이 입항하면 보세구역장치에 적하되고, 이후 전자데이터 교환(EDI) 신고 또는 수작업 신고를 통해 수입신고를 합니다.\\n- 이후 인도 관세청의 수입요건, 관세 평가 등을 검사하는 Appraiser Section과 관련 서류 및 관세율을 재점검하는 Audit Section 과정을 거치며 통관이 이루어집니다.\\n\\n2. 운송:\\n- 인도는 도로와 항만 등 인프라가 낙후되어 있고, 운송수단도 노후하기 때문에 내륙운송 과정에서 사고가 자주 발생합니다.\\n- 인도로 수출하는 물품의 경우 포장명세서(P/L)와 상업송장(C/I)을 컨테이너별로 철저히 작성해야 합니다.\\n- 인도 세관은 한 컨테이너 안에서 박스별로 화물의 일치 여부를 조사하는 등 실물 검사가 철저하며, 서류와 화물 불일치 시 통관이 불가능합니다.\\n\\n또한, 인도의 통관은 수입 통관 및 검역을 위한 사전 준비 절차가 중요하며, 통관에 필요한 서류를 철저히 작성해야 합니다. 서류의 오류나 불일치로 인해 통관 절차가 지연될 수 있으므로 주의가 필요합니다.'),\n",
       " HumanMessage(content='인도 통관 및 운송에 대해서 알려줘.'),\n",
       " HumanMessage(content=\"뉴이스트(NU'EST)의 멤버인 민현(Minhyun)의 생일은 1995년 8월 9일입니다.\"),\n",
       " HumanMessage(content='뉴진스 민지의 생일을 알려줘.'),\n",
       " HumanMessage(content='\"럭키비키\"는 아이즈원(Iz*One) 출신의 멤버인 조원영(Wonyoung)의 영어 이름인 \"Vicky\"를 의미합니다. 원영이 자신의 긍정적인 사고방식을 나타내며 자신을 \"럭키비키\"라고 표현하는 모습이 인기를 끌고 있습니다. 그녀의 긍정적인 마인드와 유쾌한 말투가 팬들 사이에서 화제가 되고 있습니다.'),\n",
       " HumanMessage(content='럭키비키가 뭐야?'),\n",
       " HumanMessage(content='인도의 통관 및 운송 절차는 다음과 같습니다:\\n\\n1. **통관 절차**:\\n   - **통관 유형**: 정식통관 및 일반통관이 있습니다.\\n   - **소요 시간**: 행정상 운송 수입의 경우 34 근무일, 항공 운송은 약 12 근무일이 소요됩니다.\\n   - **수입신고**: 물품이 입항하면 보세구역에 적하되고, 이후 전자데이터 교환(EDI) 신고 또는 수작업 신고를 통해 수입신고를 합니다.\\n   - **검사 과정**: 수입요건, 관세 평가 등을 검사하는 Appraiser Section과 관련 서류 및 관세율을 재점검하는 Audit Section 과정을 거칩니다.\\n\\n2. **운송 유의사항**:\\n   - **포장 및 서류**: 수출하는 물품의 경우 포장명세서(P/L)와 상업송장(C/I)을 컨테이너별로 철저히 작성해야 합니다.\\n   - **실물 검사**: 인도 세관은 실물 검사가 철저하며, 서류와 화물이 일치하지 않을 경우 통관이 불가능할 수 있습니다.\\n   - **내륙운송**: 인도의 인프라가 낙후되어 있고 운송수단이 노후하기 때문에 내륙운송 과정에서 사고가 발생할 수 있으므로 내륙운송보험에 가입해야 합니다.\\n\\n이러한 사항들을 고려하여 인도의 통관 및 운송에 대비하시면 좀 더 원활한 수출 사업을 진행할 수 있을 것입니다.'),\n",
       " HumanMessage(content='인도 통관 및 운송에 대해서 알려줘.'),\n",
       " HumanMessage(content='인도의 통관 및 운송에 대한 정보를 제공해드리겠습니다.\\n\\n1. 통관 절차:\\n- 인도의 통관은 수입 통관 및 검역을 위한 사전 준비 절차가 중요합니다. 통관에 필요한 서류를 제출할 때 서류의 기재 오류나 서류 상호 간 불일치를 수정하기가 어려울 수 있으며, 이로 인해 통관 절차가 지연될 수 있습니다. 따라서 철저한 서류 작성이 필수적입니다.\\n- 인도로 수출하는 물품의 경우 포장명세서(P/L)와 상업송장(C/I)을 컨테이너별로 철저히 작성해야 합니다. 인도 세관은 컨테이너 안에서 화물의 일치 여부를 조사하며, 서류와 화물이 일치하지 않을 경우 통관이 불가능할 수 있습니다.\\n- 인도는 도로와 항만 등 인프라가 낙후되어 있고, 운송수단도 노후하기 때문에 내륙운송 과정에서 사고가 발생할 수 있습니다. 따라서 내륙운송보험에 가입하는 것이 권장됩니다.\\n\\n2. 운송 시간:\\n- 인도에서 통관에 소요되는 시간은 일반적으로 행정상 운송 수입의 경우 34 근무일, 항공 운송의 경우 약 12 근무일이 소요됩니다.\\n- 물품이 입항하면 보세구역장치에 적하되고, 이후 전자데이터 교환(EDI) 신고 또는 수작업 신고를 통해 수입신고를 하게 됩니다. 이후 인도 관세청의 수입요건 관세 평가 등을 검사하는 과정을 거치며 통관이 이루어집니다.\\n\\n이상이 인도의 통관 및 운송에 대한 기본적인 정보입니다. 더 자세한 정보가 필요하시다면 관련 기관이나 전문가에게 상담을 받는 것이 도움이 될 수 있습니다.'),\n",
       " HumanMessage(content='인도 통관 및 운송에 대해서 알려줘.'),\n",
       " HumanMessage(content='죄송합니다, 제가 알고 있는 정보에는 \"뉴진스 민지\"라는 인물에 대한 생일 정보가 없습니다. 더 자세한 정보를 알고 싶으시다면 해당 인물에 대한 추가 정보를 제공해주시면 더 도와드리겠습니다.'),\n",
       " HumanMessage(content='뉴진스 민지의 생일을 알려줘.'),\n",
       " HumanMessage(content='\"럭키비키\"는 일본 요리와 중국 음식을 판매하는 레스토랑으로 보입니다. 메뉴에는 에그롤, 몽골식 소고기, 치킨 에그 드롭 수프, 스팀드 무구 가이 판 다이어터 스페셜, 시즐링 라이스 수프, 캘리포니아 롤, 달콤하고 새콤한 치킨 등이 있습니다. 건강 점수는 80점으로 나와 있습니다. 또한 예약을 받고 배달 및 테이크아웃 서비스도 제공하고 있습니다. 이 레스토랑은 럭키비키 & 후지야(Lucky Key & Fuji Ya)로 알려져 있습니다.'),\n",
       " HumanMessage(content='럭키비키가 뭐야?'),\n",
       " HumanMessage(content='인도의 통관 및 운송 절차는 다음과 같이 요약됩니다:\\n\\n1. 통관 절차:\\n- 인도의 통관은 수입 통관 및 검역을 위한 사전 준비가 중요합니다. 통관에 필요한 서류를 정확하게 제출해야 하며, 서류의 오류나 불일치로 인해 통관이 지연될 수 있습니다.\\n- 수출하는 물품의 경우 포장명세서(P/L)와 상업송장(C/I)을 컨테이너별로 철저히 작성해야 합니다. 인도 세관은 실물 검사를 철저히 실시하며, 서류와 화물이 일치해야 합니다.\\n- 인도의 인프라가 낙후되어 있고 운송수단이 노후하기 때문에 내륙운송 과정에서 사고가 발생할 수 있습니다. 내륙운송보험에 가입하는 것이 권장됩니다.\\n\\n2. 운송 시간:\\n- 행정상 운송 수입의 경우, 통관에 소요되는 시간은 약 34 근무일이며, 항공 운송의 경우 약 12 근무일이 소요됩니다.\\n- 물품이 입항하면 보세구역에 적하되고, 이후 전자데이터 교환(EDI) 신고 또는 수작업 신고를 통해 수입신고를 진행합니다. 이후 관세청의 수입요건 및 관세 평가 등을 검사하는 과정을 거치며, 관련 서류 및 관세율을 재점검합니다.\\n\\n이러한 과정을 준수하고 정확한 서류를 제출하여 통관 및 운송을 원활히 진행하는 것이 중요합니다. 또한 인도의 인프라 상태와 운송 보험에 대한 고려도 필요합니다.'),\n",
       " HumanMessage(content='인도 통관 및 운송에 대해서 알려줘.'),\n",
       " HumanMessage(content='인도의 통관 및 운송 절차는 다음과 같습니다:\\n\\n1. **수입 신고 및 준비 단계**:\\n   - 수입자는 수입 물품에 대한 수입신고를 하기 전에 수출입자코드를 발급 받아야 합니다.\\n   - 적하목록(IGM)를 제출해야 하며, 제출 기한을 엄수해야 합니다.\\n\\n2. **수입 신고 및 가격 신고**:\\n   - 적하목록 제출 후, 수입자는 수입신고서와 관련 서류를 제출하여 수입신고를 합니다.\\n   - 필요한 서류에는 송장, 포장명세서, 선하증권 또는 항공화물운송장, 물품 관련 수입 라이센스 등이 포함됩니다.\\n\\n3. **통관 및 운송**:\\n   - 통관 절차는 정식통관 등 다양한 유형이 있으며, 일반적으로 34근무일이 소요됩니다.\\n   - 인도의 통관은 사전 준비가 중요하며, 서류 작성 시 오류를 최소화해야 합니다.\\n   - 내륙운송 과정에서 사고가 발생할 수 있으므로 내륙운송보험에 가입하는 것이 권장됩니다.\\n\\n4. **검역 및 유의사항**:\\n   - 물품의 검역 및 통관을 위한 사전 준비가 중요하며, 서류 작성 시 신중해야 합니다.\\n   - 물품의 성분분석'),\n",
       " HumanMessage(content='인도 통관 및 운송에 대해서 알려줘.'),\n",
       " HumanMessage(content='뉴진스(NewJeans)의 멤버인 민지의 생일은 2004년 5월 7일입니다.'),\n",
       " HumanMessage(content='뉴진스 민지의 생일을 알려줘.'),\n",
       " HumanMessage(content='\"럭키비키\"는 아이즈원(IZ*ONE)의 멤버인 원영(Wonyoung)이 자신의 영어 이름인 \"Vicky\"와 \"Lucky\"를 합쳐 만든 단어입니다. 원영이 긍정적인 마인드와 유쾌한 태도로 유명하며, 자신을 표현할 때 \"럭키비키\"라는 단어를 사용하여 자신의 행운과 긍정적인 에너지를 나타냅니다. 이러한 원영의 긍정적인 태도와 유쾌한 매력으로 팬들 사이에서 \"럭키비키\"라는 닉네임으로 사랑받고 있습니다.'),\n",
       " HumanMessage(content='럭키비키가 뭐야?'),\n",
       " HumanMessage(content='\"럭키비키\"는 아이즈원(IZ*ONE)의 멤버 중 한 명인 원영(Wonyoung)의 영어 이름인 \"Vicky\"와 \"Lucky\"를 합쳐 만든 단어입니다. 원영이 긍정적인 마인드와 행동으로 유명하며, 자신의 이름인 Vicky와 Lucky를 합쳐서 자신을 표현하는 말로 사용하고 있습니다. 이러한 긍정적인 마인드와 유쾌한 행동으로 원영은 팬들 사이에서 \"럭키비키\"로 불리며 사랑을 받고 있습니다.'),\n",
       " HumanMessage(content='럭키비키가 뭐야?'),\n",
       " HumanMessage(content='인도의 통관 및 운송 절차는 다음과 같이 진행됩니다:\\n\\n1. 통관 절차:\\n- 인도의 통관은 수입 통관 및 검역을 위한 사전 준비 절차가 중요합니다. 통관에 필요한 서류를 정확하게 제출해야 하며, 서류의 오류나 불일치로 인해 통관이 지연될 수 있습니다.\\n- 수출하는 물품의 경우 포장명세서(P/L)와 상업송장(C/I)을 컨테이너별로 철저히 작성해야 합니다. 인도 세관은 실물 검사를 철저히 실시하며, 서류와 화물이 일치하지 않을 경우 통관이 불가능할 수 있습니다.\\n- 인도의 인프라가 낙후되어 있고 운송수단이 노후하기 때문에 내륙운송 과정에서 사고가 발생할 수 있습니다. 따라서 내륙운송보험에 가입하는 것이 권장됩니다.\\n\\n2. 운송 시간:\\n- 인도에서 통관에 소요되는 시간은 행정상 운송 수입의 경우 약 34 근무일이 소요되며, 항공 운송의 경우 약 12 근무일이 소요됩니다.\\n- 물품이 입항하면 보세구역에 적하되고, 이후 전자데이터 교환(EDI) 신고 또는 수작업 신고를 통해 수입신고를 진행합니다. 이후 관세청의 수입요건 및 관세 평가 등을 검사하는 과정을 거치며, 관련 서류 및 관세율을 재점검합니다.\\n\\n이러한 통관 및 운송 절차를 준수하고 이해하는 것이 인도에서의 수출 사업을 원활히 진행하는 데 도움이 될 것입니다.'),\n",
       " HumanMessage(content='인도 통관 및 운송에 대해서 알려줘.'),\n",
       " HumanMessage(content='\"럭키비키\"는 한국의 가수이자 아이돌인 장원영이 사용한 유행어로, 긍정적인 사고방식을 나타내는 표현입니다. 이 용어는 \"럭키(Lucky)\"와 \"비키(Vicky)\"의 합성어로, 장원영이 사용한 긍정적인 사고를 나타내는 표현입니다. \"럭키비키\"는 장원영이 사용한 긍정적인 표현이 유행하여 다양한 매체와 SNS에서 사용되고 있습니다. 이 용어는 긍정적인 마인드와 희망을 전하는 의미를 담고 있습니다.'),\n",
       " HumanMessage(content='럭키비키가 뭐야?'),\n",
       " HumanMessage(content='\"뉴진스\"는 EMARKETER에서 사용하는 용어로, 1997년부터 2012년 사이에 태어난 세대를 가리킵니다. 이 세대는 사회적 책임감이 강하며 정신적 건강, 지속가능성, 인종평등을 우선시하며 기술에 능통한 방식으로 소비 습관을 형성하는 것으로 알려져 있습니다. 뉴진스는 현재 미국 인구의 약 20%를 차지하고 있으며, 구매력이 높아지고 있습니다.\\n\\n이외에도 \"뉴진스\"와 관련된 다른 세대 용어로는 다음과 같은 것들이 있습니다:\\n- **Gen Alpha(알파 세대)**: 2010년대 초부터 2024년 사이에 태어난 세대로, 디지털 네이티브의 두 번째 세대로서 스마트폰이나 소셜 미디어 없이 자란 적이 없습니다.\\n- **Zalpha(지알파)**: 뉴진스와 알파 세대 사이에 태어난 사람으로, 두 세대의 특징을 공유합니다.\\n- **Zillennial(질레니얼)**: 뉴진스와 밀레니얼 세대 사이에 태어난 사람으로, 두 세대의 특징을 공유합니다.\\n- **Millennial(밀레니얼 또는 Y 세대)**: 1981년부터 1996년 사이에 태어난 세대로, 인터넷의 태동 시기에 자랐으며 소셜 미디어나 스마트폰과 같은 기술을 빠르게 받아들였습니다.\\n- **Gen X(엑스 세대)**: 1965년부터 1980년 사이에 태어난 세대로, 독립적이며 권위에 대한 회의적인 태도를 가지고 있습니다.\\n- **Baby Boomer(베이비 붐 세대)**: 1946년부터 1964년 사이에 태어난 세대로, 강한 직업 윤리, 전통 가치관, 브랜드 충성도를 가지고 있습니다.\\n\\n이러한 다양한 세대들의 특징과 소비 습관을 이해하고, 각 세대에 맞는 마케팅 전략을 세우는 것이 중요합니다.'),\n",
       " HumanMessage(content='뉴진스에 대해서 알려줘.'),\n",
       " HumanMessage(content='인도의 통관 및 운송 절차는 다음과 같이 진행됩니다:\\n\\n1. 통관 절차:\\n- 인도의 통관은 수입 통관 및 검역을 위한 사전 준비 절차가 중요합니다. 통관에 필요한 서류를 정확하게 제출해야 하며, 서류의 오류나 불일치로 인해 통관이 지연될 수 있습니다.\\n- 수출하는 물품의 경우 포장명세서(P/L)와 상업송장(C/I)을 컨테이너별로 철저히 작성해야 합니다. 인도 세관은 실물 검사를 철저히 실시하며, 서류와 화물이 일치하지 않을 경우 통관이 불가능할 수 있습니다.\\n\\n2. 운송 절차:\\n- 인도는 도로와 항만 등 인프라가 낙후되어 있고, 운송수단도 노후하기 때문에 내륙운송 과정에서 사고가 발생할 수 있습니다. 따라서 내륙운송보험에 가입하는 것이 권장됩니다.\\n- 행정상 운송의 경우 약 34 근무일이 소요되며, 항공 운송은 약 12 근무일이 소요됩니다. 물품이 입항하면 보세구역에 적하되고, 이후 전자데이터 교환(EDI) 신고 또는 수작업 신고를 통해 수입신고를 진행하며, 관세청의 검사 및 평가를 거칩니다.\\n\\n이러한 통관 및 운송 절차를 준수하고, 정확한 서류를 제출하여 인도에서의 비즈니스 활동을 원활히 진행할 수 있습니다.'),\n",
       " HumanMessage(content='인도 통관 및 운송에 대해서 알려줘.'),\n",
       " HumanMessage(content='네, 뉴진스(NewJeans)는 2022년 7월 22일에 데뷔한 ADOR 소속의 5인조 다국적 걸그룹입니다. 민지, 하니, 다니엘, 해린, 혜인으로 구성되어 있으며, 멤버들의 평균 나이는 데뷔 당시 16.4세였습니다. 뉴진스는 데뷔 후 다양한 음반 활동과 공연을 펼치며 인기를 얻고 있습니다. 또한, 뉴진스는 한국 문화와 관광을 홍보하기 위해 정부 및 문화 기관과 협력하며 다양한 활동을 펼치고 있습니다. 뉴진스의 멤버들은 한국어, 영어, 일본어를 구사할 수 있어 다국적 활동을 펼치고 있습니다. 뉴진스는 그룹명에서도 알 수 있듯이 새로운 시대를 열어가는 의미를 담고 있습니다.'),\n",
       " HumanMessage(content='뉴진스 알아?'),\n",
       " HumanMessage(content=\"럭키비키는 아이돌 장원영의 영어 이름인 Vicky와 '럭키(Lucky)'를 합쳐 만든 말로, 긍정적인 사고 방식을 나타내는 유행어입니다. 장원영이 긍정적인 상황에서도 긍정적으로 생각하는 모습을 표현한 것으로, '럭키비키'라는 용어는 그녀의 긍정적인 사고 방식을 나타내는 것으로 유명해졌습니다.\"),\n",
       " HumanMessage(content='럭키비키가 뭐야?'),\n",
       " HumanMessage(content='네, 뉴진스(NewJeans)는 2022년 7월 22일에 데뷔한 다국적 걸그룹입니다. ADOR 소속으로 활동하며, 멤버는 민지, 하니, 다니엘, 해린, 혜인으로 구성되어 있습니다. 뉴진스는 데뷔 이후 다양한 음반 활동과 공연을 통해 인기를 얻고 있으며, 그들의 음악과 활동이 많은 이들에게 사랑을 받고 있습니다. 또한, 뉴진스는 음악뿐만 아니라 다양한 활동을 통해 사회 공헌 및 팬들과 소통하는 모습으로도 주목받고 있습니다.'),\n",
       " HumanMessage(content='뉴진스 알아?'),\n",
       " HumanMessage(content='\"럭키비키\"는 아이돌 장원영의 긍정적인 사고 방식을 패러디한 말로, 원영적 사고를 의미합니다. 이는 좋지 않은 상황을 긍정적으로 바라보는 태도를 가리키며, 장원영이 어떤 상황에서도 긍정적인 마인드로 대처하는 모습을 지칭하는 유행어입니다.'),\n",
       " HumanMessage(content='럭키비키가 뭐야?'),\n",
       " HumanMessage(content='\"럭키비키\"는 한국어에서 사용되는 신조어로, \\'행운을 가져다준다\\'는 의미를 갖습니다. \\'럭키\\'는 \\'행운\\'을 의미하는 영어 단어 \\'lucky\\'에서 유래하며, \\'비키\\'는 \\'가져다주다\\'라는 뜻을 가진 일본어 단어 \\'ビキ\\'에서 영향을 받았습니다. 이 용어는 특정한 물건이나 상황이 행운을 가져다줄 것으로 믿을 때 사용되며, 긍정적인 운을 기원하거나 상징하는 데 사용됩니다. 최근 한국에서는 인터넷 커뮤니티나 소셜 미디어에서 자주 사용되는 유행어 중 하나입니다.'),\n",
       " HumanMessage(content='럭키비키가 뭐야?'),\n",
       " HumanMessage(content='죄송합니다. 현재 뉴진스에 대한 정보가 없습니다. 더 자세한 내용을 제공해주시면 해당 주제에 대해 도와드릴 수 있습니다. 뉴진스가 어떤 내용이나 관련성이 있는지 자세히 설명해주시면 도움이 될 것입니다.'),\n",
       " HumanMessage(content='뉴진스 알아?'),\n",
       " HumanMessage(content='\"럭키비키\"는 한국어에서 사용되는 신조어로, \\'행운을 가져다준다\\'는 의미를 갖습니다. \\'럭키\\'는 \\'행운\\'을 의미하는 영어 단어 \\'lucky\\'에서 유래하며, \\'비키\\'는 \\'가져다주다\\'라는 뜻을 가진 일본어 단어 \\'ビキ\\'에서 영향을 받았습니다. 이 용어는 특정한 물건이나 상황이 행운을 가져다줄 것으로 믿을 때 사용되며, 긍정적인 운을 기원하거나 상징하는 데 사용됩니다. 최근 한국에서는 인터넷 커뮤니티나 소셜 미디어에서 자주 사용되는 유행어 중 하나입니다.'),\n",
       " HumanMessage(content='럭키비키가 뭐야?'),\n",
       " HumanMessage(content='\"럭키비키\"는 한국어에서 사용되는 신조어로, \\'행운을 가져다준다\\'는 의미를 갖습니다. \\'럭키\\'는 \\'행운\\'을 의미하는 영어 단어 \\'lucky\\'에서 유래하며, \\'비키\\'는 \\'가져다주다\\'라는 뜻을 가진 일본어 단어 \\'ビキ\\'에서 영향을 받았습니다. 이 용어는 특정한 물건이나 상황이 행운을 가져다줄 것으로 믿을 때 사용되며, 긍정적인 운을 기원하거나 상징하는 데 사용됩니다. 최근 한국에서는 인터넷 커뮤니티나 소셜 미디어에서 자주 사용되는 유행어 중 하나입니다.'),\n",
       " HumanMessage(content='럭키비키가 뭐야?'),\n",
       " HumanMessage(content='뉴진스(NewJeans)는 ADOR 소속의 5인조 걸그룹으로, 2022년 7월 22일에 데뷔했습니다. 멤버로는 민지, 하니, 다니엘, 해린, 혜인이 속해 있습니다. 뉴진스는 데뷔 후 음반 발매와 활동을 통해 점차적으로 인기를 얻고 있으며, 다양한 음악 활동을 펼치고 있습니다. 또한, 뉴진스는 멤버들 간의 케미와 솔직한 매력으로 팬들에게 사랑을 받고 있습니다.'),\n",
       " HumanMessage(content='뉴진스 알아?'),\n",
       " HumanMessage(content='\"럭키비키\"는 한국어에서 사용되는 신조어로, \\'행운을 가져다준다\\'는 의미를 갖습니다. \\'럭키\\'는 \\'행운\\'을 의미하는 영어 단어 \\'lucky\\'에서 유래하며, \\'비키\\'는 \\'가져다주다\\'라는 뜻을 가진 일본어 단어 \\'ビキ\\'에서 영향을 받았습니다. 이 용어는 특정한 물건이나 상황이 행운을 가져다줄 것으로 믿을 때 사용되며, 긍정적인 운을 기원하거나 상징하는 데 사용됩니다. 최근 한국에서는 인터넷 커뮤니티나 소셜 미디어에서 자주 사용되는 유행어 중 하나입니다.'),\n",
       " HumanMessage(content='럭키비키가 뭐야?'),\n",
       " HumanMessage(content='뉴진스의 멤버인 민지의 생일은 2004년 5월 7일입니다. 현재로서는 민지의 생일을 축하하는 시기가 지났습니다.'),\n",
       " HumanMessage(content='뉴진스 민지 생일이 언제야?'),\n",
       " HumanMessage(content='\"럭키비키\"는 한국어에서 사용되는 신조어로, \\'행운을 가져다준다\\'는 의미를 갖습니다. \\'럭키\\'는 \\'행운\\'을 의미하는 영어 단어 \\'lucky\\'에서 유래하며, \\'비키\\'는 \\'가져다주다\\'라는 뜻을 가진 일본어 단어 \\'ビキ\\'에서 영향을 받았습니다. 이 용어는 특정한 물건이나 상황이 행운을 가져다줄 것으로 믿을 때 사용되며, 긍정적인 운을 기원하거나 상징하는 데 사용됩니다. 최근 한국에서는 인터넷 커뮤니티나 SNS에서 자주 사용되는 유행어 중 하나입니다.'),\n",
       " HumanMessage(content='럭키비키가 뭐야?'),\n",
       " HumanMessage(content='\"럭키비키\"는 한국어에서 사용되는 신조어로, \\'행운을 가져다준다\\'는 의미를 갖습니다. \\'럭키\\'는 \\'행운\\'을 의미하는 영어 단어 \\'lucky\\'에서 유래하며, \\'비키\\'는 \\'가져다주다\\'라는 뜻을 가진 일본어 단어 \\'ビキ\\'에서 영향을 받았습니다. 이 용어는 특정한 물건이나 상황이 행운을 가져다줄 것으로 믿을 때 사용되며, 긍정적인 운을 기원하거나 상징하는 데 사용됩니다. 최근 한국에서는 인터넷 커뮤니티나 SNS에서 자주 사용되는 유행어 중 하나입니다.'),\n",
       " HumanMessage(content='럭키비키가 뭐야?'),\n",
       " HumanMessage(content='\"럭키비키\"는 한국어에서 사용되는 신조어로, \\'행운을 가져다준다\\'는 의미를 갖습니다. \\'럭키\\'는 \\'행운\\'을 의미하는 영어 단어 \\'lucky\\'에서 유래하며, \\'비키\\'는 \\'가져다주다\\'라는 뜻을 가진 일본어 단어 \\'ビキ\\'에서 영향을 받았습니다. 이 용어는 특정한 물건이나 상황이 행운을 가져다줄 것으로 믿을 때 사용되며, 긍정적인 운을 기원하거나 상징하는 데 사용됩니다. 최근 한국에서는 인터넷 커뮤니티나 SNS에서 자주 사용되는 유행어 중 하나입니다.'),\n",
       " HumanMessage(content='럭키비키가 뭐야?'),\n",
       " HumanMessage(content='죄송합니다. \"뉴진스\"에 대한 정보는 현재 검색 결과나 일반적인 지식 범위를 벗어나는 것으로 보입니다. 추가 정보를 제공해주시면 더 자세한 도움을 드릴 수 있을 것입니다. \"뉴진스\"가 어떤 내용이나 업체를 가리키는지 설명해주시면 도움이 될 것입니다. 만약 \"뉴진스\"에 대한 정보를 얻고 싶으시다면, 관련 정보를 검색하거나 직접 해당 업체나 기관에 문의하시는 것을 권장드립니다.'),\n",
       " HumanMessage(content='뉴진스에 대해서 알려줘.'),\n",
       " HumanMessage(content='죄송합니다. \"뉴진스\"에 대한 정보는 현재 저에게 알려진 바가 없습니다. 추가 정보를 제공해주시면 더 자세한 도움을 드릴 수 있을 것입니다. \"뉴진스\"가 어떤 내용이나 업체를 가리키는지 설명해주시면 도움이 될 것입니다. 만약 \"뉴진스\"에 대한 정보를 얻고 싶으시다면, 관련 정보를 검색하거나 직접 해당 업체나 기관에 문의하시는 것을 권장드립니다.'),\n",
       " HumanMessage(content='뉴진스 알아?'),\n",
       " HumanMessage(content='인도의 통관 및 운송 절차는 다음과 같습니다:\\n\\n1. **수입 신고 및 준비 단계**:\\n   - 수입자는 수입 물품에 대한 수입신고를 하기 전에 수출입자코드를 발급 받아야 합니다.\\n   - 적하목록(IGM)를 제출해야 하며, 제출 기한을 엄수해야 합니다.\\n\\n2. **수입 신고 및 가격 신고**:\\n   - 수입자는 적하목록 제출 후, 수입신고서와 관련 서류를 제출하여 물품에 대한 수입신고를 합니다.\\n   - 필요한 서류에는 송장, 포장명세서, 선하증권 또는 항공화물운송장, 물품 관련 수입 라이센스 등이 포함됩니다.\\n\\n3. **통관 및 운송**:\\n   - 통관 절차는 정식통관 등 다양한 유형이 있으며, 보통 34근무일이 소요됩니다.\\n   - 인도의 통관은 사전 준비가 중요하며, 서류 작성 시 오류를 최소화해야 합니다.\\n   - 내륙운송 과정에서 사고가 발생할 수 있으므로 내륙운송보험에 가입하는 것이 권장됩니다.\\n\\n4. **검역 및 유의사항**:\\n   - 물품의 검역 및 통관을 위한 사전 준비가 중요하며, 서류 작성 시 신중해야 합니다.\\n   - 물품의 성분분석표, 원산지증명서, 포장명세서 등이 필요할 수 있습니다.\\n\\n인도의 통관 및 운송에 대한 자세한 정보는 현지 물류 업체나 관련 기관에 문의하시거나 인도의 세관 관련 웹사이트를 참고하시는 것이 도움이 될 것입니다.'),\n",
       " HumanMessage(content='인도 통관 및 운송에 대해서 알려줘.'),\n",
       " HumanMessage(content='죄송합니다. \"뉴진스\"에 대한 정보는 현재 저에게 알려진 바가 없습니다. 추가 정보를 제공해주시면 더 자세한 도움을 드릴 수 있을 것입니다. \"뉴진스\"가 어떤 내용이나 업체를 가리키는지 설명해주시면 도움이 될 것입니다. 만약 \"뉴진스\"에 대한 정보를 얻고 싶으시다면, 관련 정보를 검색하거나 직접 해당 업체나 기관에 문의하시는 것을 권장드립니다.'),\n",
       " HumanMessage(content='뉴진스 알아?'),\n",
       " HumanMessage(content='죄송합니다. \"뉴진스\"에 대한 정보는 현재 저에게 알려진 바가 없습니다. 추가 정보를 제공해주시면 더 자세한 도움을 드릴 수 있을 것입니다. \"뉴진스\"가 어떤 내용이나 업체를 가리키는지 설명해주시면 도움이 될 것입니다.'),\n",
       " HumanMessage(content='뉴진스 알아?'),\n",
       " HumanMessage(content='인도의 통관 및 운송 절차는 다음과 같습니다:\\n\\n1. **수입 신고 및 준비 단계**:\\n   - 수입자는 수입 물품에 대한 수입신고를 하기 전에 수출입자코드를 발급 받아야 합니다.\\n   - 적하목록(IGM)를 제출해야 하며, 제출 기한을 엄수해야 합니다.\\n\\n2. **수입 신고 및 가격 신고**:\\n   - 수입자는 적하목록 제출 후, 수입신고서와 관련 서류를 제출하여 수입신고를 합니다.\\n   - 필요한 서류에는 송장, 포장명세서, 선하증권 또는 항공화물운송장, 물품 관련 수입 라이센스 등이 포함됩니다.\\n\\n3. **통관 및 운송**:\\n   - 통관 절차는 정식통관 등 다양한 유형이 있으며, 보통 34근무일이 소요됩니다.\\n   - 인도의 통관은 사전 준비가 중요하며, 서류 작성 시 오류를 최소화해야 합니다.\\n   - 내륙운송 과정에서 사고가 발생할 수 있으므로 내륙운송보험에 가입하는 것이 권장됩니다.\\n\\n4. **검역 및 유의사항**:\\n   - 물품의 검역 및 통관을 위한 사전 준비가 중요하며, 서류 작성 시 신중해야 합니다.\\n   - 물품의 성분분석표, 원산지증명서, 포장명세서 등이 필요할 수 있습니다.\\n\\n인도의 통관 및 운송에 대한 자세한 정보는 현지 물류 업체나 관련 기관에 문의하시거나 인도의 세관 관련 웹사이트를 참고하시는 것이 도움이 될 것입니다.'),\n",
       " HumanMessage(content='인도 통관 및 운송에 대해서 알려줘.'),\n",
       " HumanMessage(content='죄송합니다. \"뉴진스\"에 대한 구체적인 정보는 현재 제가 알려드릴 수 있는 자료나 정보가 없습니다. \"뉴진스\"가 어떤 내용이나 업체를 가리키는지 추가 정보를 제공해주시면, 더 정확한 도움을 드릴 수 있을 것입니다. 만약 \"뉴진스\"에 대한 정보를 얻고 싶으시다면, 관련 정보를 검색하거나 직접 해당 업체나 기관에 문의하시는 것을 권장드립니다.'),\n",
       " HumanMessage(content='뉴진스 알아?'),\n",
       " HumanMessage(content='\"럭키비키\"는 일본어에서 영향을 받은 한국어 표현으로, \\'행운을 가져다준다\\'는 의미를 갖습니다. \\'럭키\\'는 \\'행운\\'을 의미하고, \\'비키\\'는 \\'가져다주다\\'라는 뜻입니다. 이 표현은 특정 물건이나 상황이 행운을 가져다줄 것으로 믿을 때 사용되며, 긍정적인 운을 기원하거나 상징하는 용도로 사용됩니다. 최근 한국에서는 인터넷 커뮤니티나 SNS에서 유행어로 자주 사용되고 있습니다.'),\n",
       " HumanMessage(content='럭키비키가 뭐야?'),\n",
       " HumanMessage(content='\"럭키비키\"는 일본어로 \"행운을 가져다주는 것\"을 의미합니다. \"럭키\"는 영어 단어 \"lucky\"의 일본식 발음이며, \"비키\"는 \"bring\"을 의미합니다. 따라서 \"럭키비키\"는 행운을 가져다주는 물건이나 상황을 가리키는 표현입니다. 일상 생활에서 특정 물건이나 행동을 \"럭키비키\"로 여기는 경우가 있으며, 이를 통해 행운을 기원하거나 행운을 가져다줄 것으로 믿는 것이 일반적입니다.'),\n",
       " HumanMessage(content='럭키비키가 뭐야?'),\n",
       " HumanMessage(content='인도의 통관 및 운송은 다음과 같은 주요 단계로 이루어집니다:\\n\\n1. **수입 신고 및 준비 단계**:\\n   - 수입자는 수입 물품에 대한 수입신고를 하기 전에 수출입자코드를 발급 받아야 합니다.\\n   - 적하목록(IGM)를 제출해야 하며, 제출 기한을 엄수해야 합니다.\\n\\n2. **수입 신고 및 가격 신고**:\\n   - 적하목록 제출 후, 수입자는 수입신고서와 관련 서류를 제출하여 수입신고를 합니다.\\n   - 필요한 서류에는 송장, 포장명세서, 선하증권 또는 항공화물운송장, 물품 관련 수입 라이센스 등이 포함됩니다.\\n\\n3. **통관 및 운송**:\\n   - 통관 절차는 정식통관 등 다양한 유형이 있으며, 일반적으로 34근무일이 소요됩니다.\\n   - 인도의 통관은 사전 준비가 중요하며, 서류 작성 시 오류를 최소화해야 합니다.\\n   - 내륙운송 과정에서 사고가 발생할 수 있으므로 내륙운송보험에 가입하는 것이 권장됩니다.\\n\\n4. **검역 및 유의사항**:\\n   - 물품의 검역 및 통관을 위한 사전 준비가 중요하며, 서류 작성 시 신중해야 합니다.\\n   - 물품의 성분분석표, 원산지증명서, 포장명세서 등이 필요할 수 있습니다.\\n\\n인도의 통관 및 운송에 대한 자세한 정보는 현지 물류 업체나 관련 기관에 문의하시거나 인도의 세관 관련 웹사이트를 참고하시는 것이 도움이 될 것입니다.'),\n",
       " HumanMessage(content='인도 통관 및 운송에 대해서 알려줘.'),\n",
       " HumanMessage(content='인도의 통관 및 운송은 다음과 같은 주요 절차로 이루어집니다:\\n\\n1. **수입 신고 및 준비 단계**:\\n   - 수입자는 수입 물품에 대한 수입신고를 하기 전에 수출입자코드를 발급 받아야 합니다.\\n   - 적하목록(IGM)를 제출해야 하며, 제출 기한을 엄수해야 합니다.\\n\\n2. **수입 신고 및 가격 신고**:\\n   - 적하목록 제출 후, 수입자는 수입신고서와 관련 서류를 제출하여 수입신고를 합니다.\\n   - 필요한 서류에는 송장, 포장명세서, 선하증권 또는 항공화물운송장, 물품 관련 수입 라이센스 등이 포함됩니다.\\n\\n3. **통관 및 운송**:\\n   - 통관 절차는 정식통관 등 다양한 유형이 있으며, 일반적으로 34근무일이 소요됩니다.\\n   - 인도의 통관은 사전 준비가 중요하며, 서류 작성 시 오류를 최소화해야 합니다.\\n   - 내륙운송 과정에서 사고가 발생할 수 있으므로 내륙운송보험에 가입하는 것이 권장됩니다.\\n\\n4. **검역 및 유의사항**:\\n   - 물품의 검역 및 통관을 위한 사전 준비가 중요하며, 서류 작성 시 신중해야 합니다.\\n   - 물품의 성분분석표, 원산지증명서, 포장명세서 등이 필요할 수 있습니다.\\n\\n인도의 통관 및 운송에 대한 자세한 정보는 현지 물류 업체나 관련 기관에 문의하시거나 인도의 세관 관련 웹사이트를 참고하시는 것이 도움이 될 것입니다.'),\n",
       " HumanMessage(content='인도 통관 및 운송에 대해서 알려줘.'),\n",
       " HumanMessage(content='인도의 통관 및 운송은 다음과 같은 주요 절차로 이루어집니다:\\n\\n1. **수입 신고 및 준비 단계**:\\n   - 수입자는 수입 물품에 대한 수입신고를 하기 전에 수출입자코드를 발급 받아야 합니다.\\n   - 적하목록(IGM)를 제출해야 하며, 제출 기한을 엄수해야 합니다.\\n\\n2. **수입 신고 및 가격 신고**:\\n   - 적하목록 제출 후, 수입자는 수입신고서와 관련 서류를 제출하여 수입신고를 합니다.\\n   - 필요한 서류에는 송장, 포장명세서, 선하증권 또는 항공화물운송장, 물품 관련 수입 라이센스 등이 포함됩니다.\\n\\n3. **통관 및 운송**:\\n   - 통관 절차는 정식통관 등 다양한 유형이 있으며, 일반적으로 34근무일이 소요됩니다.\\n   - 인도의 통관은 사전 준비가 중요하며, 서류 작성 시 오류를 최소화해야 합니다.\\n   - 내륙운송 과정에서 사고가 발생할 수 있으므로 내륙운송보험에 가입하는 것이 권장됩니다.\\n\\n4. **검역 및 유의사항**:\\n   - 물품의 검역 및 통관을 위한 사전 준비가 중요하며, 서류 작성 시 신중해야 합니다.\\n   - 물품의 성분분석표, 원산지증명서, 포장명세서 등이 필요할 수 있습니다.\\n\\n인도의 통관 및 운송에 대한 자세한 정보는 현지 물류 업체나 관련 기관에 문의하시거나 인도의 세관 관련 웹사이트를 참고하시는 것이 도움이 될 것입니다.'),\n",
       " HumanMessage(content='인도 통관 및 운송에 대해서 알려줘.'),\n",
       " HumanMessage(content='인도의 통관 및 운송은 다음과 같은 주요 절차로 이루어집니다:\\n\\n1. **수입 신고 및 준비 단계**:\\n   - 수입자는 수입 물품에 대한 수입신고를 하기 전에 수출입자코드를 발급 받아야 합니다.\\n   - 적하목록(IGM)를 제출해야 하며, 제출 기한을 엄수해야 합니다.\\n\\n2. **수입 신고 및 가격 신고**:\\n   - 적하목록 제출 후, 수입자는 수입신고서와 관련 서류를 제출하여 수입신고를 합니다.\\n   - 필요한 서류에는 송장, 포장명세서, 선하증권 또는 항공화물운송장, 물품 관련 수입 라이센스 등이 포함됩니다.\\n\\n3. **통관 및 운송**:\\n   - 통관 절차는 정식통관 등 다양한 유형이 있으며, 일반적으로 34근무일이 소요됩니다.\\n   - 인도의 통관은 사전 준비가 중요하며, 서류 작성 시 오류를 최소화해야 합니다.\\n   - 내륙운송 과정에서 사고가 발생할 수 있으므로 내륙운송보험에 가입하는 것이 권장됩니다.\\n\\n4. **검역 및 유의사항**:\\n   - 물품의 검역 및 통관을 위한 사전 준비가 중요하며, 서류 작성 시 신중해야 합니다.\\n   - 물품의 성분분석표, 원산지증명서, 포장명세서 등이 필요할 수 있습니다.\\n\\n인도의 통관 및 운송에 대한 자세한 정보는 현지 물류 업체나 관련 기관에 문의하시거나 인도의 세관 관련 웹사이트를 참고하시는 것이 도움이 될 것입니다.'),\n",
       " HumanMessage(content='인도 통관 및 운송에 대해서 알려줘.'),\n",
       " HumanMessage(content='인도의 통관 및 운송은 다음과 같은 주요 단계로 이루어집니다:\\n\\n1. **수입 신고 및 준비 단계**:\\n   - 수입자는 수입 물품에 대한 수입신고를 하기 전에 수출입자코드를 발급 받아야 합니다.\\n   - 적하목록(IGM)를 제출해야 하며, 제출 기한을 엄수해야 합니다.\\n\\n2. **수입 신고 및 가격 신고**:\\n   - 적하목록 제출 후, 수입자는 수입신고서와 관련 서류를 제출하여 수입신고를 합니다.\\n   - 필요한 서류에는 송장, 포장명세서, 선하증권 또는 항공화물운송장, 물품 관련 수입 라이센스 등이 포함됩니다.\\n\\n3. **통관 및 운송**:\\n   - 통관 절차는 정식통관 등 다양한 유형이 있으며, 일반적으로 34근무일이 소요됩니다.\\n   - 인도의 통관은 사전 준비가 중요하며, 서류 작성 시 오류를 최소화해야 합니다.\\n   - 내륙운송 과정에서 사고가 발생할 수 있으므로 내륙운송보험에 가입하는 것이 권장됩니다.\\n\\n4. **검역 및 유의사항**:\\n   - 물품의 검역 및 통관을 위한 사전 준비가 중요하며, 서류 작성 시 신중해야 합니다.\\n   - 물품의 성분분석표, 원산지증명서, 포장명세서 등이 필요할 수 있습니다.\\n\\n인도의 통관 및 운송에 대한 자세한 정보는 현지 물류 업체나 관련 기관에 문의하시거나 인도의 세관 관련 웹사이트를 참고하시는 것이 도움이 될 것입니다.'),\n",
       " HumanMessage(content='인도 통관 및 운송에 대해서 알려줘.'),\n",
       " HumanMessage(content='인도의 통관 및 운송은 다소 복잡하고 시간이 소요되는 절차를 거칩니다. 주요 내용을 간략히 설명드리겠습니다.\\n\\n1. **수입 신고 및 준비 단계**:\\n   - 수입자는 수입 물품에 대한 수입신고를 하기 전에 수출입자코드를 발급 받아야 합니다.\\n   - 적하목록(IGM)를 제출해야 하며, 제출 기한을 엄수해야 합니다.\\n\\n2. **수입 신고 및 가격 신고**:\\n   - 적하목록 제출 후, 수입자는 수입신고서와 관련 서류를 제출하여 수입신고를 합니다.\\n   - 필요한 서류에는 송장, 포장명세서, 선하증권 또는 항공화물운송장, 물품 관련 수입 라이센스 등이 포함됩니다.\\n\\n3. **통관 및 운송**:\\n   - 통관 절차는 정식통관 등 다양한 유형이 있으며, 일반적으로 34근무일이 소요됩니다.\\n   - 인도의 통관은 사전 준비가 중요하며, 서류 작성 시 오류를 최소화해야 합니다.\\n   - 내륙운송 과정에서 사고가 발생할 수 있으므로 내륙운송보험에 가입하는 것이 권장됩니다.\\n\\n4. **검역 및 유의사항**:\\n   - 물품의 검역 및 통관을 위한 사전 준비가 중요하며, 서류 작성 시 신중해야 합니다.\\n   - 물품의 성분분석표, 원산지증명서, 포장명세서 등이 필요할 수 있습니다.\\n\\n인도의 통관 및 운송에 대한 자세한 정보는 현지 물류 업체나 관련 기관에 문의하시거나 인도의 세관 관련 웹사이트를 참고하시는 것이 도움이 될 것입니다.'),\n",
       " HumanMessage(content='인도 통관 및 운송에 대해서 알려줘.'),\n",
       " HumanMessage(content='인도의 통관 및 운송은 다소 복잡하고 시간이 소요되는 절차를 거칩니다. 주요 내용을 간략히 설명드리겠습니다.\\n\\n1. **수입 신고 및 준비 단계**:\\n   - 수입자는 수입 물품에 대한 수입신고를 하기 전에 수출입자코드를 발급 받아야 합니다.\\n   - 적하목록(IGM)를 제출해야 하며, 제출 기한을 엄수해야 합니다.\\n\\n2. **수입 신고 및 가격 신고**:\\n   - 적하목록 제출 후, 수입자는 수입신고서와 관련 서류를 제출하여 수입신고를 합니다.\\n   - 필요한 서류에는 송장, 포장명세서, 선하증권 또는 항공화물운송장, 물품 관련 수입 라이센스 등이 포함됩니다.\\n\\n3. **통관 및 운송**:\\n   - 통관 절차는 정식통관 등 다양한 유형이 있으며, 일반적으로 34근무일이 소요됩니다.\\n   - 인도의 통관은 사전 준비가 중요하며, 서류 작성 시 오류를 최소화해야 합니다.\\n   - 내륙운송 과정에서 사고가 발생할 수 있으므로 내륙운송보험에 가입하는 것이 권장됩니다.\\n\\n4. **검역 및 유의사항**:\\n   - 물품의 검역 및 통관을 위한 사전 준비가 중요하며, 서류 작성 시 신중해야 합니다.\\n   - 물품의 성분분석표, 원산지증명서, 포장명세서 등이 필요할 수 있습니다.\\n\\n인도의 통관 및 운송에 대한 자세한 정보는 현지 물류 업체나 관련 기관에 문의하시거나 인도의 세관 관련 웹사이트를 참고하시는 것이 도움이 될 것입니다.'),\n",
       " HumanMessage(content='인도 통관 및 운송에 대해서 알려줘.'),\n",
       " HumanMessage(content='인도에서의 통관 및 운송은 해당 국가의 관세 및 세관 규정에 따라 이루어집니다. 인도의 통관 절차는 다양한 요소에 따라 달라질 수 있으며, 주요 단계는 다음과 같습니다:\\n\\n1. **수입신고 및 통관신청**: 물품이 인도로 수입될 때, 수입신고 및 통관신청을 해야 합니다. 이는 관세청 또는 세관에 제출되며, 필요한 서류와 정보를 포함해야 합니다.\\n\\n2. **관세 및 부가세 납부**: 수입된 물품에 대한 관세 및 부가세를 납부해야 합니다. 이는 세관에 의해 책정되며, 납부 방법은 다양할 수 있습니다.\\n\\n3. **검사 및 통관**: 세관은 수입된 물품을 검사하고 통관 여부를 결정합니다. 필요에 따라 추가 서류나 정보를 제출해야 할 수도 있습니다.\\n\\n4. **운송 및 배송**: 통관이 완료되면 물품은 운송되어 목적지로 배송됩니다. 이때 운송사와 협력하여 원활한 배송이 이루어지도록 해야 합니다.\\n\\n인도의 통관 및 운송에 대한 자세한 정보는 인도의 세관 관련 웹사이트나 현지 물류 업체와 상담하여 얻을 수 있습니다. 또한, 국제무역에 대한 이해와 현지 법규 준수가 중요하며, 전문가의 조언을 구하는 것이 좋습니다.'),\n",
       " HumanMessage(content='인도 통관 및 운송에 대해서 알려줘.')]"
      ]
     },
     "execution_count": 10,
     "metadata": {},
     "output_type": "execute_result"
    }
   ],
   "source": [
    "answer['chat_history']"
   ]
  },
  {
   "cell_type": "code",
   "execution_count": 14,
   "metadata": {},
   "outputs": [
    {
     "name": "stdout",
     "output_type": "stream",
     "text": [
      "인도의 통관 및 운송 절차는 다음과 같이 진행됩니다:\n",
      "\n",
      "### 1. 통관 절차\n",
      "\n",
      "#### 정식통관\n",
      "- **소요 시간**: 인도에서 일반적인 경우 통관에 소요되는 시간은 행정상 운송 수입의 경우 3~4 근무일, 항공 운송의 경우 약 1~2 근무일이 소요됩니다.\n",
      "- **수입신고**: 물품이 입항하면 보세구역에 적하되고, 이후 전자데이터 교환(EDI) 신고 또는 수작업 신고를 통해 수입신고를 합니다.\n",
      "- **검사 및 평가**: 인도 관세청의 수입요건, 관세 평가 등을 검사하는 Appraiser Section과 관련 서류 및 관세율을 재점검하는 Audit Section 과정을 거칩니다.\n",
      "- **관세 납부**: 모든 서류에 서명을 받은 후, Challan No.라는 인도 관세 납부를 위한 번호를 부여받게 됩니다. 이를 근거로 관세를 완납하면 물품을 반출할 수 있습니다.\n",
      "- **체화료**: 정식통관의 경우 인도 세관은 일반적으로 화물 도착 후 7일 이후부터 체화료(Demurrage Charge)를 부과하고, 컨테이너 운송의 경우 5일 이후부터, 항공운송의 경우 3일 이후부터 체화료가 부과됩니다.\n",
      "\n",
      "#### 임시 통관\n",
      "- **목적**: 인도에 들여온 품목을 사용하지 않고 24개월 이내에 다시 반출할 목적이 있는 경우 임시통관이 이루어집니다.\n",
      "\n",
      "### 2. 운송 절차\n",
      "\n",
      "#### 내륙운송\n",
      "- **인프라 상태**: 인도는 도로와 항만 등 인프라가 낙후되어 있고, 운송수단도 노후되어 있습니다. 따라서 내륙운송 과정에서 사고가 발생할 수 있습니다.\n",
      "- **보험 가입**: 내륙운송보험에 가입하는 것이 권장됩니다. 이는 운송 중 발생할 수 있는 사고에 대비하기 위함입니다.\n",
      "\n",
      "#### 서류 작성\n",
      "- **포장명세서(P/L)와 상업송장(C/I)**: 수출하는 물품의 경우 포장명세서와 상업송장을 컨테이너별로 철저히 작성해야 합니다. 인도 세관은 실물 검사를 철저히 실시하며, 서류와 화물이 일치하지 않을 경우 통관이 불가능할 수 있습니다.\n",
      "\n",
      "### 3. 유의사항\n",
      "- **서류의 정확성**: 통관에 필요한 서류를 정확하게 작성하고 제출해야 합니다. 서류의 오류나 불일치로 인해 통관이 지연될 수 있습니다.\n",
      "- **사전 준비**: 수입 통관 및 검역을 위한 사전 준비 절차가 중요합니다. 철저한 사전 준비를 통해 통관 절차를 원활하게 진행할 수 있습니다.\n",
      "\n",
      "이러한 절차와 유의사항을 준수하여 인도에서의 통관 및 운송을 원활하게 진행할 수 있습니다. 추가적인 정보나 세부 사항이 필요하다면 현지 물류 업체나 관련 기관에 문의하는 것이 좋습니다.\n"
     ]
    }
   ],
   "source": [
    "print(answer['answer'])"
   ]
  },
  {
   "cell_type": "code",
   "execution_count": 15,
   "metadata": {},
   "outputs": [
    {
     "data": {
      "text/plain": [
       "[Document(metadata={'category': '정책', 'page': 0, 'source': '[정책][제약산업정보포털][2019.04.08]인도 통관 및 운송.pdf', 'year': 2019}, page_content='5. 통관 및 운송\\n \\n \\n가. 통관제도\\n  \\n \\n통관 유형별 절차\\n \\n1) 정식통관 \\n \\n인도에서 일반적인 경우 통관에 소요되는 시간은 행정상 운송 수입의 경우 3~4 근무일, '),\n",
       " Document(metadata={'category': '정책', 'page': 0, 'source': '[정책][제약산업정보포털][2019.04.08]인도 통관 및 운송.pdf', 'year': 2019}, page_content='하면 모든 서류에 서명 받게 된다. 이후 Challan No.라는 인도 관세 납부를 위한 번호를 부여받게 되고, 이를 근거로 관세를\\n완납하게 되면 물품을 반출할 수 있다. 또한, '),\n",
       " Document(metadata={'category': '정책', 'page': 1, 'source': '[정책][제약산업정보포털][2019.04.08]인도 통관 및 운송.pdf', 'year': 2019}, page_content='\\n  ㅇ 통관 정보의 불투명: 인도의 관세 행정은 한국에 비해 그 정보 및 기준이 전반적으로 불투명하며, 실무선의 재량권이 크고 융통성 없\\n는 처리 관행으로 인해 통관 애로가 자주'),\n",
       " Document(metadata={'source': '/Users/munseunghyeon/Downloads/big_project/승현_데이터수집/kotra_abroad_news_1th_.csv', 'url': 'https://dream.kotra.or.kr/user/extra/kotranews/bbs/linkView/jsp/Page.do?dataIdx=208409', 'date': '2023-11-28', 'category': '2. 경제 및 시장 분석', 'page_no': 13}, page_content='인터뷰 - B사\\n\\xa0\\nQ1. 귀사에 대해 설명해 주세요.\\nA1. 저희는 1996년에 식품 제조업을 시작해\\xa02009년부터는 아시안 식품을 비롯한 멕시코, 이탈리아 식품 등을 수입하는 국제적인 식품사업으로 확장한 기업입니다.\\n\\xa0\\nQ2. 한국 제품에 대한 인도 소비자들의 반응은 어떤가요?\\nA2. 인도 소비자들은 대체로 K-드라마를 통해 한국 제품에 대한 정보를 알게 되고\\xa0이러한 인식 제고는 판매량 증가로 이어집니다. 특히, 인도 북동 지역을 중심으로 소비자들이 큰 관심을 보입니다. 한국 음식의 비건 및 일반(non-veg) 옵션, 한식 특유의 매운맛, 다양한 풍미 등이 인도 시장에서 인기를 끌고 있습니다.\\n\\xa0\\nQ3. 수입 과정에서 어려움은 없으신가요?'),\n",
       " Document(metadata={'category': '정책', 'page': 0, 'source': '[정책][제약산업정보포털][2019.04.08]인도 통관 및 운송.pdf', 'year': 2019}, page_content=' 관세를 부과\\n하고 있다. 다만, 수입 제한·금지 품목으로 분류되지 않으며, 자가사용으로 판단되는 물픔은 면세된다.  '),\n",
       " Document(metadata={'category': '정책', 'page': 2, 'source': '[정책][제약산업정보포털][2019.04.08]인도 통관 및 운송.pdf', 'year': 2019}, page_content='/contact-us/contact-details/'),\n",
       " Document(metadata={'category': '정책', 'page': 2, 'source': '[정책][제약산업정보포털][2019.04.08]인도 통관 및 운송.pdf', 'year': 2019}, page_content='10th Floor, Lotus Corporate Park, Off Jay Coach Flyover, Western Express Highway,\\nGoregaon (E), Mumb'),\n",
       " Document(metadata={'source': 'INDIAN_TRADE_PORTAL_LATEST_NEWS', 'page_no': 250, 'category': '3. 정책 및 무역', 'url': 'https://www.hindustantimes.com/india-news/government-to-launch-an-eplatform-trade-connect-for-indian-exporters-piyush-goyal-101705409344249.html', 'date': '2024-01-17'}, page_content='Newspaper article title: Government to launch an ePlatform ‘Trade Connect’ for Indian exporters: Piyush Goyal.\\nPlease refer to the link below for detailed information on the newspaper article.\\nhttps://www.hindustantimes.com/india-news/government-to-launch-an-eplatform-trade-connect-for-indian-exporters-piyush-goyal-101705409344249.html'),\n",
       " Document(metadata={'category': '정책', 'page': 0, 'source': '[정책][제약산업정보포털][2019.04.08]인도 통관 및 운송.pdf', 'year': 2019}, page_content='경우 약식통관이 가능하다. 이는 전자상거래의 물품에도 적용된다. 인도는 2,000루피 이하의 품목을\\n3가지 분류로 나누어 HS코드를 적용하고 있으며, 그 분류는 다음과 같다.   '),\n",
       " Document(metadata={'category': '정책', 'page': 1, 'source': '[정책][제약산업정보포털][2019.04.08]인도 통관 및 운송.pdf', 'year': 2019}, page_content=' 않으나 필요 허가증 또는 라이센스를 수입신고 시 수입 서류와 함께 세관에 제출해야 한다. 식물, 씨앗, 과일의 경우\\n동식물 검역소에서 샘플의 테스트를 통해 발부받을 수 있으며, '),\n",
       " Document(metadata={'source': ' 2017년 농식품 해외시장 맞춤조사(인도_개사료).pdf', 'page_no': 50, 'category': '2. 경제 및 시장 분석', 'url': '한국농수산식품유통공사', 'date': '2017'}, page_content='4 통관 및 검역 유의사항\\n인도 통관 사전 준비가 관건\\n인도의 통관은 수입 통관 및 검역을 위한 사전 준비 절차가 중요함\\n통관에 필요한 서류를 구비할 시 서류의 기재오류나 서류 상호간 불일치를\\n수정하기가 매우 어려우며 이로 인해 통관 절차가 2  3주씩 지연되는 경우도\\n있어 철저한 서류 작성이 필수적임\\n또한 인도로 수출하는 물품의 경우 포장명세서PL와 상업송장CI을\\n컨테이너별로 철저히 작성해야함 인도 세관은 한 컨테이너 안에서 박스별로\\n화물이 일치하는지를 조사하는 등 실물검사가 철저하며 서류와 화물 불일치 시\\n통관이 불가능함\\n특히 인도는 도로와 항만 등 인프라가 낙후되어 있고 운송수단도 노후하기\\n때문에 내륙운송과정에서 사고가 자주 발생하므로 내륙운송보험에 가입해야함\\nInterview Info\\n원산지증명서 개사료 성분분석표 포장명세서 송장 선하증권은 반드시 필요하며 검역은 약 3040일 정도가'),\n",
       " Document(metadata={'category': '정책', 'page': 0, 'source': '[정책][제약산업정보포털][2019.04.08]인도 통관 및 운송.pdf', 'year': 2019}, page_content='후부터 체화료가 부과한다. \\n \\n2) 임시 통관 \\n \\n인도에 들여온 품목을 사용하지 않고 24개월 이내에 다시 반출할 목적이 있는 경우 임시통관이 이루어지게 된다. 임시통관을 위해'),\n",
       " Document(metadata={'source': '인도 통관 및 운송.pdf', 'page_no': 0, 'category': '3. 정책 및 무역', 'url': '제약산업정보포털', 'date': '2019.04.08'}, page_content='5 통관 및 운송\\n가 통관제도\\n통관 유형별 절차\\n1 정식통관\\n인도에서 일반적인 경우 통관에 소요되는 시간은 행정상 운송 수입의 경우 34 근무일 항공 운송은 약 12 근무일이 소요된다 일단 물\\n품이 입항하게 되면 보세구역장치에 적하되고 이후 전자데이터 교환EDI 신고 또는 수작업신고 통해 수입신고를 하게 된다 이후 인도\\n관세청의 수입요건 관세 평가 등을 검사하는 Appraiser Section과 관련 서류 및 관세율을 재점검하는 Audit Section 과정을 거치게 되\\n며 이를 통과하면 모든 서류에 서명 받게 된다 이후 Challan No라는 인도 관세 납부를 위한 번호를 부여받게 되고 이를 근거로 관세를\\n완납하게 되면 물품을 반출할 수 있다 또한 정식통관의 경우 인도 세관은 일반적으로 화물 도착 후 7일 이후부터 체화료Demurrage\\nCharge를 부과하고 컨테이너 운송의 경우 5일 이후부터 항공운송인 경우 3일 이후부터 체화료가 부과한다\\n2 임시 통관')]"
      ]
     },
     "execution_count": 15,
     "metadata": {},
     "output_type": "execute_result"
    }
   ],
   "source": [
    "answer['context']"
   ]
  },
  {
   "cell_type": "code",
   "execution_count": null,
   "metadata": {},
   "outputs": [],
   "source": []
  }
 ],
 "metadata": {
  "kernelspec": {
   "display_name": "bigproject2",
   "language": "python",
   "name": "python3"
  },
  "language_info": {
   "codemirror_mode": {
    "name": "ipython",
    "version": 3
   },
   "file_extension": ".py",
   "mimetype": "text/x-python",
   "name": "python",
   "nbconvert_exporter": "python",
   "pygments_lexer": "ipython3",
   "version": "3.11.9"
  }
 },
 "nbformat": 4,
 "nbformat_minor": 2
}

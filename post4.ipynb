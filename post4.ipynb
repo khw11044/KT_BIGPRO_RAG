{
 "cells": [
  {
   "cell_type": "markdown",
   "metadata": {},
   "source": [
    "# RAG pipeline 구축하기 4\n",
    "\n",
    "챗봇만 있기보다는 검색창도 함께 있으면 좋을거 같다\n",
    "\n",
    "라는 피드백을 받고 검색창에 검색어를 입력하면 게시물이 생성되게 해보자.\n"
   ]
  },
  {
   "cell_type": "markdown",
   "metadata": {},
   "source": [
    "## 0. Setting \n",
    "\n",
    ".env 파일을 만들어 API키들을 넣어준다. \n",
    "\n",
    "나중에 Ollema를 사용해서 API 없이 local에서 작동가능한 LLM을 사용해 보자.\n",
    "\n"
   ]
  },
  {
   "cell_type": "markdown",
   "metadata": {},
   "source": [
    "```bash\n",
    "OPENAI_API_KEY='sk-proj-5m5haMMQ0Sgkctb7Udixxxxx'\n",
    "\n",
    "\n",
    "```"
   ]
  },
  {
   "cell_type": "code",
   "execution_count": 3,
   "metadata": {},
   "outputs": [
    {
     "data": {
      "text/plain": [
       "True"
      ]
     },
     "execution_count": 3,
     "metadata": {},
     "output_type": "execute_result"
    }
   ],
   "source": [
    "# API KEY를 환경변수로 관리하기 위한 설정 파일\n",
    "from dotenv import load_dotenv\n",
    "# API KEY 정보로드\n",
    "load_dotenv()"
   ]
  },
  {
   "cell_type": "markdown",
   "metadata": {},
   "source": [
    "## 1. RAG pipeline - 지금까지 필요한 라이브러리 다 불러오기"
   ]
  },
  {
   "cell_type": "code",
   "execution_count": 9,
   "metadata": {},
   "outputs": [],
   "source": [
    "from langchain_openai import ChatOpenAI, OpenAIEmbeddings\n",
    "from langchain_community.vectorstores import Chroma\n",
    "\n",
    "\n",
    "# retriever\n",
    "from langchain.retrievers.multi_query import MultiQueryRetriever\n",
    "from langchain.retrievers.self_query.base import SelfQueryRetriever\n",
    "from langchain.retrievers import EnsembleRetriever\n",
    "from langchain_community.retrievers import BM25Retriever\n",
    "import pickle\n",
    "\n",
    "from langchain.chains import LLMChain, create_history_aware_retriever, create_retrieval_chain\n",
    "from langchain.chains.combine_documents import create_stuff_documents_chain\n",
    "from langchain_core.runnables.history import RunnableWithMessageHistory\n",
    "from langchain_community.chat_message_histories import ChatMessageHistory\n",
    "from langchain.schema import HumanMessage\n",
    "\n",
    "from utils.redis_utils import save_message_to_redis, get_messages_from_redis\n",
    "from utils.prompt import *\n",
    "from utils.config import config, metadata_field_info\n",
    "from utils.update import convert_file_to_documents"
   ]
  },
  {
   "cell_type": "markdown",
   "metadata": {},
   "source": [
    "## 지금까지 구현한 RAGPipeLine 클래스"
   ]
  },
  {
   "cell_type": "code",
   "execution_count": 7,
   "metadata": {},
   "outputs": [],
   "source": [
    "class Ragpipeline:\n",
    "    def __init__(self):\n",
    "        # chatGPT API를 통해 llm 모델 로드\n",
    "        self.llm = ChatOpenAI(\n",
    "            model=config[\"llm_predictor\"][\"model_name\"],  # chatgpt 모델 이름\n",
    "            temperature=config[\"llm_predictor\"][\"temperature\"],  # 창의성 0~1\n",
    "        )\n",
    "        \n",
    "        # 초기화 리스트들 \n",
    "        self.vector_store   = self.init_vectorDB()                  \n",
    "        self.retriever      = self.init_retriever()                \n",
    "        self.bm25_retriever = self.init_bm25_retriever()\n",
    "        self.ensemble_retriever = self.init_ensemble_retriever()\n",
    "        self.mq_ensemble_retriever = self.init_mq_ensemble_retriever()\n",
    "        self.chain          = self.init_chat_chain()\n",
    "        \n",
    "        self.session_histories = {}\n",
    "        self.current_user_email = None\n",
    "        self.current_session_id = None\n",
    "\n",
    "    def init_vectorDB(self, persist_directory=config[\"chroma\"][\"persist_dir\"]):\n",
    "        \"\"\"vectorDB 설정\"\"\"\n",
    "        embeddings = OpenAIEmbeddings(model=config[\"embed_model\"][\"model_name\"])  # VectorDB에 저장될 데이터를 임베딩할 모델을 선언합니다.\n",
    "        vector_store = Chroma(\n",
    "            persist_directory=persist_directory,  # 기존에 vectordb가 있으면 해당 위치의 vectordb를 load하고 없으면 새로 생성합니다.\n",
    "            embedding_function=embeddings,                      # 새롭게 데이터가 vectordb에 넣어질때 사용할 임베딩 방식을 정합니다, 저희는 위에서 선언한 embeddings를 사용합니다.\n",
    "            collection_name = 'india',                          # india라는 이름을 정해줌으로써 나중에 vector store 관리 가능 \n",
    "            collection_metadata = {'hnsw:space': 'cosine'},     # cosine 말고 l2 가 default / collection_metadata를 통해 유사도 검색에 사용될 공간('hnsw:space')을 'cosine'으로 지정하여, 코사인 유사도를 사용\n",
    "        )\n",
    "        return vector_store\n",
    "\n",
    "    def init_retriever(self):            \n",
    "        # base retriever 3 \n",
    "        retriever = self.vector_store.as_retriever(\n",
    "            search_type=\"mmr\",                                              # mmr 검색 방법으로 \n",
    "            search_kwargs={'fetch_k': 5, \"k\": 2, 'lambda_mult': 0.4},      # 상위 10개의 관련 context에서 최종 5개를 추리고 'lambda_mult'는 관련성과 다양성 사이의 균형을 조정하는 파라메타 default 값이 0.5\n",
    "        )\n",
    "        return retriever\n",
    "    \n",
    "    def init_bm25_retriever(self):\n",
    "        all_docs = pickle.load(open(config[\"pkl_path\"], 'rb'))\n",
    "        bm25_retriever = BM25Retriever.from_documents(all_docs)\n",
    "        bm25_retriever.k = 1                                            # BM25Retriever의 검색 결과 개수를 1로 설정합니다.\n",
    "        return bm25_retriever\n",
    "    \n",
    "    def init_ensemble_retriever(self):\n",
    "        ensemble_retriever = EnsembleRetriever(\n",
    "            retrievers=[self.bm25_retriever, self.retriever],\n",
    "            weights=[0.4, 0.6],\n",
    "            search_type=config[\"ensemble_search_type\"],  # mmr\n",
    "        )\n",
    "        return ensemble_retriever\n",
    "    \n",
    "    # 멀티쿼리 - 앙상블\n",
    "    def init_mq_ensemble_retriever(self):\n",
    "        mq_ensemble_retriever = MultiQueryRetriever.from_llm(\n",
    "            llm=self.llm,\n",
    "            retriever=self.ensemble_retriever\n",
    "        )\n",
    "        return mq_ensemble_retriever\n",
    "    \n",
    "    def init_chat_chain(self):\n",
    "        # 1. 이어지는 대화가 되도록 대화기록과 체인\n",
    "        history_aware_retriever = create_history_aware_retriever(self.llm, self.mq_ensemble_retriever, contextualize_q_prompt)      # self.mq_ensemble_retriever\n",
    "        # 2. 문서들의 내용을 답변할 수 있도록 리트리버와 체인\n",
    "        question_answer_chain = create_stuff_documents_chain(self.llm, qa_prompt)\n",
    "        # 3. 1과 2를 합침\n",
    "        rag_chat_chain = create_retrieval_chain(history_aware_retriever, question_answer_chain)\n",
    "        \n",
    "        return rag_chat_chain\n",
    "    \n",
    "    def chat_generation(self, question: str) -> dict:\n",
    "        def get_session_history(session_id=None, user_email=None):\n",
    "            session_id = session_id if session_id else self.current_session_id\n",
    "            user_email = user_email if user_email else self.current_user_email\n",
    "\n",
    "            if session_id not in self.session_histories:\n",
    "                self.session_histories[session_id] = ChatMessageHistory()\n",
    "                # Redis에서 세션 히스토리 불러오기\n",
    "                history_messages = get_messages_from_redis(user_email, session_id)\n",
    "                for message in history_messages:\n",
    "                    self.session_histories[session_id].add_message(HumanMessage(content=message))\n",
    "                    \n",
    "            return self.session_histories[session_id]\n",
    "\n",
    "        # 특정 유형의 작업(체인)에 메시지 기록을 추가, 대화형 애플리케이션 또는 복잡한 데이터 처리 작업을 구현할 때 이전 메시지의 맥락을 유지해야 할 필요가 있을 때 유용\n",
    "        conversational_rag_chain = RunnableWithMessageHistory(      \n",
    "            self.chain,                                 # 실행할 Runnable 객체\n",
    "            get_session_history,                        # 세션 기록을 가져오는 함수\n",
    "            input_messages_key=\"input\",                 # 입력 메시지의 키\n",
    "            history_messages_key=\"chat_history\",        # 기록 메시지의 키\n",
    "            output_messages_key=\"answer\"                # 출력 메시지의 키 \n",
    "        )\n",
    "        response = conversational_rag_chain.invoke(\n",
    "            {\"input\": question},\n",
    "            config={\"configurable\": {\"session_id\": self.current_session_id}}            # 같은 session_id 를 입력하면 이전 대화 스레드의 내용을 가져오기 때문에 이어서 대화가 가능!\n",
    "        )\n",
    "\n",
    "        # Redis에 세션 히스토리 저장\n",
    "        save_message_to_redis(self.current_user_email, self.current_session_id, question)\n",
    "        save_message_to_redis(self.current_user_email, self.current_session_id, response[\"answer\"])\n",
    "        \n",
    "        return response\n"
   ]
  },
  {
   "cell_type": "code",
   "execution_count": 8,
   "metadata": {},
   "outputs": [],
   "source": [
    "pipeline = Ragpipeline()"
   ]
  },
  {
   "cell_type": "markdown",
   "metadata": {},
   "source": [
    "### 다음과 같은 검색어를 입력하면 인도 통관에 대한 다양한 게시물이 사용자에게 보여지면 좋겠다."
   ]
  },
  {
   "cell_type": "code",
   "execution_count": 1,
   "metadata": {},
   "outputs": [],
   "source": [
    "question = '인도 통관'\n"
   ]
  },
  {
   "cell_type": "markdown",
   "metadata": {},
   "source": [
    "아래와 같은 chain을 Ragpipeline 클래스에 넣자 "
   ]
  },
  {
   "cell_type": "code",
   "execution_count": null,
   "metadata": {},
   "outputs": [],
   "source": [
    "# title_generator_prompt와 llm을 연결하고 리트리버랑 연결\n",
    "def init_title_chain(self):\n",
    "    question_answer_chain = create_stuff_documents_chain(self.llm, title_generator_prompt)\n",
    "    rag_title_chain = create_retrieval_chain(self.retriever, question_answer_chain)\n",
    "    return rag_title_chain\n",
    "\n",
    "# post_generator_prompt와 llm을 연결하고 리트리버랑 연결 \n",
    "def init_post_chain(self):\n",
    "    question_answer_chain = create_stuff_documents_chain(self.llm, post_generator_prompt)\n",
    "    rag_text_chain = create_retrieval_chain(self.mq_ensemble_retriever, question_answer_chain)\n",
    "    return rag_text_chain\n",
    "\n",
    "# 사용자 쿼리에 대한 게시물 제목 생성 \n",
    "def title_generation(self, question: str):\n",
    "    response = self.title_chain.invoke({'input': question})\n",
    "    return response\n",
    "\n",
    "# 생성된 게시물 제목에 대한 게시물 생성 \n",
    "def post_generation(self, question: str):\n",
    "    response = self.post_chain.invoke({'input': question})\n",
    "    return response"
   ]
  },
  {
   "cell_type": "code",
   "execution_count": 26,
   "metadata": {},
   "outputs": [],
   "source": [
    "class Ragpipeline:\n",
    "    def __init__(self):\n",
    "        # chatGPT API를 통해 llm 모델 로드\n",
    "        self.llm = ChatOpenAI(\n",
    "            model=config[\"llm_predictor\"][\"model_name\"],  # chatgpt 모델 이름\n",
    "            temperature=config[\"llm_predictor\"][\"temperature\"],  # 창의성 0~1\n",
    "        )\n",
    "        \n",
    "        # 초기화 리스트들 \n",
    "        self.vector_store   = self.init_vectorDB()                  \n",
    "        self.retriever      = self.init_retriever()                \n",
    "        self.bm25_retriever = self.init_bm25_retriever()\n",
    "        self.ensemble_retriever = self.init_ensemble_retriever()\n",
    "        self.mq_ensemble_retriever = self.init_mq_ensemble_retriever()\n",
    "        \n",
    "        self.chain          = self.init_chat_chain()\n",
    "        self.title_chain = self.init_title_chain()\n",
    "        self.post_chain = self.init_post_chain()\n",
    "        \n",
    "        self.session_histories = {}\n",
    "        self.current_user_email = None\n",
    "        self.current_session_id = None\n",
    "\n",
    "    def init_vectorDB(self, persist_directory=config[\"chroma\"][\"persist_dir\"]):\n",
    "        \"\"\"vectorDB 설정\"\"\"\n",
    "        embeddings = OpenAIEmbeddings(model=config[\"embed_model\"][\"model_name\"])  \n",
    "        vector_store = Chroma(\n",
    "            persist_directory=persist_directory,  \n",
    "            embedding_function=embeddings,                      \n",
    "            collection_name = 'india',                          \n",
    "            collection_metadata = {'hnsw:space': 'cosine'},     \n",
    "        )\n",
    "        return vector_store\n",
    "\n",
    "# --1. 리트리버 ---------------------------------------------------------------------------------------------------------------------------------\n",
    "    def init_retriever(self):            \n",
    "        # base retriever 3 \n",
    "        retriever = self.vector_store.as_retriever(\n",
    "            search_type=\"mmr\",                                              \n",
    "            search_kwargs={'fetch_k': 5, \"k\": 2, 'lambda_mult': 0.4},     \n",
    "        )\n",
    "        return retriever\n",
    "    \n",
    "    def init_bm25_retriever(self):\n",
    "        all_docs = pickle.load(open(config[\"pkl_path\"], 'rb'))\n",
    "        bm25_retriever = BM25Retriever.from_documents(all_docs)\n",
    "        bm25_retriever.k = 1                                            \n",
    "        return bm25_retriever\n",
    "    \n",
    "    def init_ensemble_retriever(self):\n",
    "        ensemble_retriever = EnsembleRetriever(\n",
    "            retrievers=[self.bm25_retriever, self.retriever],\n",
    "            weights=[0.4, 0.6],\n",
    "            search_type=config[\"ensemble_search_type\"],  # mmr\n",
    "        )\n",
    "        return ensemble_retriever\n",
    "    \n",
    "    def init_mq_ensemble_retriever(self):\n",
    "        mq_ensemble_retriever = MultiQueryRetriever.from_llm(\n",
    "            llm=self.llm,\n",
    "            retriever=self.ensemble_retriever\n",
    "        )\n",
    "        return mq_ensemble_retriever\n",
    "\n",
    "# --2. 생성 chain 초기화 ---------------------------------------------------------------------------------------------------------------------------------\n",
    "    def init_chat_chain(self):\n",
    "        history_aware_retriever = create_history_aware_retriever(self.llm, self.mq_ensemble_retriever, contextualize_q_prompt)      # self.mq_ensemble_retriever\n",
    "\n",
    "        question_answer_chain = create_stuff_documents_chain(self.llm, qa_prompt)\n",
    "\n",
    "        rag_chat_chain = create_retrieval_chain(history_aware_retriever, question_answer_chain)\n",
    "        return rag_chat_chain\n",
    "    \n",
    "    def init_title_chain(self):\n",
    "        question_answer_chain = create_stuff_documents_chain(self.llm, title_generator_prompt)\n",
    "        rag_title_chain = create_retrieval_chain(self.retriever, question_answer_chain)\n",
    "        return rag_title_chain\n",
    "\n",
    "    def init_post_chain(self):\n",
    "        question_answer_chain = create_stuff_documents_chain(self.llm, post_generator_prompt)\n",
    "        rag_text_chain = create_retrieval_chain(self.mq_ensemble_retriever, question_answer_chain)\n",
    "        return rag_text_chain\n",
    "\n",
    "# --3. 생성 결과 출력 ---------------------------------------------------------------------------------------------------------------------------------\n",
    "    def chat_generation(self, question: str) -> dict:\n",
    "        def get_session_history(session_id=None, user_email=None):\n",
    "            session_id = session_id if session_id else self.current_session_id\n",
    "            user_email = user_email if user_email else self.current_user_email\n",
    "\n",
    "            if session_id not in self.session_histories:\n",
    "                self.session_histories[session_id] = ChatMessageHistory()\n",
    "                # Redis에서 세션 히스토리 불러오기\n",
    "                history_messages = get_messages_from_redis(user_email, session_id)\n",
    "                for message in history_messages:\n",
    "                    self.session_histories[session_id].add_message(HumanMessage(content=message))\n",
    "                \n",
    "            return self.session_histories[session_id]\n",
    "\n",
    "        conversational_rag_chain = RunnableWithMessageHistory(      \n",
    "            self.chain,                                 # 실행할 Runnable 객체\n",
    "            get_session_history,                        # 세션 기록을 가져오는 함수\n",
    "            input_messages_key=\"input\",                 # 입력 메시지의 키\n",
    "            history_messages_key=\"chat_history\",        # 기록 메시지의 키\n",
    "            output_messages_key=\"answer\"                # 출력 메시지의 키 \n",
    "        )\n",
    "        response = conversational_rag_chain.invoke(\n",
    "            {\"input\": question},\n",
    "            config={\"configurable\": {\"session_id\": self.current_session_id}}           \n",
    "        )\n",
    "\n",
    "        # Redis에 세션 히스토리 저장\n",
    "        save_message_to_redis(self.current_user_email, self.current_session_id, question)\n",
    "        save_message_to_redis(self.current_user_email, self.current_session_id, response[\"answer\"])\n",
    "        \n",
    "        return response\n",
    "    \n",
    "    def title_generation(self, question: str):\n",
    "        response = self.title_chain.invoke({'input': question})\n",
    "        return response\n",
    "    \n",
    "    def post_generation(self, question: str):\n",
    "        response = self.post_chain.invoke({'input': question})\n",
    "        return response\n"
   ]
  },
  {
   "cell_type": "code",
   "execution_count": 27,
   "metadata": {},
   "outputs": [],
   "source": [
    "pipeline = Ragpipeline()"
   ]
  },
  {
   "cell_type": "markdown",
   "metadata": {},
   "source": [
    "## 게시물 생성"
   ]
  },
  {
   "cell_type": "markdown",
   "metadata": {},
   "source": [
    "### 1. 게시물 제목 생성"
   ]
  },
  {
   "cell_type": "code",
   "execution_count": 28,
   "metadata": {},
   "outputs": [],
   "source": [
    "question = '인도 통관'"
   ]
  },
  {
   "cell_type": "code",
   "execution_count": 29,
   "metadata": {},
   "outputs": [
    {
     "data": {
      "text/plain": [
       "{'input': '인도 통관',\n",
       " 'context': [Document(metadata={'category': '정책', 'page': 0, 'source': '[정책][제약산업정보포털][2019.04.08]인도 통관 및 운송.pdf', 'year': 2019}, page_content='5. 통관 및 운송\\n \\n \\n가. 통관제도\\n  \\n \\n통관 유형별 절차\\n \\n1) 정식통관 \\n \\n인도에서 일반적인 경우 통관에 소요되는 시간은 행정상 운송 수입의 경우 3~4 근무일, '),\n",
       "  Document(metadata={'category': '정책', 'page': 1, 'source': '[정책][제약산업정보포털][2019.04.08]인도 통관 및 운송.pdf', 'year': 2019}, page_content='도 증빙이 충분치 않다는 이유로 통관을 거부하는 사례도 자주 발생한다.  \\n \\n  ㅇ 인도 지역별 세관관할: 인도의 세관 행정은 명목상 통일되어 있으나, 지역별 차이나 관할 세관 ')],\n",
       " 'answer': '1. 인도 통관 절차: 성공적인 수입을 위한 가이드\\n2. 인도 통관 시 주의사항: 지역별 세관 차이와 대응 전략\\n3. 인도 통관 시간 단축 방법: 서류 준비와 절차 이해하기'}"
      ]
     },
     "execution_count": 29,
     "metadata": {},
     "output_type": "execute_result"
    }
   ],
   "source": [
    "titles = pipeline.title_generation(question)           # 제목 개수 정할 수 있음\n",
    "\n",
    "titles"
   ]
  },
  {
   "cell_type": "code",
   "execution_count": 31,
   "metadata": {},
   "outputs": [
    {
     "name": "stdout",
     "output_type": "stream",
     "text": [
      "1. 인도 통관 절차: 성공적인 수입을 위한 가이드\n",
      "2. 인도 통관 시 주의사항: 지역별 세관 차이와 대응 전략\n",
      "3. 인도 통관 시간 단축 방법: 서류 준비와 절차 이해하기\n"
     ]
    }
   ],
   "source": [
    "print(titles['answer'])"
   ]
  },
  {
   "cell_type": "markdown",
   "metadata": {},
   "source": [
    "### 2. 생성한 게시물 제목을 바탕으로 게시물 생성하기"
   ]
  },
  {
   "cell_type": "code",
   "execution_count": 36,
   "metadata": {},
   "outputs": [
    {
     "data": {
      "text/plain": [
       "{'input': ' 인도 통관 절차: 성공적인 수입을 위한 가이드',\n",
       " 'context': [Document(metadata={'category': '정책', 'page': 0, 'source': '[정책][제약산업정보포털][2019.04.08]인도 통관 및 운송.pdf', 'year': 2019}, page_content='5. 통관 및 운송\\n \\n \\n가. 통관제도\\n  \\n \\n통관 유형별 절차\\n \\n1) 정식통관 \\n \\n인도에서 일반적인 경우 통관에 소요되는 시간은 행정상 운송 수입의 경우 3~4 근무일, '),\n",
       "  Document(metadata={'category': '정책', 'page': 1, 'source': '[정책][제약산업정보포털][2019.04.08]인도 통관 및 운송.pdf', 'year': 2019}, page_content='도 증빙이 충분치 않다는 이유로 통관을 거부하는 사례도 자주 발생한다.  \\n \\n  ㅇ 인도 지역별 세관관할: 인도의 세관 행정은 명목상 통일되어 있으나, 지역별 차이나 관할 세관 '),\n",
       "  Document(metadata={'source': '2023 인도진출전략.pdf', 'page_no': 31, 'category': '2. 경제 및 시장 분석', 'url': 'KOTRA', 'date': '2022.12.28'}, page_content='담당자를 통해 HS 코드를 확인하고 관련 증거 보관 및 품목분류 국제 분쟁 신고 또는 소송 진행 등 신중한 의사결정\\n15\\n2023 인도 진출전략\\n22년 2월 연방예산안을 통해 점진적 관세 인상 계획 발표\\n 발전소 공장 등의 건설에 사용되는 플랜트 수입물품에 대하여 기존 05 부과되던 관세율이 23년 9월 30일부터\\n75로 인상 예정\\n 단계별 제조업 지원 정책PMP Phased Manufacturing Programme 시행하여 웨어러블 디바이스 오디오 디바이스\\n등 제조를 위한 수입물품에 대해 2022년부터 2026년까지 단계적 관세 인상 예정\\n2019년 이후 수입 모니터링 시스템 시행 확대로 인한 비관세장벽 강화\\n 19년 11월 철강 제품에 대한 수입 모니터링 시스템을 시작으로 21년 석탄 반도체 비철금속 제품으로 대상 확대\\n 인도 대외무역총국DGFT HS코드 8자리 기준으로 지정 품목 수입 시 온라인 시스템 내 정보 등록 및 수수료 납부 의무화'),\n",
       "  Document(metadata={'category': '정책', 'page': 0, 'source': '[정책][제약산업정보포털][2019.04.08]인도 통관 및 운송.pdf', 'year': 2019}, page_content='후부터 체화료가 부과한다. \\n \\n2) 임시 통관 \\n \\n인도에 들여온 품목을 사용하지 않고 24개월 이내에 다시 반출할 목적이 있는 경우 임시통관이 이루어지게 된다. 임시통관을 위해'),\n",
       "  Document(metadata={'source': '/Users/munseunghyeon/Downloads/big_project/승현_데이터수집/kotra_abroad_news_3th_.csv', 'url': 'https://dream.kotra.or.kr/user/extra/kotranews/bbs/linkView/jsp/Page.do?dataIdx=191535', 'date': '2021-11-01', 'category': '2. 경제 및 시장 분석', 'page_no': 14}, page_content='(세션 3) 기업 인사 담당자와의 현장 인터뷰\\n마지막으로 구직자들의 사전 질의를 바탕으로 K-MOVE 담당직원과 기업 인사담당자가 진행한 현장 인터뷰를 질의응답 형태로 만들어 보았다. 현지 취업에 있어 도움이 되는 내용이니 참고하길 바란다.\\n\\xa0\\nQ1: 인도에서 살면서 가장 힘든 점은 무엇인가요?'),\n",
       "  Document(metadata={'source': '2021 인도진출전략.pdf', 'page_no': 60, 'category': '2. 경제 및 시장 분석', 'url': 'KOTRA', 'date': '2021.01.12'}, page_content='특징으로 하는 수입화물 비대면 통관 시스템Turant Customs Faceless Assessment 조기 시행\\n발표20209\\n수입화물 비대면 통관 시스템Turant Customs\\n10월 31일부터 인도 전역 항만공항내륙ICD 등 단위세관에서도 수입화물에 대해 비대면 시스템인 튜란트\\nTurant Customs 시스템 시행\\n별도 기관NAC National Assessment Center을 설립 관련 작업을 수행하고 통관 과정 모니터링 및 지속적으로\\n국내 품목분류 검증 관세 혜택 등 관련 법률 및 제도 전반의 통일성을 확대하고 제도 연구 및 제도 개선 예정\\n NAC는 수입품의 품목분류 관세 및 양허율 책정 요건확인CCR Compulsory Compliance Requirements\\n기업 및 세관에 대한 제재 등 사실상 수입통관 절차와 관련한 제반업무에 대한 심사권한을 보유\\n 또한 NAC는 허위신고 관세회피와 같은 리스크 관리를 위해 관세조사국DRI 국세조사국DGGI 등 국가 세무')],\n",
       " 'answer': '## 인도 통관 절차: 성공적인 수입을 위한 가이드\\n\\n인도 시장에 진출하려는 스타트업에게 통관 절차는 중요한 단계입니다. 이 가이드는 인도에서 성공적인 수입을 위해 알아야 할 주요 통관 절차와 관련 정보를 제공합니다. \\n\\n### 1. 정식 통관 절차\\n\\n정식 통관은 인도에서 가장 일반적인 통관 유형입니다. 통관 절차는 다음과 같은 단계를 포함합니다:\\n\\n- **서류 준비**: 수입자는 상업 송장, 포장 명세서, 원산지 증명서, 운송 서류 등 필요한 서류를 준비해야 합니다.\\n- **세관 신고**: 준비된 서류를 바탕으로 세관에 신고합니다. 이때 HS 코드를 정확히 기재하고, 관련 증거를 보관하는 것이 중요합니다.\\n- **세관 심사**: 세관은 제출된 서류를 검토하고, 필요시 추가 서류를 요청할 수 있습니다. 이 과정에서 서류가 충분하지 않으면 통관이 거부될 수 있습니다.\\n- **관세 납부**: 세관 심사가 완료되면 관세를 납부해야 합니다. 인도는 2023년 9월 30일부터 특정 품목에 대한 관세율을 인상할 예정이므로, 최신 관세율을 확인하는 것이 중요합니다.\\n- **물품 인도**: 관세 납부 후 물품을 인도받을 수 있습니다. 일반적으로 통관에 소요되는 시간은 3~4 근무일입니다.\\n\\n### 2. 임시 통관 절차\\n\\n임시 통관은 인도에 들여온 물품을 사용하지 않고 24개월 이내에 다시 반출할 경우 적용됩니다. 임시 통관 절차는 다음과 같습니다:\\n\\n- **임시 수입 신고**: 임시 통관을 위해서는 임시 수입 신고서를 제출해야 합니다.\\n- **보증금 납부**: 물품의 가치를 보증하는 보증금을 납부해야 합니다. 이는 물품이 반출될 때 환불됩니다.\\n- **물품 사용 및 반출**: 물품을 사용하지 않고 24개월 이내에 다시 반출해야 합니다. 반출 시에는 원래 제출한 서류와 동일한 서류를 제출해야 합니다.\\n\\n### 3. 비대면 통관 시스템: Turant Customs\\n\\n인도는 2020년 10월 31일부터 비대면 통관 시스템인 Turant Customs를 시행하고 있습니다. 이 시스템은 다음과 같은 특징을 가지고 있습니다:\\n\\n- **비대면 심사**: 수입 화물에 대한 심사가 비대면으로 이루어지며, 이를 통해 통관 절차가 간소화되고 신속해집니다.\\n- **NAC 설립**: National Assessment Center(NAC)가 설립되어 수입품의 품목분류, 관세 및 양허율 책정, 요건 확인 등의 업무를 수행합니다.\\n- **리스크 관리**: NAC는 허위 신고 및 관세 회피를 방지하기 위해 관세조사국(DRI) 및 국세조사국(DGGI)과 협력하여 리스크 관리를 강화합니다.\\n\\n### 4. 수입 모니터링 시스템\\n\\n인도는 2019년 이후 수입 모니터링 시스템을 확대 시행하고 있습니다. 주요 내용은 다음과 같습니다:\\n\\n- **대상 품목 확대**: 2019년 철강 제품을 시작으로, 2021년에는 석탄, 반도체, 비철금속 제품으로 대상이 확대되었습니다.\\n- **온라인 등록 및 수수료 납부**: 인도 대외무역총국(DGFT)은 HS 코드 8자리 기준으로 지정 품목 수입 시 온라인 시스템 내 정보 등록 및 수수료 납부를 의무화하고 있습니다.\\n\\n### 5. 관세 인상 계획\\n\\n인도 정부는 2022년부터 2026년까지 단계별 제조업 지원 정책(PMP)을 시행하여 웨어러블 디바이스, 오디오 디바이스 등 제조를 위한 수입물품에 대해 단계적으로 관세를 인상할 예정입니다. 이에 따라 수입업체는 최신 관세율을 확인하고, 이에 맞춰 수입 계획을 조정해야 합니다.\\n\\n## 결론\\n\\n인도 시장에 성공적으로 진출하기 위해서는 통관 절차를 철저히 이해하고 준비하는 것이 중요합니다. 정식 통관, 임시 통관, 비대면 통관 시스템, 수입 모니터링 시스템, 관세 인상 계획 등을 숙지하여 원활한 수입 절차를 진행하시기 바랍니다.'}"
      ]
     },
     "execution_count": 36,
     "metadata": {},
     "output_type": "execute_result"
    }
   ],
   "source": [
    "title = titles['answer'].split('\\n')[0].split('.')[-1]\n",
    "\n",
    "post = pipeline.post_generation(title)           # 제목 개수 정할 수 있음\n",
    "\n",
    "post"
   ]
  },
  {
   "cell_type": "code",
   "execution_count": 37,
   "metadata": {},
   "outputs": [
    {
     "name": "stdout",
     "output_type": "stream",
     "text": [
      "## 인도 통관 절차: 성공적인 수입을 위한 가이드\n",
      "\n",
      "인도 시장에 진출하려는 스타트업에게 통관 절차는 중요한 단계입니다. 이 가이드는 인도에서 성공적인 수입을 위해 알아야 할 주요 통관 절차와 관련 정보를 제공합니다. \n",
      "\n",
      "### 1. 정식 통관 절차\n",
      "\n",
      "정식 통관은 인도에서 가장 일반적인 통관 유형입니다. 통관 절차는 다음과 같은 단계를 포함합니다:\n",
      "\n",
      "- **서류 준비**: 수입자는 상업 송장, 포장 명세서, 원산지 증명서, 운송 서류 등 필요한 서류를 준비해야 합니다.\n",
      "- **세관 신고**: 준비된 서류를 바탕으로 세관에 신고합니다. 이때 HS 코드를 정확히 기재하고, 관련 증거를 보관하는 것이 중요합니다.\n",
      "- **세관 심사**: 세관은 제출된 서류를 검토하고, 필요시 추가 서류를 요청할 수 있습니다. 이 과정에서 서류가 충분하지 않으면 통관이 거부될 수 있습니다.\n",
      "- **관세 납부**: 세관 심사가 완료되면 관세를 납부해야 합니다. 인도는 2023년 9월 30일부터 특정 품목에 대한 관세율을 인상할 예정이므로, 최신 관세율을 확인하는 것이 중요합니다.\n",
      "- **물품 인도**: 관세 납부 후 물품을 인도받을 수 있습니다. 일반적으로 통관에 소요되는 시간은 3~4 근무일입니다.\n",
      "\n",
      "### 2. 임시 통관 절차\n",
      "\n",
      "임시 통관은 인도에 들여온 물품을 사용하지 않고 24개월 이내에 다시 반출할 경우 적용됩니다. 임시 통관 절차는 다음과 같습니다:\n",
      "\n",
      "- **임시 수입 신고**: 임시 통관을 위해서는 임시 수입 신고서를 제출해야 합니다.\n",
      "- **보증금 납부**: 물품의 가치를 보증하는 보증금을 납부해야 합니다. 이는 물품이 반출될 때 환불됩니다.\n",
      "- **물품 사용 및 반출**: 물품을 사용하지 않고 24개월 이내에 다시 반출해야 합니다. 반출 시에는 원래 제출한 서류와 동일한 서류를 제출해야 합니다.\n",
      "\n",
      "### 3. 비대면 통관 시스템: Turant Customs\n",
      "\n",
      "인도는 2020년 10월 31일부터 비대면 통관 시스템인 Turant Customs를 시행하고 있습니다. 이 시스템은 다음과 같은 특징을 가지고 있습니다:\n",
      "\n",
      "- **비대면 심사**: 수입 화물에 대한 심사가 비대면으로 이루어지며, 이를 통해 통관 절차가 간소화되고 신속해집니다.\n",
      "- **NAC 설립**: National Assessment Center(NAC)가 설립되어 수입품의 품목분류, 관세 및 양허율 책정, 요건 확인 등의 업무를 수행합니다.\n",
      "- **리스크 관리**: NAC는 허위 신고 및 관세 회피를 방지하기 위해 관세조사국(DRI) 및 국세조사국(DGGI)과 협력하여 리스크 관리를 강화합니다.\n",
      "\n",
      "### 4. 수입 모니터링 시스템\n",
      "\n",
      "인도는 2019년 이후 수입 모니터링 시스템을 확대 시행하고 있습니다. 주요 내용은 다음과 같습니다:\n",
      "\n",
      "- **대상 품목 확대**: 2019년 철강 제품을 시작으로, 2021년에는 석탄, 반도체, 비철금속 제품으로 대상이 확대되었습니다.\n",
      "- **온라인 등록 및 수수료 납부**: 인도 대외무역총국(DGFT)은 HS 코드 8자리 기준으로 지정 품목 수입 시 온라인 시스템 내 정보 등록 및 수수료 납부를 의무화하고 있습니다.\n",
      "\n",
      "### 5. 관세 인상 계획\n",
      "\n",
      "인도 정부는 2022년부터 2026년까지 단계별 제조업 지원 정책(PMP)을 시행하여 웨어러블 디바이스, 오디오 디바이스 등 제조를 위한 수입물품에 대해 단계적으로 관세를 인상할 예정입니다. 이에 따라 수입업체는 최신 관세율을 확인하고, 이에 맞춰 수입 계획을 조정해야 합니다.\n",
      "\n",
      "## 결론\n",
      "\n",
      "인도 시장에 성공적으로 진출하기 위해서는 통관 절차를 철저히 이해하고 준비하는 것이 중요합니다. 정식 통관, 임시 통관, 비대면 통관 시스템, 수입 모니터링 시스템, 관세 인상 계획 등을 숙지하여 원활한 수입 절차를 진행하시기 바랍니다.\n"
     ]
    }
   ],
   "source": [
    "print(post['answer'])"
   ]
  }
 ],
 "metadata": {
  "kernelspec": {
   "display_name": "bigproject2",
   "language": "python",
   "name": "python3"
  },
  "language_info": {
   "codemirror_mode": {
    "name": "ipython",
    "version": 3
   },
   "file_extension": ".py",
   "mimetype": "text/x-python",
   "name": "python",
   "nbconvert_exporter": "python",
   "pygments_lexer": "ipython3",
   "version": "3.11.9"
  }
 },
 "nbformat": 4,
 "nbformat_minor": 2
}

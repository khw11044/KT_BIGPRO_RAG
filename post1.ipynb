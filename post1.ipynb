{
 "cells": [
  {
   "cell_type": "markdown",
   "metadata": {},
   "source": [
    "# Data pipeline 구축하기 1  \n",
    "\n",
    "\n",
    "Rag pipeline을 만들고 각 함수를 손쉽게 사용해보자\n",
    "\n",
    "이번 포스팅에는 VectorDB를 정하고 거기에 pdf파일의 내용을 넣어본다.\n"
   ]
  },
  {
   "cell_type": "markdown",
   "metadata": {},
   "source": [
    "## 0. Setting \n",
    "\n",
    ".env 파일을 만들어 API키들을 넣어준다. \n",
    "\n",
    "나중에 Ollema를 사용해서 API 없이 local에서 작동가능한 LLM을 사용해 보자.\n",
    "\n"
   ]
  },
  {
   "cell_type": "markdown",
   "metadata": {},
   "source": [
    "```bash\n",
    "OPENAI_API_KEY='sk-proj-5m5haMMQ0Sgkctb7Udixxxxx'\n",
    "\n",
    "\n",
    "```"
   ]
  },
  {
   "cell_type": "code",
   "execution_count": 1,
   "metadata": {},
   "outputs": [
    {
     "data": {
      "text/plain": [
       "True"
      ]
     },
     "execution_count": 1,
     "metadata": {},
     "output_type": "execute_result"
    }
   ],
   "source": [
    "# API KEY를 환경변수로 관리하기 위한 설정 파일\n",
    "from dotenv import load_dotenv\n",
    "# API KEY 정보로드\n",
    "load_dotenv()"
   ]
  },
  {
   "cell_type": "markdown",
   "metadata": {},
   "source": [
    "## 1. Data pipeline - VectorDB"
   ]
  },
  {
   "cell_type": "code",
   "execution_count": 2,
   "metadata": {},
   "outputs": [],
   "source": [
    "# langchain_openai에서 ChatOpenAI(LLM)과 OpenAIEmbeddings(임베딩모델: text를 vector화하는 모델)을 load\n",
    "from langchain_openai import ChatOpenAI, OpenAIEmbeddings\n",
    "\n",
    "# PDF파일등 데이터를 Chroma형식의 vectorDB에 저장하고 리트리버가 수집한 데이터에 접근하기 위해 Chroma를 load\n",
    "from langchain_community.vectorstores import Chroma\n",
    "\n",
    "# 우리가 만든 config.py에서 모델등 옵션들을 수정\n",
    "from utils.config import config\n",
    "\n",
    "# 추가 데이터를 업로드하기 위해 file을 다큐먼트로 만들고 (convert_file_to_documents) 다큐먼트를 자르는 (split_document) 함수를 load합니다.\n",
    "from utils.update import convert_file_to_documents"
   ]
  },
  {
   "cell_type": "code",
   "execution_count": 3,
   "metadata": {},
   "outputs": [],
   "source": [
    "class Datapipeline:\n",
    "    def __init__(self):\n",
    "\n",
    "        # RAG가 접근할 vectorDB를 초기화합니다.\n",
    "        self.vector_store = self.init_vectorDB()\n",
    "\n",
    "    def init_vectorDB(self):\n",
    "        \"\"\"vectorDB 설정\"\"\"\n",
    "        embeddings = OpenAIEmbeddings(model=config[\"embed_model\"][\"model_name\"])  # VectorDB에 저장될 데이터를 임베딩할 모델을 선언합니다.\n",
    "        vector_store = Chroma(\n",
    "            persist_directory=config[\"chroma\"][\"persist_dir\"],  # 기존에 vectordb가 있으면 해당 위치의 vectordb를 load하고 없으면 새로 생성합니다.\n",
    "            embedding_function=embeddings,                      # 새롭게 데이터가 vectordb에 넣어질때 사용할 임베딩 방식을 정합니다, 저희는 위에서 선언한 embeddings를 사용합니다.\n",
    "            collection_name = 'india',                          # india라는 이름을 정해줌으로써 나중에 vector store 관리 가능 \n",
    "            collection_metadata = {'hnsw:space': 'cosine'},     # cosine 말고 l2 가 default / collection_metadata를 통해 유사도 검색에 사용될 공간('hnsw:space')을 'cosine'으로 지정하여, 코사인 유사도를 사용\n",
    "        )\n",
    "        return vector_store\n",
    "\n",
    "    def update_vector_db(self, file, force=True, chunk_size=200):\n",
    "        # txt파일, pdf파일, csv파일에서 파일 loader를 통해 내용과 소스를 documents에 넣습니다. \n",
    "        # force가 True인 경우 기존 VectorDB에 유사한 내용 유무와 상관없이 파일을 업로드 합니다. \n",
    "        # force가 False인 경우 기존 VectorDB에 유사한 내용이 있는지 확인하고 있으면 데이터를 업로드 하지 않습니다. \n",
    "        upload_documents = convert_file_to_documents(self.vector_store, file, force, chunk_size)\n",
    "\n",
    "        if upload_documents:                                   # 잘라서 넣어줄 내용이 있다면 \n",
    "            self.vector_store.add_documents(upload_documents)  # vectorDB에 넣어줍니다. 이때, vector_store 초기화 할때 정해준 embedding_function에 맞게 임베딩되어 들어갑니다. \n",
    "            print(f\"Added {len(upload_documents)} new documents to the vector store\")\n",
    "            return True\n",
    "        else:\n",
    "            print(\"모두 유사한 청크로 판단되어 해당 문서가 저장되지 않음\")\n",
    "            return False\n",
    "        \n",
    "        \n",
    "    def delete_vector_db_by_doc_id(self, filename):\n",
    "        \"\"\"\n",
    "        주어진 문서 ID에 해당하는 벡터 임베딩을 삭제\n",
    "        \"\"\"\n",
    "        # 벡터 데이터베이스에서 모든 문서 가져오기\n",
    "        db_data = self.vector_store._collection.get(include=[\"metadatas\"])\n",
    "        ids = db_data['ids']\n",
    "        metadatas = db_data['metadatas']\n",
    "        ids_to_delete = [id for id, metadata in zip(ids, metadatas) if metadata.get('source') == filename]\n",
    "    \n",
    "        if ids_to_delete:\n",
    "            self.vector_store._collection.delete(ids=ids_to_delete)\n",
    "            print(f\"[벡터 DB 삭제] 문서 ID [{filename}]의 임베딩을 벡터 DB에서 삭제했습니다.\")\n",
    "        else:\n",
    "            print(f\"[벡터 DB 삭제 실패] 문서 ID [{filename}]에 대한 임베딩을 찾을 수 없습니다.\")\n",
    "            "
   ]
  },
  {
   "cell_type": "code",
   "execution_count": 4,
   "metadata": {},
   "outputs": [],
   "source": [
    "pipeline = Datapipeline()"
   ]
  },
  {
   "cell_type": "markdown",
   "metadata": {},
   "source": [
    "## 1. Data Pipeline에 데이터 업로드하기 "
   ]
  },
  {
   "cell_type": "markdown",
   "metadata": {},
   "source": [
    "### 먼저 빈 VectorDB를 확인해 봅니다. "
   ]
  },
  {
   "cell_type": "code",
   "execution_count": 5,
   "metadata": {},
   "outputs": [],
   "source": [
    "vectorDB = pipeline.init_vectorDB()                     # vectorDB가 새로 생겼으면, default 위치에 vectorDB를 가져오고 \n",
    "# persist_dir = \"./database\"                            # 특정 vectorDB를 가져오고 싶다면 특정 폴더 위치를 지정해 줍니다.\n",
    "# vectorDB = pipeline.init_vectorDB(persist_dir)"
   ]
  },
  {
   "cell_type": "code",
   "execution_count": 6,
   "metadata": {},
   "outputs": [
    {
     "data": {
      "text/plain": [
       "{'ids': [],\n",
       " 'embeddings': None,\n",
       " 'metadatas': [],\n",
       " 'documents': [],\n",
       " 'uris': None,\n",
       " 'data': None,\n",
       " 'included': ['metadatas', 'documents']}"
      ]
     },
     "execution_count": 6,
     "metadata": {},
     "output_type": "execute_result"
    }
   ],
   "source": [
    "database = vectorDB.get()\n",
    "\n",
    "database\n",
    "# 비어 있는것을 확인할 수 있습니다."
   ]
  },
  {
   "cell_type": "markdown",
   "metadata": {},
   "source": [
    "### pipeline에서 수집한 데이터를 update_vector_db 함수를 통해 VectorDB에 넣어봅니다."
   ]
  },
  {
   "cell_type": "code",
   "execution_count": 7,
   "metadata": {},
   "outputs": [],
   "source": [
    "upload_file = 'documents\\[정책][제약산업정보포털][2019.04.08]인도 통관 및 운송.pdf'"
   ]
  },
  {
   "cell_type": "code",
   "execution_count": 8,
   "metadata": {},
   "outputs": [
    {
     "name": "stdout",
     "output_type": "stream",
     "text": [
      "documents\\[정책][제약산업정보포털][2019.04.08]인도 통관 및 운송.pdf\n"
     ]
    },
    {
     "name": "stderr",
     "output_type": "stream",
     "text": [
      "100%|██████████| 4/4 [00:00<00:00, 4000.29it/s]\n"
     ]
    },
    {
     "name": "stdout",
     "output_type": "stream",
     "text": [
      "Added 46 new documents to the vector store\n"
     ]
    }
   ],
   "source": [
    "with open(upload_file, 'rb') as file:                               # 비슷하거나 같은 내용이더라도, 새롭게 업데이트된 내용이라 넣어주고 싶다면 force=True로 \n",
    "    print(file.name)\n",
    "    pipeline.update_vector_db(file, force=True, chunk_size=200)     # 이렇게 정확히 명시해줘도 되고 \n",
    "    # pipeline.update_vector_db(file)                               # default값으로 넣어줘도 됩니다. "
   ]
  },
  {
   "cell_type": "code",
   "execution_count": 9,
   "metadata": {},
   "outputs": [
    {
     "name": "stderr",
     "output_type": "stream",
     "text": [
      " 25%|██▌       | 1/4 [00:00<00:00,  3.29it/s]"
     ]
    },
    {
     "name": "stdout",
     "output_type": "stream",
     "text": [
      "기존 DB에 유사한 청크가 있음으로 판단되어 추가되지 않음  - 0.07657945993175419\n"
     ]
    },
    {
     "name": "stderr",
     "output_type": "stream",
     "text": [
      " 50%|█████     | 2/4 [00:00<00:00,  2.96it/s]"
     ]
    },
    {
     "name": "stdout",
     "output_type": "stream",
     "text": [
      "기존 DB에 유사한 청크가 있음으로 판단되어 추가되지 않음  - 0.07221324124943584\n"
     ]
    },
    {
     "name": "stderr",
     "output_type": "stream",
     "text": [
      " 75%|███████▌  | 3/4 [00:00<00:00,  3.06it/s]"
     ]
    },
    {
     "name": "stdout",
     "output_type": "stream",
     "text": [
      "기존 DB에 유사한 청크가 있음으로 판단되어 추가되지 않음  - 0.06632672037143994\n"
     ]
    },
    {
     "name": "stderr",
     "output_type": "stream",
     "text": [
      "100%|██████████| 4/4 [00:01<00:00,  3.00it/s]"
     ]
    },
    {
     "name": "stdout",
     "output_type": "stream",
     "text": [
      "기존 DB에 유사한 청크가 있음으로 판단되어 추가되지 않음  - 2.306911399130307e-06\n",
      "모두 유사한 청크로 판단되어 해당 문서가 저장되지 않음\n"
     ]
    },
    {
     "name": "stderr",
     "output_type": "stream",
     "text": [
      "\n"
     ]
    }
   ],
   "source": [
    "with open(upload_file, 'rb') as file:\n",
    "    pipeline.update_vector_db(file, force=False, chunk_size=200)     # False로 하는 경우, 중복된 내용의 파일이 들어가는것을 방지해줍니다."
   ]
  },
  {
   "cell_type": "code",
   "execution_count": 10,
   "metadata": {},
   "outputs": [
    {
     "data": {
      "text/plain": [
       "{'ids': ['03f8cb11-880b-48cd-8d54-ad0f1d482f57',\n",
       "  '0906c8af-7287-49ae-a953-cbd3242bcc29',\n",
       "  '0e657601-d1ff-4a09-aace-34773821a326',\n",
       "  '1337e63b-b9ad-4bfe-b08b-d137835d510e',\n",
       "  '168c4ae4-7bfc-487d-b2af-7bc7a6bee42e',\n",
       "  '189110b4-03b9-42bf-b232-a20665d14a70',\n",
       "  '1c5fa918-3bee-4771-9c71-3c2bd13aaab3',\n",
       "  '1ee0ec01-2cf4-4484-9b4b-fc8207dac555',\n",
       "  '21521398-66ce-4b00-82da-432d849ad3b0',\n",
       "  '253919f2-6912-4764-be2c-8b414604ff56',\n",
       "  '29c1ef3f-85aa-4f5a-bfe8-8cca916de246',\n",
       "  '2e1f868a-bb1d-4087-a68c-fd328ea033c5',\n",
       "  '33a92598-50e1-4851-8433-3a1d704576c1',\n",
       "  '34bac4e7-f37d-461a-a2b0-b787ad0a3615',\n",
       "  '3acba865-6153-4477-a96a-7886900950c6',\n",
       "  '45887f31-f4cc-4a67-bee9-39dd76391d69',\n",
       "  '45c7598a-9c99-4a00-9188-9ed0b60b658e',\n",
       "  '4827ae73-1e38-46b3-afc7-d02f8566e0d8',\n",
       "  '58d6223f-6667-44d7-85fa-813adecdf7ca',\n",
       "  '602e69af-7991-46f6-8318-e547cbc691eb',\n",
       "  '63685e7d-2f19-42a1-98a5-409dcd81ac53',\n",
       "  '66c0254d-bcb9-4f64-984e-569571dce17c',\n",
       "  '707dad58-a465-4c44-8e86-5a85a3c1cc09',\n",
       "  '85594ede-cb3d-4a4a-b3ee-4b9d0164f6b5',\n",
       "  '890048c3-fdc8-416f-9226-a51b7dcdb4d6',\n",
       "  '92bc0e61-f800-416b-b77c-6978814b36c1',\n",
       "  '9b4d3b37-b5b2-499f-8987-2ca1486489c3',\n",
       "  '9d6bb5ad-d1af-4b68-b4bb-a6d15a38bc6f',\n",
       "  'ab325d47-51cb-47eb-90aa-00f09abaa3c3',\n",
       "  'afa36e08-e79b-4f2a-9d8d-7d5d7ee77266',\n",
       "  'b7c9c777-2642-414c-a006-0ae8c02c2dc4',\n",
       "  'b9ace21d-6b00-4cca-b41a-cc30ce7d8c9a',\n",
       "  'ba231edc-6bac-406d-8887-a602c4eb0672',\n",
       "  'c1346093-638b-420d-85a5-a2d87621ed19',\n",
       "  'c21aeeb4-bef6-448a-9663-ec0393b0d744',\n",
       "  'c51247df-3502-4bea-bef4-a8b1effe5b91',\n",
       "  'd1e65500-92ae-4957-96f5-bd72ef93a021',\n",
       "  'd2cf28f7-3f79-40e6-b6d6-67c0c8a04feb',\n",
       "  'd4123c67-8d73-4e18-ac31-5949fed72b67',\n",
       "  'daf82d55-551c-468d-a7c6-eb329a249aea',\n",
       "  'e2e0c22a-f42c-4a9c-9a12-cbc20f6b1dbc',\n",
       "  'e9547589-1aa9-42eb-8fd6-9803c77fe2b8',\n",
       "  'f02b6d7c-b970-478f-84be-0c7e07f5945d',\n",
       "  'f40f8eac-1d42-40d5-8a7e-e56e4f29e087',\n",
       "  'f6d0345d-5f6a-4613-ab09-ceb9e16a02fa',\n",
       "  'fcbd7db7-405f-421d-be2e-d9b6ff67e02c'],\n",
       " 'embeddings': None,\n",
       " 'metadatas': [{'category': '정책',\n",
       "   'page': 1,\n",
       "   'source': '[정책][제약산업정보포털][2019.04.08]인도 통관 및 운송.pdf',\n",
       "   'year': 2019},\n",
       "  {'category': '정책',\n",
       "   'page': 1,\n",
       "   'source': '[정책][제약산업정보포털][2019.04.08]인도 통관 및 운송.pdf',\n",
       "   'year': 2019},\n",
       "  {'category': '정책',\n",
       "   'page': 0,\n",
       "   'source': '[정책][제약산업정보포털][2019.04.08]인도 통관 및 운송.pdf',\n",
       "   'year': 2019},\n",
       "  {'category': '정책',\n",
       "   'page': 0,\n",
       "   'source': '[정책][제약산업정보포털][2019.04.08]인도 통관 및 운송.pdf',\n",
       "   'year': 2019},\n",
       "  {'category': '정책',\n",
       "   'page': 0,\n",
       "   'source': '[정책][제약산업정보포털][2019.04.08]인도 통관 및 운송.pdf',\n",
       "   'year': 2019},\n",
       "  {'category': '정책',\n",
       "   'page': 1,\n",
       "   'source': '[정책][제약산업정보포털][2019.04.08]인도 통관 및 운송.pdf',\n",
       "   'year': 2019},\n",
       "  {'category': '정책',\n",
       "   'page': 0,\n",
       "   'source': '[정책][제약산업정보포털][2019.04.08]인도 통관 및 운송.pdf',\n",
       "   'year': 2019},\n",
       "  {'category': '정책',\n",
       "   'page': 1,\n",
       "   'source': '[정책][제약산업정보포털][2019.04.08]인도 통관 및 운송.pdf',\n",
       "   'year': 2019},\n",
       "  {'category': '정책',\n",
       "   'page': 0,\n",
       "   'source': '[정책][제약산업정보포털][2019.04.08]인도 통관 및 운송.pdf',\n",
       "   'year': 2019},\n",
       "  {'category': '정책',\n",
       "   'page': 0,\n",
       "   'source': '[정책][제약산업정보포털][2019.04.08]인도 통관 및 운송.pdf',\n",
       "   'year': 2019},\n",
       "  {'category': '정책',\n",
       "   'page': 0,\n",
       "   'source': '[정책][제약산업정보포털][2019.04.08]인도 통관 및 운송.pdf',\n",
       "   'year': 2019},\n",
       "  {'category': '정책',\n",
       "   'page': 0,\n",
       "   'source': '[정책][제약산업정보포털][2019.04.08]인도 통관 및 운송.pdf',\n",
       "   'year': 2019},\n",
       "  {'category': '정책',\n",
       "   'page': 0,\n",
       "   'source': '[정책][제약산업정보포털][2019.04.08]인도 통관 및 운송.pdf',\n",
       "   'year': 2019},\n",
       "  {'category': '정책',\n",
       "   'page': 1,\n",
       "   'source': '[정책][제약산업정보포털][2019.04.08]인도 통관 및 운송.pdf',\n",
       "   'year': 2019},\n",
       "  {'category': '정책',\n",
       "   'page': 2,\n",
       "   'source': '[정책][제약산업정보포털][2019.04.08]인도 통관 및 운송.pdf',\n",
       "   'year': 2019},\n",
       "  {'category': '정책',\n",
       "   'page': 1,\n",
       "   'source': '[정책][제약산업정보포털][2019.04.08]인도 통관 및 운송.pdf',\n",
       "   'year': 2019},\n",
       "  {'category': '정책',\n",
       "   'page': 0,\n",
       "   'source': '[정책][제약산업정보포털][2019.04.08]인도 통관 및 운송.pdf',\n",
       "   'year': 2019},\n",
       "  {'category': '정책',\n",
       "   'page': 1,\n",
       "   'source': '[정책][제약산업정보포털][2019.04.08]인도 통관 및 운송.pdf',\n",
       "   'year': 2019},\n",
       "  {'category': '정책',\n",
       "   'page': 1,\n",
       "   'source': '[정책][제약산업정보포털][2019.04.08]인도 통관 및 운송.pdf',\n",
       "   'year': 2019},\n",
       "  {'category': '정책',\n",
       "   'page': 0,\n",
       "   'source': '[정책][제약산업정보포털][2019.04.08]인도 통관 및 운송.pdf',\n",
       "   'year': 2019},\n",
       "  {'category': '정책',\n",
       "   'page': 0,\n",
       "   'source': '[정책][제약산업정보포털][2019.04.08]인도 통관 및 운송.pdf',\n",
       "   'year': 2019},\n",
       "  {'category': '정책',\n",
       "   'page': 1,\n",
       "   'source': '[정책][제약산업정보포털][2019.04.08]인도 통관 및 운송.pdf',\n",
       "   'year': 2019},\n",
       "  {'category': '정책',\n",
       "   'page': 2,\n",
       "   'source': '[정책][제약산업정보포털][2019.04.08]인도 통관 및 운송.pdf',\n",
       "   'year': 2019},\n",
       "  {'category': '정책',\n",
       "   'page': 1,\n",
       "   'source': '[정책][제약산업정보포털][2019.04.08]인도 통관 및 운송.pdf',\n",
       "   'year': 2019},\n",
       "  {'category': '정책',\n",
       "   'page': 2,\n",
       "   'source': '[정책][제약산업정보포털][2019.04.08]인도 통관 및 운송.pdf',\n",
       "   'year': 2019},\n",
       "  {'category': '정책',\n",
       "   'page': 1,\n",
       "   'source': '[정책][제약산업정보포털][2019.04.08]인도 통관 및 운송.pdf',\n",
       "   'year': 2019},\n",
       "  {'category': '정책',\n",
       "   'page': 2,\n",
       "   'source': '[정책][제약산업정보포털][2019.04.08]인도 통관 및 운송.pdf',\n",
       "   'year': 2019},\n",
       "  {'category': '정책',\n",
       "   'page': 0,\n",
       "   'source': '[정책][제약산업정보포털][2019.04.08]인도 통관 및 운송.pdf',\n",
       "   'year': 2019},\n",
       "  {'category': '정책',\n",
       "   'page': 2,\n",
       "   'source': '[정책][제약산업정보포털][2019.04.08]인도 통관 및 운송.pdf',\n",
       "   'year': 2019},\n",
       "  {'category': '정책',\n",
       "   'page': 2,\n",
       "   'source': '[정책][제약산업정보포털][2019.04.08]인도 통관 및 운송.pdf',\n",
       "   'year': 2019},\n",
       "  {'category': '정책',\n",
       "   'page': 1,\n",
       "   'source': '[정책][제약산업정보포털][2019.04.08]인도 통관 및 운송.pdf',\n",
       "   'year': 2019},\n",
       "  {'category': '정책',\n",
       "   'page': 1,\n",
       "   'source': '[정책][제약산업정보포털][2019.04.08]인도 통관 및 운송.pdf',\n",
       "   'year': 2019},\n",
       "  {'category': '정책',\n",
       "   'page': 1,\n",
       "   'source': '[정책][제약산업정보포털][2019.04.08]인도 통관 및 운송.pdf',\n",
       "   'year': 2019},\n",
       "  {'category': '정책',\n",
       "   'page': 1,\n",
       "   'source': '[정책][제약산업정보포털][2019.04.08]인도 통관 및 운송.pdf',\n",
       "   'year': 2019},\n",
       "  {'category': '정책',\n",
       "   'page': 0,\n",
       "   'source': '[정책][제약산업정보포털][2019.04.08]인도 통관 및 운송.pdf',\n",
       "   'year': 2019},\n",
       "  {'category': '정책',\n",
       "   'page': 2,\n",
       "   'source': '[정책][제약산업정보포털][2019.04.08]인도 통관 및 운송.pdf',\n",
       "   'year': 2019},\n",
       "  {'category': '정책',\n",
       "   'page': 0,\n",
       "   'source': '[정책][제약산업정보포털][2019.04.08]인도 통관 및 운송.pdf',\n",
       "   'year': 2019},\n",
       "  {'category': '정책',\n",
       "   'page': 0,\n",
       "   'source': '[정책][제약산업정보포털][2019.04.08]인도 통관 및 운송.pdf',\n",
       "   'year': 2019},\n",
       "  {'category': '정책',\n",
       "   'page': 0,\n",
       "   'source': '[정책][제약산업정보포털][2019.04.08]인도 통관 및 운송.pdf',\n",
       "   'year': 2019},\n",
       "  {'category': '정책',\n",
       "   'page': 1,\n",
       "   'source': '[정책][제약산업정보포털][2019.04.08]인도 통관 및 운송.pdf',\n",
       "   'year': 2019},\n",
       "  {'category': '정책',\n",
       "   'page': 3,\n",
       "   'source': '[정책][제약산업정보포털][2019.04.08]인도 통관 및 운송.pdf',\n",
       "   'year': 2019},\n",
       "  {'category': '정책',\n",
       "   'page': 0,\n",
       "   'source': '[정책][제약산업정보포털][2019.04.08]인도 통관 및 운송.pdf',\n",
       "   'year': 2019},\n",
       "  {'category': '정책',\n",
       "   'page': 2,\n",
       "   'source': '[정책][제약산업정보포털][2019.04.08]인도 통관 및 운송.pdf',\n",
       "   'year': 2019},\n",
       "  {'category': '정책',\n",
       "   'page': 1,\n",
       "   'source': '[정책][제약산업정보포털][2019.04.08]인도 통관 및 운송.pdf',\n",
       "   'year': 2019},\n",
       "  {'category': '정책',\n",
       "   'page': 2,\n",
       "   'source': '[정책][제약산업정보포털][2019.04.08]인도 통관 및 운송.pdf',\n",
       "   'year': 2019},\n",
       "  {'category': '정책',\n",
       "   'page': 0,\n",
       "   'source': '[정책][제약산업정보포털][2019.04.08]인도 통관 및 운송.pdf',\n",
       "   'year': 2019}],\n",
       " 'documents': ['협정 적용을 인정하고 있으나, 세관의 행정 시스템이 갖추어지지 않아 실\\n무적으로 FTA 사후 협정 적용이 불가능하다. 다만, 통관 시 FTA 협정 적용을 위한 원산지 증명서를 발급',\n",
       "  '품목분류를 확정받았다 하더라도 다른 관할지에서는 이를 그대로 적용하지 않을 가능성이 있다.  \\n \\n  ㅇ 서류의 수정: 인도는 통관에 필요한 서류에 기재 오류나 상호 간의 불일치가',\n",
       "  '경우 약식통관이 가능하다. 이는 전자상거래의 물품에도 적용된다. 인도는 2,000루피 이하의 품목을\\n3가지 분류로 나누어 HS코드를 적용하고 있으며, 그 분류는 다음과 같다.   ',\n",
       "  '하면 모든 서류에 서명 받게 된다. 이후 Challan No.라는 인도 관세 납부를 위한 번호를 부여받게 되고, 이를 근거로 관세를\\n완납하게 되면 물품을 반출할 수 있다. 또한, ',\n",
       "  '서는 해\\n당 품목의 관세를 납부해야하는데, 다시 반출할 시 장치했던 시간에 비례하여 관세를 환급받을 수 있다. 인도 내로 반입되지 않고 바로 반\\n출할 경우 최대 98%까지 환급이 ',\n",
       "  'rvalue)를 문제 삼아 직권으로 상품 가치를 정하고 높은 관세를 부과하는\\n경우도 종종 발생한다.  \\n \\n  ㅇ FTA 사후 협정 적용 불가능: 인도는 공식적으로는 FTA 사후 ',\n",
       "  '5. 통관 및 운송\\n \\n \\n가. 통관제도\\n  \\n \\n통관 유형별 절차\\n \\n1) 정식통관 \\n \\n인도에서 일반적인 경우 통관에 소요되는 시간은 행정상 운송 수입의 경우 3~4 근무일, ',\n",
       "  '1-4570 9700\\n이메일 YsCHANG@kglindia.com\\n홈페이지 http://kglindia.com/\\n비고 한국업체 ',\n",
       "  '후부터 체화료가 부과한다. \\n \\n2) 임시 통관 \\n \\n인도에 들여온 품목을 사용하지 않고 24개월 이내에 다시 반출할 목적이 있는 경우 임시통관이 이루어지게 된다. 임시통관을 위해',\n",
       "  'ion Temporaire이라는 임시통관을 뜻하는 불어와 Temporary Admission의 영어 그리고 수첩\\n을 뜻하는 불어 Carnet의 머리글자 조합으로, 임시 통관을 위한',\n",
       "  'ms Document)의 일종으로 물품의 임시 통관 시 관세\\n및 보증금을 제공하지 않아도 되는 일종의 보증서 역할 및 수출입 신고 시 세관에 제출하는 수출입 신고서 역할을 한다. ',\n",
       "  ' \\n \\n3) 전시물품의 통관  \\n \\n전시·박람회, 학회, 세미나, 견본품 및 각종 회의를 위한 물품의 통관은 관세가 면제된다. 하지만 그 관세액이 5000루피를 초과해서는 안\\n되며',\n",
       "  '\\n \\n    - 9804.10.00 의약품 \\n    - 9805.10.00 가공 또는 가공되지 않은 고기, 생선, 야채 등의 음식물 및 비누, 과일 등의 생활용품 \\n    - 98',\n",
       "  '제한 품목의 경우 그에 해당하는 수입 라이센스를 발부받아 수입할 수 있다\\n.   \\n \\n통관 시 유의사항\\n \\n  ㅇ 통관의 지연: 인도의 통관은 행정상 일반적으로 3~4 근무일이 소',\n",
       "  '10th Floor, Lotus Corporate Park, Off Jay Coach Flyover, Western Express Highway,\\nGoregaon (E), Mumb',\n",
       "  ' 않으나 필요 허가증 또는 라이센스를 수입신고 시 수입 서류와 함께 세관에 제출해야 한다. 식물, 씨앗, 과일의 경우\\n동식물 검역소에서 샘플의 테스트를 통해 발부받을 수 있으며, ',\n",
       "  '04.90.00 기타  \\n \\n인도 상공국 산하 무역국(Directorate General of Foreign Trade)은 위의 3가지 분류 HS코드의 과세가격에 총 42.08%의',\n",
       "  '도 증빙이 충분치 않다는 이유로 통관을 거부하는 사례도 자주 발생한다.  \\n \\n  ㅇ 인도 지역별 세관관할: 인도의 세관 행정은 명목상 통일되어 있으나, 지역별 차이나 관할 세관 ',\n",
       "  ' \\n5) 허가 통관 \\n \\n수입의 제한 품목 및 식물, 씨앗, 과일 등 허가증이나 수입 라이센스가 필요로하는 품목의 경우 허가 통관을 실시하게 된다. 정식 통관과\\n그 절차가 다르지는',\n",
       "  ' 관세를 부과\\n하고 있다. 다만, 수입 제한·금지 품목으로 분류되지 않으며, 자가사용으로 판단되는 물픔은 면세된다.  ',\n",
       "  ' 1년에 그 누적 관세액이 60,000루피를 초과하거나 샘플의 개수가 15개를 초과해서는 안 된다. 샘플의 가치가 10,000루피 이하일\\n경우 관세가 면제되나, 샘플의 가치가 10',\n",
       "  ' 발생한다. 인도는 한국과 달리 통관 단계(Appraiser Section)에서 관세평가를 하는데, 중고 기계\\n등과 같은 물품의 경우 송장(Invoice)상의 가격과소평가(Unde',\n",
       "  '/contact-us/contact-details/',\n",
       "  '요된다. 이를 단축하기 위해 통관 시스템 현대화를 위해 많은 노력을\\n기울이지만 아직까지 그 행정 시스템이 완전하지 않으며, 한국과 다르게 거의 모든 서류를 오프라인으로 직접 제출해',\n",
       "  '1)44-4343-2716\\n이메일 James@taewoong.in\\n홈페이지 http://www.e-tgl.com/eng/company02.do\\n비고 한국업체 \\n주소416, 4th ',\n",
       "  ' 있을 시 이를 수정하기가 매우 어려우며 이로 인해 통관\\n절차가 2, 3주씩 지연되기도 한다. 영문 한 글자 오타를 수정하는 데 3주를 허비해야 할 수도 있으며, 허위신고를 이유로',\n",
       "  'lot No.20, Survey No.12,\\n전화번호 +91)40-71204284\\n이메일 customerservice@gati.com\\n홈페이지 https://www.gati.com',\n",
       "  ' 수첩을 말한다. ATA 협약에는 인도를 포함하여 전 세계 71개국이 서명하\\n여 발효 중이며, ATA 통관 수첩은 국제 관세 서류(International Uniform Custo',\n",
       "  '88\\n이메일 SUCHELO.KIM@Cj.net\\n홈페이지 https://www.cjlogistics.com/en/network/en-in\\n비고 한국업체 \\n주소G - 1001/02, ',\n",
       "  'ai - 400 063. INDIA\\n전화번호 +91)22-62686666\\n이메일 ffcl@firstflight.net\\n홈페이지 https://firstflight.net/\\n주소 P',\n",
       "  '야 하기 때문에 통관\\n지연이 자주 발생한다. 또한, 사소한 서류 기재 요류 등을 이유로 통관이 장기간 지연되거나, 이를 빌미로 뒷돈을 요구하는 경우가 발생하\\n기도 한다.    \\n ',\n",
       "  '당국 간 소통 미비로 인하여 관세통관\\n상의 애로 해소가 발생하는 경우가 있다. 사전품목분류 심사제도의 경우에도 각 관할 세관별로 운영할 가능성이 높으며, 이에 한 관할지에\\n서 사전',\n",
       "  'nd Floor, -6,, Street Number 6, Mahipalpur Extension, Mahipalpur, New\\nDelhi, Delhi 110037\\n전화번호 +91)1',\n",
       "  ' 중이라는 증명서를 제출하면,\\nFTA 사후 협정 적용을 받아주는 경우가 있으나 통관을 담당하는 세관 공무원의 재량이 크게 작용한다. 또한, 관세 혜택이 주어지는 다른\\n제도의 경우에',\n",
       "  '정식통관의 경우 인도 세관은 일반적으로 화물 도착 후 7일 이후부터 체화료(Demurrage\\nCharge)를 부과하고, 컨테이너 운송의 경우 5일 이후부터 항공운송인 경우 3일 이',\n",
       "  ' \\n 주소 No 75 beekeyen towers coral merchant street manady Chennai, Chennai, Tamil Nadu 600001\\n전화번호 +9',\n",
       "  '항공 운송은 약 1~2 근무일이 소요된다. 일단 물\\n품이 입항하게 되면 보세구역장치에 적하되고, 이후 전자데이터 교환(EDI) 신고 또는 수작업신고 통해 수입신고를 하게 된다. 이',\n",
       "  ',000루피 이상일 경우 9개월 안에 반출 되어야 하며, 필요의 경우 각 세관의 Assistant\\nCommissioner of Customs 권한으로 그 기간을 연장할 수 있다. ',\n",
       "  '세관에서 판단하여 고가의 샘플의 경우 보증 관세를 지불하고 9개월 안\\n에 재 반출한다는 조건으로 통관할 수 있다.  \\n \\n4) 약식통관  \\n \\n인도는 2,000루피 이하의 제품의 ',\n",
       "  ' 과태료가 발생할\\n수 있다.   \\n \\n \\n나. 주요 포워딩 업체 및 통관업체\\n \\n \\nㅇ KGL Network Private Limited\\n \\n주소Plot No. 261-262, 2',\n",
       "  '국가정보(무역-통관 및 운송) 항목은 \"공공누리 1유형 출처표시\" 조건에 따라\\n이용 할 수 있습니다.',\n",
       "  '후 인도\\n관세청의 수입요건, 관세 평가 등을 검사하는 Appraiser Section과 관련 서류 및 관세율을 재점검하는 Audit Section 과정을 거치게 되\\n며, 이를 통과',\n",
       "  ' \\nㅇ Taewoong Logistics\\n \\n \\nㅇ CJ Korea Express India Pvt. Ltd\\n \\n \\nㅇ FIRST FLIGHT\\n \\n \\nㅇ Gati Ltd.\\n \\n \\n',\n",
       "  '\\n  ㅇ 통관 정보의 불투명: 인도의 관세 행정은 한국에 비해 그 정보 및 기준이 전반적으로 불투명하며, 실무선의 재량권이 크고 융통성 없\\n는 처리 관행으로 인해 통관 애로가 자주',\n",
       "  'Floor, Suncity Business Tower, Sector 54, Golf Course Road, Gurugram, Haryana\\n122002\\n전화번호 124-457-66',\n",
       "  '가능하나, 인도 내 해당 물품이 사용될 경우 기간과 상관없이 관세의 환급이 불가하다. \\n \\n  ㅇ ATA Carnet \\n    - ATA 까르네(ATA Carnet)는 Admiss'],\n",
       " 'uris': None,\n",
       " 'data': None,\n",
       " 'included': ['metadatas', 'documents']}"
      ]
     },
     "execution_count": 10,
     "metadata": {},
     "output_type": "execute_result"
    }
   ],
   "source": [
    "# vectorDB에 들어갔는지 확인하기\n",
    "database = vectorDB.get()   # database = vectorDB._collection.get(include=[\"metadatas\"])        # 이렇게 하면 documents 내용 빼고 ids랑 metadatas만 깔끔하게 가져와서 볼 수 있음\n",
    "\n",
    "database\n",
    "# 비어 있는것을 확인할 수 있습니다."
   ]
  },
  {
   "cell_type": "markdown",
   "metadata": {},
   "source": [
    "## 원하는 pdf파일의 내용들 삭제하기"
   ]
  },
  {
   "cell_type": "code",
   "execution_count": 11,
   "metadata": {},
   "outputs": [],
   "source": [
    "pdf_file = '[정책][제약산업정보포털][2019.04.08]인도 통관 및 운송.pdf'"
   ]
  },
  {
   "cell_type": "code",
   "execution_count": 12,
   "metadata": {},
   "outputs": [
    {
     "name": "stdout",
     "output_type": "stream",
     "text": [
      "[벡터 DB 삭제] 문서 ID [[정책][제약산업정보포털][2019.04.08]인도 통관 및 운송.pdf]의 임베딩을 벡터 DB에서 삭제했습니다.\n"
     ]
    }
   ],
   "source": [
    "pipeline.delete_vector_db_by_doc_id(pdf_file)"
   ]
  },
  {
   "cell_type": "code",
   "execution_count": 13,
   "metadata": {},
   "outputs": [
    {
     "data": {
      "text/plain": [
       "{'ids': [],\n",
       " 'embeddings': None,\n",
       " 'metadatas': [],\n",
       " 'documents': None,\n",
       " 'uris': None,\n",
       " 'data': None,\n",
       " 'included': ['metadatas']}"
      ]
     },
     "execution_count": 13,
     "metadata": {},
     "output_type": "execute_result"
    }
   ],
   "source": [
    "all_documents = vectorDB._collection.get(include=[\"metadatas\"])\n",
    "\n",
    "all_documents\n",
    "# 삭제 된거 확인 "
   ]
  },
  {
   "cell_type": "markdown",
   "metadata": {},
   "source": [
    "### 쿼리를 통해 VectorDB에 유사도 기준 유사도가 높은 내용을 가져와 본다."
   ]
  },
  {
   "cell_type": "code",
   "execution_count": 14,
   "metadata": {},
   "outputs": [
    {
     "name": "stderr",
     "output_type": "stream",
     "text": [
      "100%|██████████| 4/4 [00:00<?, ?it/s]\n"
     ]
    },
    {
     "name": "stdout",
     "output_type": "stream",
     "text": [
      "Added 25 new documents to the vector store\n"
     ]
    },
    {
     "name": "stderr",
     "output_type": "stream",
     "text": [
      "100%|██████████| 27/27 [00:00<00:00, 26226.54it/s]\n"
     ]
    },
    {
     "name": "stdout",
     "output_type": "stream",
     "text": [
      "Added 126 new documents to the vector store\n"
     ]
    }
   ],
   "source": [
    "# 다시 파일 넣어 VectorDB 채우고 \n",
    "with open(upload_file, 'rb') as file:                               # 비슷하거나 같은 내용이더라도, 새롭게 업데이트된 내용이라 넣어주고 싶다면 force=True로 \n",
    "    pipeline.update_vector_db(file, force=True, chunk_size=200)     # 이렇게 정확히 명시해줘도 되고 \n",
    "    # pipeline.update_vector_db(file)                               # default값으로 넣어줘도 됩니다. \n",
    "\n",
    "upload_file = 'documents\\[한인도관계][주인도대사관][2024.04.26]인도경제소식지.pdf'\n",
    "with open(upload_file, 'rb') as file:                               # 비슷하거나 같은 내용이더라도, 새롭게 업데이트된 내용이라 넣어주고 싶다면 force=True로 \n",
    "    pipeline.update_vector_db(file)                               # default값으로 넣어줘도 됩니다. "
   ]
  },
  {
   "cell_type": "code",
   "execution_count": 12,
   "metadata": {},
   "outputs": [
    {
     "name": "stdout",
     "output_type": "stream",
     "text": [
      "3\n",
      "5. 통관 및 운송\n",
      " \n",
      " \n",
      "가. 통관제도\n",
      "  \n",
      " \n",
      "통관 유형별 절차\n",
      " \n",
      "1) 정식통관 \n",
      " \n",
      "인도에서 일반적인 경우 통관에 소요되는 시간은 행정상 운송 수입의 경우 3~4 근무일, \n",
      "--------------------------------------------------\n",
      "\n",
      "0\n",
      "문서 내용: 5. 통관 및 운송\n",
      " \n",
      " \n",
      "가. 통관제도\n",
      "  \n",
      " \n",
      "통관 유형별 절차\n",
      " \n",
      "1) 정식통관 \n",
      " \n",
      "인도에서 일반적인 경우 통관에 소요되는 시간은 행정상 운송 수입의 경우 3~4 근무일, \n",
      "------------------------------\n",
      "1\n",
      "문서 내용: 국가정보(무역-통관 및 운송) 항목은 \"공공누리 1유형 출처표시\" 조건에 따라\n",
      "이용 할 수 있습니다.\n",
      "------------------------------\n",
      "2\n",
      "문서 내용: 후부터 체화료가 부과한다. \n",
      " \n",
      "2) 임시 통관 \n",
      " \n",
      "인도에 들여온 품목을 사용하지 않고 24개월 이내에 다시 반출할 목적이 있는 경우 임시통관이 이루어지게 된다. 임시통관을 위해\n",
      "------------------------------\n"
     ]
    }
   ],
   "source": [
    "# 문서 조회1\n",
    "query = '인도 통관 및 운송'   # 질문할 문장\n",
    "k = 3                      # 유사도 상위 k 개 문서 가져오기.\n",
    "\n",
    "result = vectorDB.similarity_search(query, k = k) #← 데이터베이스에서 유사도가 높은 문서를 가져옴\n",
    "print(len(result))\n",
    "print(result[0].page_content)\n",
    "\n",
    "print('-'*50)\n",
    "print()\n",
    "for i, doc in enumerate(result):\n",
    "    print(i)\n",
    "    print(f\"문서 내용: {doc.page_content}\") # 문서 내용 표시\n",
    "    print('---'*10)"
   ]
  },
  {
   "cell_type": "markdown",
   "metadata": {},
   "source": [
    "### MMR 검색 "
   ]
  },
  {
   "cell_type": "code",
   "execution_count": 13,
   "metadata": {},
   "outputs": [
    {
     "name": "stdout",
     "output_type": "stream",
     "text": [
      "4\n",
      "5. 통관 및 운송\n",
      " \n",
      " \n",
      "가. 통관제도\n",
      "  \n",
      " \n",
      "통관 유형별 절차\n",
      " \n",
      "1) 정식통관 \n",
      " \n",
      "인도에서 일반적인 경우 통관에 소요되는 시간은 행정상 운송 수입의 경우 3~4 근무일, \n"
     ]
    }
   ],
   "source": [
    "mmr_docs = vectorDB.max_marginal_relevance_search(query, k=4, fetch_k=10)\n",
    "print(len(mmr_docs))\n",
    "print(mmr_docs[0].page_content)"
   ]
  },
  {
   "cell_type": "code",
   "execution_count": 14,
   "metadata": {},
   "outputs": [
    {
     "name": "stdout",
     "output_type": "stream",
     "text": [
      "경우 약식통관이 가능하다. 이는 전자상거래의 물품에도 적용된다. 인도는 2,000루피 이하의 품목을\n",
      "3가지 분류로 나누어 HS코드를 적용하고 있으며, 그 분류는 다음과 같다.   \n"
     ]
    }
   ],
   "source": [
    "# 다음은 MMR 검색 결과 중 가장 낮은 순위(이 경우 4번째)의 문서의 내용을 출력합니다.\n",
    "print(mmr_docs[-1].page_content)"
   ]
  },
  {
   "cell_type": "code",
   "execution_count": 15,
   "metadata": {},
   "outputs": [
    {
     "data": {
      "text/plain": [
       "0.11479044734842947"
      ]
     },
     "execution_count": 15,
     "metadata": {},
     "output_type": "execute_result"
    }
   ],
   "source": [
    "question = \"인도 통관 및 운송에 대해서 알려줘.\"\n",
    "\n",
    "results = vectorDB.similarity_search_with_score(question, k=1)\n",
    "\n",
    "results[0][1]"
   ]
  },
  {
   "cell_type": "code",
   "execution_count": 16,
   "metadata": {},
   "outputs": [
    {
     "data": {
      "text/plain": [
       "0.2179300793545511"
      ]
     },
     "execution_count": 16,
     "metadata": {},
     "output_type": "execute_result"
    }
   ],
   "source": [
    "question = \"럭키비키가 무엇인지 알려줘.\"\n",
    "\n",
    "results = vectorDB.similarity_search_with_score(question, k=3)\n",
    "\n",
    "results[0][1]"
   ]
  },
  {
   "cell_type": "code",
   "execution_count": null,
   "metadata": {},
   "outputs": [],
   "source": []
  }
 ],
 "metadata": {
  "kernelspec": {
   "display_name": "bigproject2",
   "language": "python",
   "name": "python3"
  },
  "language_info": {
   "codemirror_mode": {
    "name": "ipython",
    "version": 3
   },
   "file_extension": ".py",
   "mimetype": "text/x-python",
   "name": "python",
   "nbconvert_exporter": "python",
   "pygments_lexer": "ipython3",
   "version": "3.11.9"
  }
 },
 "nbformat": 4,
 "nbformat_minor": 2
}
